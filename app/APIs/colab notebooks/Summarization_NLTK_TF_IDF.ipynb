{
  "nbformat": 4,
  "nbformat_minor": 0,
  "metadata": {
    "colab": {
      "name": "Summarization_NLTK_TF_IDF.ipynb",
      "provenance": [],
      "collapsed_sections": []
    },
    "kernelspec": {
      "name": "python3",
      "display_name": "Python 3"
    },
    "language_info": {
      "name": "python"
    }
  },
  "cells": [
    {
      "cell_type": "code",
      "metadata": {
        "colab": {
          "base_uri": "https://localhost:8080/"
        },
        "id": "GgQniVPiqUC6",
        "outputId": "f4c603fb-c5ff-40db-b65e-1a89e4061b92"
      },
      "source": [
        "import pandas as pd\n",
        "import nltk\n",
        "import numpy as np\n",
        "from nltk.tokenize import sent_tokenize,word_tokenize\n",
        "from nltk.corpus import stopwords\n",
        "from nltk.stem import PorterStemmer, WordNetLemmatizer\n",
        "import re\n",
        "from nltk.sentiment import SentimentIntensityAnalyzer\n",
        "import operator\n",
        "\n",
        "nltk.download('vader_lexicon')\n",
        "nltk.download('punkt')\n",
        "nltk.download('stopwords')\n",
        "nltk.download('wordnet')\n",
        "nltk_stopwords= set(stopwords.words('english'))\n",
        "\n",
        "pd.set_option('display.max_rows', None)\n",
        "pd.set_option('display.max_columns', None)\n",
        "pd.set_option('display.width', None)\n",
        "pd.set_option('display.max_colwidth', -1)"
      ],
      "execution_count": null,
      "outputs": [
        {
          "output_type": "stream",
          "text": [
            "/usr/local/lib/python3.7/dist-packages/nltk/twitter/__init__.py:20: UserWarning: The twython library has not been installed. Some functionality from the twitter package will not be available.\n",
            "  warnings.warn(\"The twython library has not been installed. \"\n"
          ],
          "name": "stderr"
        },
        {
          "output_type": "stream",
          "text": [
            "[nltk_data] Downloading package vader_lexicon to /root/nltk_data...\n",
            "[nltk_data] Downloading package punkt to /root/nltk_data...\n",
            "[nltk_data]   Unzipping tokenizers/punkt.zip.\n",
            "[nltk_data] Downloading package stopwords to /root/nltk_data...\n",
            "[nltk_data]   Unzipping corpora/stopwords.zip.\n",
            "[nltk_data] Downloading package wordnet to /root/nltk_data...\n",
            "[nltk_data]   Unzipping corpora/wordnet.zip.\n"
          ],
          "name": "stdout"
        },
        {
          "output_type": "stream",
          "text": [
            "/usr/local/lib/python3.7/dist-packages/ipykernel_launcher.py:20: FutureWarning: Passing a negative integer is deprecated in version 1.0 and will not be supported in future version. Instead, use None to not limit the column width.\n"
          ],
          "name": "stderr"
        }
      ]
    },
    {
      "cell_type": "code",
      "metadata": {
        "id": "ejgqE6auqb6c",
        "colab": {
          "base_uri": "https://localhost:8080/",
          "height": 530
        },
        "outputId": "905d04e5-e724-4169-81c1-0b2d046cdee9"
      },
      "source": [
        "df= pd.read_json('/content/drive/MyDrive/amazon_data_scrapping/Data files/product2_reviews_details.json', orient='index')\n",
        "df.head()"
      ],
      "execution_count": null,
      "outputs": [
        {
          "output_type": "execute_result",
          "data": {
            "text/html": [
              "<div>\n",
              "<style scoped>\n",
              "    .dataframe tbody tr th:only-of-type {\n",
              "        vertical-align: middle;\n",
              "    }\n",
              "\n",
              "    .dataframe tbody tr th {\n",
              "        vertical-align: top;\n",
              "    }\n",
              "\n",
              "    .dataframe thead th {\n",
              "        text-align: right;\n",
              "    }\n",
              "</style>\n",
              "<table border=\"1\" class=\"dataframe\">\n",
              "  <thead>\n",
              "    <tr style=\"text-align: right;\">\n",
              "      <th></th>\n",
              "      <th>reviewDate</th>\n",
              "      <th>reviewRating</th>\n",
              "      <th>reviewText</th>\n",
              "      <th>reviewTitle</th>\n",
              "    </tr>\n",
              "  </thead>\n",
              "  <tbody>\n",
              "    <tr>\n",
              "      <th>0</th>\n",
              "      <td>Reviewed in the United States on February 4, 2020</td>\n",
              "      <td>2.0 out of 5 stars</td>\n",
              "      <td>This is a beautiful block that allows you to show your nice knives in a cool way. It worked great for my larger knives, if anything the magnets were almost overly aggressive on them. But for some reason it really struggled on my 6” chef’s knives or smaller. I have a set of Japanese VG10 kitchen knives and an alternate set of IKEA blades that I go back forth between depending on what I’m cooking or doing. The big chefs knives and santoku’s clung well for both sets. When we got to the smaller knives in either set they either hung loosely and actually twisted clanging into the others or didn’t stick at all in the case of either paring knife. Not sure if there aren’t enough magnets and they weren’t positioned well enough to catch them or what. Pretty holder, and was great for the large blades, but fell short for displaying full sets.</td>\n",
              "      <td>Good for large knives, not so much for smaller</td>\n",
              "    </tr>\n",
              "    <tr>\n",
              "      <th>1</th>\n",
              "      <td>Reviewed in the United States on January 18, 2021</td>\n",
              "      <td>5.0 out of 5 stars</td>\n",
              "      <td>I love the magnetic knife block for :\\n-its slim silhouette ( it freed up some space on my counter )\\n- for its looks and for its safety acrylic shield ( from my cats who surely get on the counter when I’m not around)\\n\\nI thought long and hard before I decided on this knife block and I love it.\\nIn the pictures, I showed both sides of the block. I was able to put, not only my working knives but also my 6 steak knives! It might be overcrowded for some, but I love having all these knives handy and it freed up a drawer!</td>\n",
              "      <td>This is the best knife block. Look no further!</td>\n",
              "    </tr>\n",
              "    <tr>\n",
              "      <th>2</th>\n",
              "      <td>Reviewed in the United States on September 23, 2020</td>\n",
              "      <td>5.0 out of 5 stars</td>\n",
              "      <td>I was getting really tired of two blocky, dirt-collecting wooden knife blocks reminding me of the 1980s on the kitchen island. As I am doing more at-home cooking now, I also wanted to reduce clutter. And as a fan of cooking shows, I respect the advice of certain chefs both professional and home. So, I looked into reducing the number of knives and reducing their footprint on my valuable but limited counter space while also adding a bit of style.\\n\\nI still have most of the old knives and steak knives, in a drawer for those few times when I might need them. Here's the trick for me: the Secura can only hold a few items and that is training me to use fewer tools to accomplish cooking tasks. This moves me to take more care and consideration in how I prepare meals and overall, I am more efficient.\\n\\nIt's only a knife holder, but it's a vital part of how I do at-home chef duties.</td>\n",
              "      <td>More than a countertop storage solution</td>\n",
              "    </tr>\n",
              "    <tr>\n",
              "      <th>3</th>\n",
              "      <td>Reviewed in the United States on October 7, 2020</td>\n",
              "      <td>5.0 out of 5 stars</td>\n",
              "      <td>My husband bought me a nice set of kitchen knives and ordered the magnetic knife holder to put them on. Works beautifully, and I'm happy with how the knives are presented on the knife holder. Very high quality magnetic wood and the glass shield is a nice accent for more protection to the knives.</td>\n",
              "      <td>A nice edition to the kitchen accessories!</td>\n",
              "    </tr>\n",
              "    <tr>\n",
              "      <th>4</th>\n",
              "      <td>Reviewed in the United States on October 9, 2020</td>\n",
              "      <td>5.0 out of 5 stars</td>\n",
              "      <td>I just replaced my plastic rod insert knife holder with this amazing magnetic one. With the old one, all of my knives couldn’t fit. They would poke out of the top. I cut myself once reaching for a knife because of that. Also, the plastic insert made me have to constantly pull out a knife to see if I got the right one since the knife blade was in the block unseen. Plus, there was no way to pull out the insert and clean it.\\n\\nThis magnetic block exceeds expectations! It takes up less counter space than my old block. It is slim and sleek. It looks like more expensive blocks that sell for hundreds of dollars. I love the see through ability. No more guessing which knife I’m pulling out. It comes with brushes to clean it. If you have mismatched knives like I do, this block handles them. I was able to fit 14 knives!</td>\n",
              "      <td>Slim and sleek</td>\n",
              "    </tr>\n",
              "  </tbody>\n",
              "</table>\n",
              "</div>"
            ],
            "text/plain": [
              "                                            reviewDate        reviewRating  \\\n",
              "0  Reviewed in the United States on February 4, 2020    2.0 out of 5 stars   \n",
              "1  Reviewed in the United States on January 18, 2021    5.0 out of 5 stars   \n",
              "2  Reviewed in the United States on September 23, 2020  5.0 out of 5 stars   \n",
              "3  Reviewed in the United States on October 7, 2020     5.0 out of 5 stars   \n",
              "4  Reviewed in the United States on October 9, 2020     5.0 out of 5 stars   \n",
              "\n",
              "                                                                                                                                                                                                                                                                                                                                                                                                                                                                                                                                                                                                                                                                                                                                                                                                                                                                                                               reviewText  \\\n",
              "0  This is a beautiful block that allows you to show your nice knives in a cool way. It worked great for my larger knives, if anything the magnets were almost overly aggressive on them. But for some reason it really struggled on my 6” chef’s knives or smaller. I have a set of Japanese VG10 kitchen knives and an alternate set of IKEA blades that I go back forth between depending on what I’m cooking or doing. The big chefs knives and santoku’s clung well for both sets. When we got to the smaller knives in either set they either hung loosely and actually twisted clanging into the others or didn’t stick at all in the case of either paring knife. Not sure if there aren’t enough magnets and they weren’t positioned well enough to catch them or what. Pretty holder, and was great for the large blades, but fell short for displaying full sets.                                                \n",
              "1  I love the magnetic knife block for :\\n-its slim silhouette ( it freed up some space on my counter )\\n- for its looks and for its safety acrylic shield ( from my cats who surely get on the counter when I’m not around)\\n\\nI thought long and hard before I decided on this knife block and I love it.\\nIn the pictures, I showed both sides of the block. I was able to put, not only my working knives but also my 6 steak knives! It might be overcrowded for some, but I love having all these knives handy and it freed up a drawer!                                                                                                                                                                                                                                                                                                                                                                              \n",
              "2  I was getting really tired of two blocky, dirt-collecting wooden knife blocks reminding me of the 1980s on the kitchen island. As I am doing more at-home cooking now, I also wanted to reduce clutter. And as a fan of cooking shows, I respect the advice of certain chefs both professional and home. So, I looked into reducing the number of knives and reducing their footprint on my valuable but limited counter space while also adding a bit of style.\\n\\nI still have most of the old knives and steak knives, in a drawer for those few times when I might need them. Here's the trick for me: the Secura can only hold a few items and that is training me to use fewer tools to accomplish cooking tasks. This moves me to take more care and consideration in how I prepare meals and overall, I am more efficient.\\n\\nIt's only a knife holder, but it's a vital part of how I do at-home chef duties.   \n",
              "3  My husband bought me a nice set of kitchen knives and ordered the magnetic knife holder to put them on. Works beautifully, and I'm happy with how the knives are presented on the knife holder. Very high quality magnetic wood and the glass shield is a nice accent for more protection to the knives.                                                                                                                                                                                                                                                                                                                                                                                                                                                                                                                                                                                                                 \n",
              "4  I just replaced my plastic rod insert knife holder with this amazing magnetic one. With the old one, all of my knives couldn’t fit. They would poke out of the top. I cut myself once reaching for a knife because of that. Also, the plastic insert made me have to constantly pull out a knife to see if I got the right one since the knife blade was in the block unseen. Plus, there was no way to pull out the insert and clean it.\\n\\nThis magnetic block exceeds expectations! It takes up less counter space than my old block. It is slim and sleek. It looks like more expensive blocks that sell for hundreds of dollars. I love the see through ability. No more guessing which knife I’m pulling out. It comes with brushes to clean it. If you have mismatched knives like I do, this block handles them. I was able to fit 14 knives!                                                                    \n",
              "\n",
              "                                       reviewTitle  \n",
              "0   Good for large knives, not so much for smaller  \n",
              "1   This is the best knife block. Look no further!  \n",
              "2   More than a countertop storage solution         \n",
              "3   A nice edition to the kitchen accessories!      \n",
              "4   Slim and sleek                                  "
            ]
          },
          "metadata": {
            "tags": []
          },
          "execution_count": 2
        }
      ]
    },
    {
      "cell_type": "code",
      "metadata": {
        "id": "LyGOLp54rB9s"
      },
      "source": [
        "df['reviewDate']= df['reviewDate'].apply(lambda date:re.sub('Reviewed in the United States on ',\"\", date).strip())\n",
        "df['reviewRating']= df['reviewRating'].apply(lambda rating: re.sub(' out of 5 stars',\"\", rating).strip()) \n",
        "df['reviewRating']= df.reviewRating.astype('float')\n",
        "df['reviewClass']=df.apply(lambda row: 1 if row.reviewRating>=4.0 else 0, axis=1)\n",
        "# df['reviewText']= df['reviewTitle'] + '. '+ df['reviewText']\n",
        "df['reviewText']= df['reviewText'].apply(lambda review: review.lower())\n",
        "df['reviewText'] = df['reviewText'].apply(lambda review:re.sub(\"\\n\", ' ', review))\n",
        "\n",
        "#shortforms\n",
        "df['reviewText']= df['reviewText'].apply(lambda review: re.sub('bc|b/c', 'because', review))\n",
        "df['reviewText']= df['reviewText'].apply(lambda review: re.sub(\"wasn’t\", 'was not', review))\n",
        "df['reviewText']= df['reviewText'].apply(lambda review: re.sub(\"i’m\", 'i am', review))\n",
        "df['reviewText']= df['reviewText'].apply(lambda review: re.sub(\"i'm\", 'i am', review))\n",
        "df['reviewText']= df['reviewText'].apply(lambda review: re.sub(\"doesn’t\", 'does not', review))\n",
        "df['reviewText']= df['reviewText'].apply(lambda review: re.sub(\"doesn't\", 'does not', review))\n",
        "df['reviewText']= df['reviewText'].apply(lambda review: re.sub(\"didn’t\", 'did not', review))\n",
        "df['reviewText']= df['reviewText'].apply(lambda review: re.sub(\"won't\", 'will not', review))\n",
        "df['reviewText']= df['reviewText'].apply(lambda review: re.sub(\"won’t\", 'will not', review))\n",
        "df['reviewText']= df['reviewText'].apply(lambda review: re.sub(\"don’t\", 'do not', review))\n",
        "df['reviewText']= df['reviewText'].apply(lambda review: re.sub(\"can't\", 'can not', review))\n",
        "df['reviewText']= df['reviewText'].apply(lambda review: re.sub(\"it's\", 'it is', review))\n",
        "df['reviewText']= df['reviewText'].apply(lambda review: re.sub(\"it’s\", 'it is', review))\n",
        "# df['reviewText']= df['reviewText'].apply(lambda review: re.sub(\"(\\\\d|\\\\W)+\", ' ', review))\n",
        "df['reviewText']= df['reviewText'].apply(lambda review: re.sub(\"(\\\\d)+\", ' ', review))"
      ],
      "execution_count": null,
      "outputs": []
    },
    {
      "cell_type": "code",
      "metadata": {
        "id": "nfrMyOnQYve5",
        "colab": {
          "base_uri": "https://localhost:8080/",
          "height": 481
        },
        "outputId": "0cb8c4bc-d4e2-48df-fc48-5e94bb776c3d"
      },
      "source": [
        "df.head()"
      ],
      "execution_count": null,
      "outputs": [
        {
          "output_type": "execute_result",
          "data": {
            "text/html": [
              "<div>\n",
              "<style scoped>\n",
              "    .dataframe tbody tr th:only-of-type {\n",
              "        vertical-align: middle;\n",
              "    }\n",
              "\n",
              "    .dataframe tbody tr th {\n",
              "        vertical-align: top;\n",
              "    }\n",
              "\n",
              "    .dataframe thead th {\n",
              "        text-align: right;\n",
              "    }\n",
              "</style>\n",
              "<table border=\"1\" class=\"dataframe\">\n",
              "  <thead>\n",
              "    <tr style=\"text-align: right;\">\n",
              "      <th></th>\n",
              "      <th>reviewDate</th>\n",
              "      <th>reviewRating</th>\n",
              "      <th>reviewText</th>\n",
              "      <th>reviewTitle</th>\n",
              "    </tr>\n",
              "  </thead>\n",
              "  <tbody>\n",
              "    <tr>\n",
              "      <th>0</th>\n",
              "      <td>February 4, 2020</td>\n",
              "      <td>2.0</td>\n",
              "      <td>good for large knives, not so much for smaller. this is a beautiful block that allows you to show your nice knives in a cool way. it worked great for my larger knives, if anything the magnets were almost overly aggressive on them. but for some reason it really struggled on my  ” chef’s knives or smaller. i have a set of japanese vg  kitchen knives and an alternate set of ikea blades that i go back forth between depending on what i am cooking or doing. the big chefs knives and santoku’s clung well for both sets. when we got to the smaller knives in either set they either hung loosely and actually twisted clanging into the others or did not stick at all in the case of either paring knife. not sure if there aren’t enough magnets and they weren’t positioned well enough to catch them or what. pretty holder, and was great for the large blades, but fell short for displaying full sets.</td>\n",
              "      <td>Good for large knives, not so much for smaller</td>\n",
              "    </tr>\n",
              "    <tr>\n",
              "      <th>1</th>\n",
              "      <td>January 18, 2021</td>\n",
              "      <td>5.0</td>\n",
              "      <td>this is the best knife block. look no further!. i love the magnetic knife block for : -its slim silhouette ( it freed up some space on my counter ) - for its looks and for its safety acrylic shield ( from my cats who surely get on the counter when i am not around)  i thought long and hard before i decided on this knife block and i love it. in the pictures, i showed both sides of the block. i was able to put, not only my working knives but also my   steak knives! it might be overcrowded for some, but i love having all these knives handy and it freed up a drawer!</td>\n",
              "      <td>This is the best knife block. Look no further!</td>\n",
              "    </tr>\n",
              "    <tr>\n",
              "      <th>2</th>\n",
              "      <td>September 23, 2020</td>\n",
              "      <td>5.0</td>\n",
              "      <td>more than a countertop storage solution. i was getting really tired of two blocky, dirt-collecting wooden knife blocks reminding me of the  s on the kitchen island. as i am doing more at-home cooking now, i also wanted to reduce clutter. and as a fan of cooking shows, i respect the advice of certain chefs both professional and home. so, i looked into reducing the number of knives and reducing their footprint on my valuable but limited counter space while also adding a bit of style.  i still have most of the old knives and steak knives, in a drawer for those few times when i might need them. here's the trick for me: the secura can only hold a few items and that is training me to use fewer tools to accomplish cooking tasks. this moves me to take more care and consideration in how i prepare meals and overall, i am more efficient.  it is only a knife holder, but it is a vital part of how i do at-home chef duties.</td>\n",
              "      <td>More than a countertop storage solution</td>\n",
              "    </tr>\n",
              "    <tr>\n",
              "      <th>3</th>\n",
              "      <td>October 7, 2020</td>\n",
              "      <td>5.0</td>\n",
              "      <td>a nice edition to the kitchen accessories!. my husband bought me a nice set of kitchen knives and ordered the magnetic knife holder to put them on. works beautifully, and i am happy with how the knives are presented on the knife holder. very high quality magnetic wood and the glass shield is a nice accent for more protection to the knives.</td>\n",
              "      <td>A nice edition to the kitchen accessories!</td>\n",
              "    </tr>\n",
              "    <tr>\n",
              "      <th>4</th>\n",
              "      <td>October 9, 2020</td>\n",
              "      <td>5.0</td>\n",
              "      <td>slim and sleek. i just replaced my plastic rod insert knife holder with this amazing magnetic one. with the old one, all of my knives couldn’t fit. they would poke out of the top. i cut myself once reaching for a knife because of that. also, the plastic insert made me have to constantly pull out a knife to see if i got the right one since the knife blade was in the block unseen. plus, there was no way to pull out the insert and clean it.  this magnetic block exceeds expectations! it takes up less counter space than my old block. it is slim and sleek. it looks like more expensive blocks that sell for hundreds of dollars. i love the see through ability. no more guessing which knife i am pulling out. it comes with brushes to clean it. if you have mismatched knives like i do, this block handles them. i was able to fit   knives!</td>\n",
              "      <td>Slim and sleek</td>\n",
              "    </tr>\n",
              "  </tbody>\n",
              "</table>\n",
              "</div>"
            ],
            "text/plain": [
              "           reviewDate  reviewRating  \\\n",
              "0  February 4, 2020    2.0            \n",
              "1  January 18, 2021    5.0            \n",
              "2  September 23, 2020  5.0            \n",
              "3  October 7, 2020     5.0            \n",
              "4  October 9, 2020     5.0            \n",
              "\n",
              "                                                                                                                                                                                                                                                                                                                                                                                                                                                                                                                                                                                                                                                                                                                                                                                                                                                                                                                                                    reviewText  \\\n",
              "0   good for large knives, not so much for smaller. this is a beautiful block that allows you to show your nice knives in a cool way. it worked great for my larger knives, if anything the magnets were almost overly aggressive on them. but for some reason it really struggled on my  ” chef’s knives or smaller. i have a set of japanese vg  kitchen knives and an alternate set of ikea blades that i go back forth between depending on what i am cooking or doing. the big chefs knives and santoku’s clung well for both sets. when we got to the smaller knives in either set they either hung loosely and actually twisted clanging into the others or did not stick at all in the case of either paring knife. not sure if there aren’t enough magnets and they weren’t positioned well enough to catch them or what. pretty holder, and was great for the large blades, but fell short for displaying full sets.                                   \n",
              "1   this is the best knife block. look no further!. i love the magnetic knife block for : -its slim silhouette ( it freed up some space on my counter ) - for its looks and for its safety acrylic shield ( from my cats who surely get on the counter when i am not around)  i thought long and hard before i decided on this knife block and i love it. in the pictures, i showed both sides of the block. i was able to put, not only my working knives but also my   steak knives! it might be overcrowded for some, but i love having all these knives handy and it freed up a drawer!                                                                                                                                                                                                                                                                                                                                                                      \n",
              "2   more than a countertop storage solution. i was getting really tired of two blocky, dirt-collecting wooden knife blocks reminding me of the  s on the kitchen island. as i am doing more at-home cooking now, i also wanted to reduce clutter. and as a fan of cooking shows, i respect the advice of certain chefs both professional and home. so, i looked into reducing the number of knives and reducing their footprint on my valuable but limited counter space while also adding a bit of style.  i still have most of the old knives and steak knives, in a drawer for those few times when i might need them. here's the trick for me: the secura can only hold a few items and that is training me to use fewer tools to accomplish cooking tasks. this moves me to take more care and consideration in how i prepare meals and overall, i am more efficient.  it is only a knife holder, but it is a vital part of how i do at-home chef duties.   \n",
              "3   a nice edition to the kitchen accessories!. my husband bought me a nice set of kitchen knives and ordered the magnetic knife holder to put them on. works beautifully, and i am happy with how the knives are presented on the knife holder. very high quality magnetic wood and the glass shield is a nice accent for more protection to the knives.                                                                                                                                                                                                                                                                                                                                                                                                                                                                                                                                                                                                        \n",
              "4   slim and sleek. i just replaced my plastic rod insert knife holder with this amazing magnetic one. with the old one, all of my knives couldn’t fit. they would poke out of the top. i cut myself once reaching for a knife because of that. also, the plastic insert made me have to constantly pull out a knife to see if i got the right one since the knife blade was in the block unseen. plus, there was no way to pull out the insert and clean it.  this magnetic block exceeds expectations! it takes up less counter space than my old block. it is slim and sleek. it looks like more expensive blocks that sell for hundreds of dollars. i love the see through ability. no more guessing which knife i am pulling out. it comes with brushes to clean it. if you have mismatched knives like i do, this block handles them. i was able to fit   knives!                                                                                          \n",
              "\n",
              "                                       reviewTitle  \n",
              "0   Good for large knives, not so much for smaller  \n",
              "1   This is the best knife block. Look no further!  \n",
              "2   More than a countertop storage solution         \n",
              "3   A nice edition to the kitchen accessories!      \n",
              "4   Slim and sleek                                  "
            ]
          },
          "metadata": {
            "tags": []
          },
          "execution_count": 4
        }
      ]
    },
    {
      "cell_type": "code",
      "metadata": {
        "id": "0P47vw8Hu8XM"
      },
      "source": [
        "def get_sentiment(score):\n",
        "  if score>= 0.05:\n",
        "    return 1\n",
        "  else:\n",
        "    return 0\n",
        "\n",
        "sia_object= SentimentIntensityAnalyzer()\n",
        "df['compound']= df['reviewTitle'].apply(lambda review: sia_object.polarity_scores(review)['compound'])\n",
        "df['sentiment']= df['compound'].apply(lambda score: get_sentiment(score))"
      ],
      "execution_count": null,
      "outputs": []
    },
    {
      "cell_type": "code",
      "metadata": {
        "colab": {
          "base_uri": "https://localhost:8080/",
          "height": 514
        },
        "id": "nx13Zxz0aI-z",
        "outputId": "e531a50b-afe6-4b3b-dc82-5ad785c3790f"
      },
      "source": [
        "df.head()"
      ],
      "execution_count": null,
      "outputs": [
        {
          "output_type": "execute_result",
          "data": {
            "text/html": [
              "<div>\n",
              "<style scoped>\n",
              "    .dataframe tbody tr th:only-of-type {\n",
              "        vertical-align: middle;\n",
              "    }\n",
              "\n",
              "    .dataframe tbody tr th {\n",
              "        vertical-align: top;\n",
              "    }\n",
              "\n",
              "    .dataframe thead th {\n",
              "        text-align: right;\n",
              "    }\n",
              "</style>\n",
              "<table border=\"1\" class=\"dataframe\">\n",
              "  <thead>\n",
              "    <tr style=\"text-align: right;\">\n",
              "      <th></th>\n",
              "      <th>reviewDate</th>\n",
              "      <th>reviewRating</th>\n",
              "      <th>reviewText</th>\n",
              "      <th>reviewTitle</th>\n",
              "      <th>compound</th>\n",
              "      <th>sentiment</th>\n",
              "    </tr>\n",
              "  </thead>\n",
              "  <tbody>\n",
              "    <tr>\n",
              "      <th>0</th>\n",
              "      <td>February 4, 2020</td>\n",
              "      <td>2.0</td>\n",
              "      <td>good for large knives, not so much for smaller. this is a beautiful block that allows you to show your nice knives in a cool way. it worked great for my larger knives, if anything the magnets were almost overly aggressive on them. but for some reason it really struggled on my  ” chef’s knives or smaller. i have a set of japanese vg  kitchen knives and an alternate set of ikea blades that i go back forth between depending on what i am cooking or doing. the big chefs knives and santoku’s clung well for both sets. when we got to the smaller knives in either set they either hung loosely and actually twisted clanging into the others or did not stick at all in the case of either paring knife. not sure if there aren’t enough magnets and they weren’t positioned well enough to catch them or what. pretty holder, and was great for the large blades, but fell short for displaying full sets.</td>\n",
              "      <td>Good for large knives, not so much for smaller</td>\n",
              "      <td>0.4404</td>\n",
              "      <td>1</td>\n",
              "    </tr>\n",
              "    <tr>\n",
              "      <th>1</th>\n",
              "      <td>January 18, 2021</td>\n",
              "      <td>5.0</td>\n",
              "      <td>this is the best knife block. look no further!. i love the magnetic knife block for : -its slim silhouette ( it freed up some space on my counter ) - for its looks and for its safety acrylic shield ( from my cats who surely get on the counter when i am not around)  i thought long and hard before i decided on this knife block and i love it. in the pictures, i showed both sides of the block. i was able to put, not only my working knives but also my   steak knives! it might be overcrowded for some, but i love having all these knives handy and it freed up a drawer!</td>\n",
              "      <td>This is the best knife block. Look no further!</td>\n",
              "      <td>0.1007</td>\n",
              "      <td>1</td>\n",
              "    </tr>\n",
              "    <tr>\n",
              "      <th>2</th>\n",
              "      <td>September 23, 2020</td>\n",
              "      <td>5.0</td>\n",
              "      <td>more than a countertop storage solution. i was getting really tired of two blocky, dirt-collecting wooden knife blocks reminding me of the  s on the kitchen island. as i am doing more at-home cooking now, i also wanted to reduce clutter. and as a fan of cooking shows, i respect the advice of certain chefs both professional and home. so, i looked into reducing the number of knives and reducing their footprint on my valuable but limited counter space while also adding a bit of style.  i still have most of the old knives and steak knives, in a drawer for those few times when i might need them. here's the trick for me: the secura can only hold a few items and that is training me to use fewer tools to accomplish cooking tasks. this moves me to take more care and consideration in how i prepare meals and overall, i am more efficient.  it is only a knife holder, but it is a vital part of how i do at-home chef duties.</td>\n",
              "      <td>More than a countertop storage solution</td>\n",
              "      <td>0.3182</td>\n",
              "      <td>1</td>\n",
              "    </tr>\n",
              "    <tr>\n",
              "      <th>3</th>\n",
              "      <td>October 7, 2020</td>\n",
              "      <td>5.0</td>\n",
              "      <td>a nice edition to the kitchen accessories!. my husband bought me a nice set of kitchen knives and ordered the magnetic knife holder to put them on. works beautifully, and i am happy with how the knives are presented on the knife holder. very high quality magnetic wood and the glass shield is a nice accent for more protection to the knives.</td>\n",
              "      <td>A nice edition to the kitchen accessories!</td>\n",
              "      <td>0.4753</td>\n",
              "      <td>1</td>\n",
              "    </tr>\n",
              "    <tr>\n",
              "      <th>4</th>\n",
              "      <td>October 9, 2020</td>\n",
              "      <td>5.0</td>\n",
              "      <td>slim and sleek. i just replaced my plastic rod insert knife holder with this amazing magnetic one. with the old one, all of my knives couldn’t fit. they would poke out of the top. i cut myself once reaching for a knife because of that. also, the plastic insert made me have to constantly pull out a knife to see if i got the right one since the knife blade was in the block unseen. plus, there was no way to pull out the insert and clean it.  this magnetic block exceeds expectations! it takes up less counter space than my old block. it is slim and sleek. it looks like more expensive blocks that sell for hundreds of dollars. i love the see through ability. no more guessing which knife i am pulling out. it comes with brushes to clean it. if you have mismatched knives like i do, this block handles them. i was able to fit   knives!</td>\n",
              "      <td>Slim and sleek</td>\n",
              "      <td>0.0000</td>\n",
              "      <td>0</td>\n",
              "    </tr>\n",
              "  </tbody>\n",
              "</table>\n",
              "</div>"
            ],
            "text/plain": [
              "           reviewDate  reviewRating  \\\n",
              "0  February 4, 2020    2.0            \n",
              "1  January 18, 2021    5.0            \n",
              "2  September 23, 2020  5.0            \n",
              "3  October 7, 2020     5.0            \n",
              "4  October 9, 2020     5.0            \n",
              "\n",
              "                                                                                                                                                                                                                                                                                                                                                                                                                                                                                                                                                                                                                                                                                                                                                                                                                                                                                                                                                    reviewText  \\\n",
              "0   good for large knives, not so much for smaller. this is a beautiful block that allows you to show your nice knives in a cool way. it worked great for my larger knives, if anything the magnets were almost overly aggressive on them. but for some reason it really struggled on my  ” chef’s knives or smaller. i have a set of japanese vg  kitchen knives and an alternate set of ikea blades that i go back forth between depending on what i am cooking or doing. the big chefs knives and santoku’s clung well for both sets. when we got to the smaller knives in either set they either hung loosely and actually twisted clanging into the others or did not stick at all in the case of either paring knife. not sure if there aren’t enough magnets and they weren’t positioned well enough to catch them or what. pretty holder, and was great for the large blades, but fell short for displaying full sets.                                   \n",
              "1   this is the best knife block. look no further!. i love the magnetic knife block for : -its slim silhouette ( it freed up some space on my counter ) - for its looks and for its safety acrylic shield ( from my cats who surely get on the counter when i am not around)  i thought long and hard before i decided on this knife block and i love it. in the pictures, i showed both sides of the block. i was able to put, not only my working knives but also my   steak knives! it might be overcrowded for some, but i love having all these knives handy and it freed up a drawer!                                                                                                                                                                                                                                                                                                                                                                      \n",
              "2   more than a countertop storage solution. i was getting really tired of two blocky, dirt-collecting wooden knife blocks reminding me of the  s on the kitchen island. as i am doing more at-home cooking now, i also wanted to reduce clutter. and as a fan of cooking shows, i respect the advice of certain chefs both professional and home. so, i looked into reducing the number of knives and reducing their footprint on my valuable but limited counter space while also adding a bit of style.  i still have most of the old knives and steak knives, in a drawer for those few times when i might need them. here's the trick for me: the secura can only hold a few items and that is training me to use fewer tools to accomplish cooking tasks. this moves me to take more care and consideration in how i prepare meals and overall, i am more efficient.  it is only a knife holder, but it is a vital part of how i do at-home chef duties.   \n",
              "3   a nice edition to the kitchen accessories!. my husband bought me a nice set of kitchen knives and ordered the magnetic knife holder to put them on. works beautifully, and i am happy with how the knives are presented on the knife holder. very high quality magnetic wood and the glass shield is a nice accent for more protection to the knives.                                                                                                                                                                                                                                                                                                                                                                                                                                                                                                                                                                                                        \n",
              "4   slim and sleek. i just replaced my plastic rod insert knife holder with this amazing magnetic one. with the old one, all of my knives couldn’t fit. they would poke out of the top. i cut myself once reaching for a knife because of that. also, the plastic insert made me have to constantly pull out a knife to see if i got the right one since the knife blade was in the block unseen. plus, there was no way to pull out the insert and clean it.  this magnetic block exceeds expectations! it takes up less counter space than my old block. it is slim and sleek. it looks like more expensive blocks that sell for hundreds of dollars. i love the see through ability. no more guessing which knife i am pulling out. it comes with brushes to clean it. if you have mismatched knives like i do, this block handles them. i was able to fit   knives!                                                                                          \n",
              "\n",
              "                                       reviewTitle  compound  sentiment  \n",
              "0   Good for large knives, not so much for smaller  0.4404    1          \n",
              "1   This is the best knife block. Look no further!  0.1007    1          \n",
              "2   More than a countertop storage solution         0.3182    1          \n",
              "3   A nice edition to the kitchen accessories!      0.4753    1          \n",
              "4   Slim and sleek                                  0.0000    0          "
            ]
          },
          "metadata": {
            "tags": []
          },
          "execution_count": 6
        }
      ]
    },
    {
      "cell_type": "code",
      "metadata": {
        "colab": {
          "base_uri": "https://localhost:8080/"
        },
        "id": "Ydi4LcDNmZ4s",
        "outputId": "58427f17-4d04-412a-d838-83021a242107"
      },
      "source": [
        "#120 positive reviews\n",
        "df[df['sentiment']==1].shape"
      ],
      "execution_count": null,
      "outputs": [
        {
          "output_type": "execute_result",
          "data": {
            "text/plain": [
              "(120, 6)"
            ]
          },
          "metadata": {
            "tags": []
          },
          "execution_count": 7
        }
      ]
    },
    {
      "cell_type": "code",
      "metadata": {
        "colab": {
          "base_uri": "https://localhost:8080/"
        },
        "id": "ilkLojZGofWj",
        "outputId": "17bbab7e-59a3-4cca-e437-41524572afd5"
      },
      "source": [
        "#40 negative reviews\n",
        "df[df['sentiment']==0].shape"
      ],
      "execution_count": null,
      "outputs": [
        {
          "output_type": "execute_result",
          "data": {
            "text/plain": [
              "(40, 6)"
            ]
          },
          "metadata": {
            "tags": []
          },
          "execution_count": 8
        }
      ]
    },
    {
      "cell_type": "code",
      "metadata": {
        "id": "eqge8Um-tUzB"
      },
      "source": [
        "reviews=df[df['sentiment']==1]['reviewText']\n",
        "\n",
        "positive_reviews=''\n",
        "for review in reviews:\n",
        "  positive_reviews= positive_reviews+\" \"+review"
      ],
      "execution_count": null,
      "outputs": []
    },
    {
      "cell_type": "code",
      "metadata": {
        "id": "nqn6mp4aanAB"
      },
      "source": [
        "reviews=df[df['sentiment']==0]['reviewText']\n",
        "\n",
        "negative_reviews=''\n",
        "for review in reviews:\n",
        "  negative_reviews= negative_reviews+\" \"+review"
      ],
      "execution_count": null,
      "outputs": []
    },
    {
      "cell_type": "code",
      "metadata": {
        "id": "1yDrlWykrhMT"
      },
      "source": [
        "def create_frequency_matrix(reviews):\n",
        "  frequency_matrix={}\n",
        "  sentences= sent_tokenize(reviews)\n",
        "  for sentence in sentences:\n",
        "    words= word_tokenize(sentence)\n",
        "    porter_stemmer= PorterStemmer()\n",
        "    lemmatizer= WordNetLemmatizer()\n",
        "    frequency_table= {}\n",
        "    for word in words:\n",
        "      word= porter_stemmer.stem(word)\n",
        "      if word in nltk_stopwords:\n",
        "        continue\n",
        "      if word in frequency_table:\n",
        "        frequency_table[word]+= 1\n",
        "      else:\n",
        "        frequency_table[word]=1\n",
        "    frequency_matrix[sentence[:15]] = frequency_table\n",
        "  return frequency_matrix\n"
      ],
      "execution_count": null,
      "outputs": []
    },
    {
      "cell_type": "code",
      "metadata": {
        "id": "hwXNkQg1uwWx"
      },
      "source": [
        "def create_tf_matrix(frequency_matrix):\n",
        "  tf_matrix={}\n",
        "  for sentence, frequency_table in frequency_matrix.items():\n",
        "    tf_table={}\n",
        "    word_count_in_sentence= len(frequency_table)\n",
        "    for word, frequency in frequency_table.items():\n",
        "      tf_table[word]= frequency/word_count_in_sentence\n",
        "    tf_matrix[sentence] = tf_table\n",
        "  return tf_matrix"
      ],
      "execution_count": null,
      "outputs": []
    },
    {
      "cell_type": "code",
      "metadata": {
        "id": "A7YOkjrmyV3J"
      },
      "source": [
        "def create_documents_per_words(frequency_matrix):\n",
        "    word_per_doc_table = {}\n",
        "\n",
        "    for sentence, frequency_table in frequency_matrix.items():\n",
        "        for word, count in frequency_table.items():\n",
        "            if word in word_per_doc_table:\n",
        "                word_per_doc_table[word] += 1\n",
        "            else:\n",
        "                word_per_doc_table[word] = 1\n",
        "\n",
        "    return word_per_doc_table"
      ],
      "execution_count": null,
      "outputs": []
    },
    {
      "cell_type": "code",
      "metadata": {
        "id": "_VYWHM9Cze6S"
      },
      "source": [
        "import math\n",
        "def create_idf_matrix(frequency_matrix, count_documents_per_words,total_documents):\n",
        "    idf_matrix = {}\n",
        "\n",
        "    for sentence, frequency_table in frequency_matrix.items():\n",
        "        idf_table = {}\n",
        "\n",
        "        for word in frequency_table.keys():\n",
        "            idf_table[word] = math.log10(total_documents / float(count_documents_per_words[word]))\n",
        "\n",
        "        idf_matrix[sentence] = idf_table\n",
        "\n",
        "    return idf_matrix"
      ],
      "execution_count": null,
      "outputs": []
    },
    {
      "cell_type": "code",
      "metadata": {
        "id": "8sNcoY_l3y3a"
      },
      "source": [
        "def create_tf_idf_matrix(tf_matrix, idf_matrix):\n",
        "    tf_idf_matrix = {}\n",
        "\n",
        "    for (sent1, f_table1), (sent2, f_table2) in zip(tf_matrix.items(), idf_matrix.items()):\n",
        "\n",
        "        tf_idf_table = {}\n",
        "\n",
        "        for (word1, value1), (word2, value2) in zip(f_table1.items(),\n",
        "                                                    f_table2.items()):  # here, keys are the same in both the table\n",
        "            tf_idf_table[word1] = float(value1 * value2)\n",
        "\n",
        "        tf_idf_matrix[sent1] = tf_idf_table\n",
        "\n",
        "    return tf_idf_matrix"
      ],
      "execution_count": null,
      "outputs": []
    },
    {
      "cell_type": "code",
      "metadata": {
        "id": "Vd-KCYK0uET4"
      },
      "source": [
        "def rank_sentences(tf_idf_matrix):\n",
        "  sentence_scores= {}\n",
        "  for sentence, frequency_table in tf_idf_matrix.items():\n",
        "   total_score=0\n",
        "   words_in_sentence= len(frequency_table)\n",
        "   for word, score in frequency_table.items():\n",
        "    total_score += score\n",
        "\n",
        "    sentence_scores[sentence] = total_score / words_in_sentence\n",
        "  return sentence_scores"
      ],
      "execution_count": null,
      "outputs": []
    },
    {
      "cell_type": "code",
      "metadata": {
        "id": "uzItPtqVe7C4"
      },
      "source": [
        "def generate_summary(sentence_scores, positive_reviews):\n",
        "  total_sum=0\n",
        "  summary= ''\n",
        "  \n",
        "  for value in sentence_scores.values():\n",
        "    total_sum=total_sum+value\n",
        "  cut_off_score= total_sum// len(sentence_scores)\n",
        "\n",
        "  cut_off_score= 1.5 * cut_off_score\n",
        "\n",
        "  sentences= sent_tokenize(positive_reviews)\n",
        "  for sentence in sentences:\n",
        "    if sentence[:20] in sentence_scores and sentence_scores[sentence[:20]] >cut_off_score:\n",
        "      summary+= ' '+ sentence\n",
        "  \n",
        "  return summary"
      ],
      "execution_count": null,
      "outputs": []
    },
    {
      "cell_type": "code",
      "metadata": {
        "id": "qzyOExsfpM2C"
      },
      "source": [
        "frequency_matrix= create_frequency_matrix(positive_reviews)\n",
        "tf_matrix=create_tf_matrix(frequency_matrix)\n",
        "count_documents_per_words=create_documents_per_words(frequency_matrix)\n",
        "idf_matrix=create_idf_matrix(frequency_matrix, count_documents_per_words, len(sent_tokenize(positive_reviews)))\n",
        "tf_idf_matrix=create_tf_idf_matrix(tf_matrix, idf_matrix)\n",
        "sentence_scores=rank_sentences(tf_idf_matrix)\n",
        "tf_idf_summary=generate_summary(sentence_scores, positive_reviews)"
      ],
      "execution_count": null,
      "outputs": []
    },
    {
      "cell_type": "code",
      "metadata": {
        "colab": {
          "base_uri": "https://localhost:8080/",
          "height": 83
        },
        "id": "Wyr4F9L4mHTK",
        "outputId": "0199b9d8-9424-4e8e-c952-62f75ec8fe39"
      },
      "source": [
        "tf_idf_summary"
      ],
      "execution_count": null,
      "outputs": [
        {
          "output_type": "execute_result",
          "data": {
            "application/vnd.google.colaboratory.intrinsic+json": {
              "type": "string"
            },
            "text/plain": [
              "\" buy it! impressive!!! love love love. heavy. it was perfect! excellent!. amazing buy!. it is amazing. update:  . . i love it. awesome!. great! buy it!. elegant. lovely! perfect. great product! it is worth it. love it!. love this! wonderful!. good quality. best i've seen. excellent!. stars from me! love it. love it!. good size. saves space. looks cool. great product. well made. sturdy. very well made. great product. good product. useful product. . . love this!. a++++. will buy again. love it!. great product. great product. good. recommended! we love it! love love love. looks great. a great buy!. great product. clean design! love!!. stunning. sturdy. very magnetic\""
            ]
          },
          "metadata": {
            "tags": []
          },
          "execution_count": 75
        }
      ]
    },
    {
      "cell_type": "code",
      "metadata": {
        "colab": {
          "base_uri": "https://localhost:8080/"
        },
        "id": "TJSggrawZIGv",
        "outputId": "bd64ec61-1e57-4ae6-ae64-f17a62dd7475"
      },
      "source": [
        "len(tf_idf_summary)"
      ],
      "execution_count": null,
      "outputs": [
        {
          "output_type": "execute_result",
          "data": {
            "text/plain": [
              "671"
            ]
          },
          "metadata": {
            "tags": []
          },
          "execution_count": 77
        }
      ]
    },
    {
      "cell_type": "code",
      "metadata": {
        "id": "RVerIwLUlhM2"
      },
      "source": [
        "#change to camelcase\n",
        "#apply spell check\n",
        "#clean up extra spaces and periods\n"
      ],
      "execution_count": null,
      "outputs": []
    }
  ]
}