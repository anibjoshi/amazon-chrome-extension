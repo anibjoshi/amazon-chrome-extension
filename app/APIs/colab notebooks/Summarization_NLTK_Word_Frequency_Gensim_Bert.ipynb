{
  "nbformat": 4,
  "nbformat_minor": 0,
  "metadata": {
    "colab": {
      "name": "Summarization_NLTK_Word_Frequency_Gensim_Bert.ipynb",
      "provenance": [],
      "collapsed_sections": []
    },
    "kernelspec": {
      "name": "python3",
      "display_name": "Python 3"
    },
    "language_info": {
      "name": "python"
    },
    "widgets": {
      "application/vnd.jupyter.widget-state+json": {
        "fe3e094d66ed4a5bbb8cd13631466581": {
          "model_module": "@jupyter-widgets/controls",
          "model_name": "HBoxModel",
          "state": {
            "_view_name": "HBoxView",
            "_dom_classes": [],
            "_model_name": "HBoxModel",
            "_view_module": "@jupyter-widgets/controls",
            "_model_module_version": "1.5.0",
            "_view_count": null,
            "_view_module_version": "1.5.0",
            "box_style": "",
            "layout": "IPY_MODEL_7cd9fe182b1645aea8b8e213d1f17a68",
            "_model_module": "@jupyter-widgets/controls",
            "children": [
              "IPY_MODEL_33ed8bb9c8d44351932a20399521e867",
              "IPY_MODEL_022d2f64815b452b9bb61b926cac4c18"
            ]
          }
        },
        "7cd9fe182b1645aea8b8e213d1f17a68": {
          "model_module": "@jupyter-widgets/base",
          "model_name": "LayoutModel",
          "state": {
            "_view_name": "LayoutView",
            "grid_template_rows": null,
            "right": null,
            "justify_content": null,
            "_view_module": "@jupyter-widgets/base",
            "overflow": null,
            "_model_module_version": "1.2.0",
            "_view_count": null,
            "flex_flow": null,
            "width": null,
            "min_width": null,
            "border": null,
            "align_items": null,
            "bottom": null,
            "_model_module": "@jupyter-widgets/base",
            "top": null,
            "grid_column": null,
            "overflow_y": null,
            "overflow_x": null,
            "grid_auto_flow": null,
            "grid_area": null,
            "grid_template_columns": null,
            "flex": null,
            "_model_name": "LayoutModel",
            "justify_items": null,
            "grid_row": null,
            "max_height": null,
            "align_content": null,
            "visibility": null,
            "align_self": null,
            "height": null,
            "min_height": null,
            "padding": null,
            "grid_auto_rows": null,
            "grid_gap": null,
            "max_width": null,
            "order": null,
            "_view_module_version": "1.2.0",
            "grid_template_areas": null,
            "object_position": null,
            "object_fit": null,
            "grid_auto_columns": null,
            "margin": null,
            "display": null,
            "left": null
          }
        },
        "33ed8bb9c8d44351932a20399521e867": {
          "model_module": "@jupyter-widgets/controls",
          "model_name": "FloatProgressModel",
          "state": {
            "_view_name": "ProgressView",
            "style": "IPY_MODEL_3009c9abcc4e49febb456909addff3d1",
            "_dom_classes": [],
            "description": "Downloading: 100%",
            "_model_name": "FloatProgressModel",
            "bar_style": "success",
            "max": 571,
            "_view_module": "@jupyter-widgets/controls",
            "_model_module_version": "1.5.0",
            "value": 571,
            "_view_count": null,
            "_view_module_version": "1.5.0",
            "orientation": "horizontal",
            "min": 0,
            "description_tooltip": null,
            "_model_module": "@jupyter-widgets/controls",
            "layout": "IPY_MODEL_32b8c5ea3ec5482d8d6b40af128e3962"
          }
        },
        "022d2f64815b452b9bb61b926cac4c18": {
          "model_module": "@jupyter-widgets/controls",
          "model_name": "HTMLModel",
          "state": {
            "_view_name": "HTMLView",
            "style": "IPY_MODEL_f97abce6ff7244678f15b89224ca6560",
            "_dom_classes": [],
            "description": "",
            "_model_name": "HTMLModel",
            "placeholder": "​",
            "_view_module": "@jupyter-widgets/controls",
            "_model_module_version": "1.5.0",
            "value": " 571/571 [00:33&lt;00:00, 16.9B/s]",
            "_view_count": null,
            "_view_module_version": "1.5.0",
            "description_tooltip": null,
            "_model_module": "@jupyter-widgets/controls",
            "layout": "IPY_MODEL_80eb12776ff448419668409a4f2c16c8"
          }
        },
        "3009c9abcc4e49febb456909addff3d1": {
          "model_module": "@jupyter-widgets/controls",
          "model_name": "ProgressStyleModel",
          "state": {
            "_view_name": "StyleView",
            "_model_name": "ProgressStyleModel",
            "description_width": "initial",
            "_view_module": "@jupyter-widgets/base",
            "_model_module_version": "1.5.0",
            "_view_count": null,
            "_view_module_version": "1.2.0",
            "bar_color": null,
            "_model_module": "@jupyter-widgets/controls"
          }
        },
        "32b8c5ea3ec5482d8d6b40af128e3962": {
          "model_module": "@jupyter-widgets/base",
          "model_name": "LayoutModel",
          "state": {
            "_view_name": "LayoutView",
            "grid_template_rows": null,
            "right": null,
            "justify_content": null,
            "_view_module": "@jupyter-widgets/base",
            "overflow": null,
            "_model_module_version": "1.2.0",
            "_view_count": null,
            "flex_flow": null,
            "width": null,
            "min_width": null,
            "border": null,
            "align_items": null,
            "bottom": null,
            "_model_module": "@jupyter-widgets/base",
            "top": null,
            "grid_column": null,
            "overflow_y": null,
            "overflow_x": null,
            "grid_auto_flow": null,
            "grid_area": null,
            "grid_template_columns": null,
            "flex": null,
            "_model_name": "LayoutModel",
            "justify_items": null,
            "grid_row": null,
            "max_height": null,
            "align_content": null,
            "visibility": null,
            "align_self": null,
            "height": null,
            "min_height": null,
            "padding": null,
            "grid_auto_rows": null,
            "grid_gap": null,
            "max_width": null,
            "order": null,
            "_view_module_version": "1.2.0",
            "grid_template_areas": null,
            "object_position": null,
            "object_fit": null,
            "grid_auto_columns": null,
            "margin": null,
            "display": null,
            "left": null
          }
        },
        "f97abce6ff7244678f15b89224ca6560": {
          "model_module": "@jupyter-widgets/controls",
          "model_name": "DescriptionStyleModel",
          "state": {
            "_view_name": "StyleView",
            "_model_name": "DescriptionStyleModel",
            "description_width": "",
            "_view_module": "@jupyter-widgets/base",
            "_model_module_version": "1.5.0",
            "_view_count": null,
            "_view_module_version": "1.2.0",
            "_model_module": "@jupyter-widgets/controls"
          }
        },
        "80eb12776ff448419668409a4f2c16c8": {
          "model_module": "@jupyter-widgets/base",
          "model_name": "LayoutModel",
          "state": {
            "_view_name": "LayoutView",
            "grid_template_rows": null,
            "right": null,
            "justify_content": null,
            "_view_module": "@jupyter-widgets/base",
            "overflow": null,
            "_model_module_version": "1.2.0",
            "_view_count": null,
            "flex_flow": null,
            "width": null,
            "min_width": null,
            "border": null,
            "align_items": null,
            "bottom": null,
            "_model_module": "@jupyter-widgets/base",
            "top": null,
            "grid_column": null,
            "overflow_y": null,
            "overflow_x": null,
            "grid_auto_flow": null,
            "grid_area": null,
            "grid_template_columns": null,
            "flex": null,
            "_model_name": "LayoutModel",
            "justify_items": null,
            "grid_row": null,
            "max_height": null,
            "align_content": null,
            "visibility": null,
            "align_self": null,
            "height": null,
            "min_height": null,
            "padding": null,
            "grid_auto_rows": null,
            "grid_gap": null,
            "max_width": null,
            "order": null,
            "_view_module_version": "1.2.0",
            "grid_template_areas": null,
            "object_position": null,
            "object_fit": null,
            "grid_auto_columns": null,
            "margin": null,
            "display": null,
            "left": null
          }
        },
        "88b001a72fa04725a47d61f7115ddac7": {
          "model_module": "@jupyter-widgets/controls",
          "model_name": "HBoxModel",
          "state": {
            "_view_name": "HBoxView",
            "_dom_classes": [],
            "_model_name": "HBoxModel",
            "_view_module": "@jupyter-widgets/controls",
            "_model_module_version": "1.5.0",
            "_view_count": null,
            "_view_module_version": "1.5.0",
            "box_style": "",
            "layout": "IPY_MODEL_a53e7725d42747d79a71399064c8213a",
            "_model_module": "@jupyter-widgets/controls",
            "children": [
              "IPY_MODEL_a6fefe34cf91481b816c8ce1d8720e95",
              "IPY_MODEL_4c28f99fe5de418088389260ea953c9b"
            ]
          }
        },
        "a53e7725d42747d79a71399064c8213a": {
          "model_module": "@jupyter-widgets/base",
          "model_name": "LayoutModel",
          "state": {
            "_view_name": "LayoutView",
            "grid_template_rows": null,
            "right": null,
            "justify_content": null,
            "_view_module": "@jupyter-widgets/base",
            "overflow": null,
            "_model_module_version": "1.2.0",
            "_view_count": null,
            "flex_flow": null,
            "width": null,
            "min_width": null,
            "border": null,
            "align_items": null,
            "bottom": null,
            "_model_module": "@jupyter-widgets/base",
            "top": null,
            "grid_column": null,
            "overflow_y": null,
            "overflow_x": null,
            "grid_auto_flow": null,
            "grid_area": null,
            "grid_template_columns": null,
            "flex": null,
            "_model_name": "LayoutModel",
            "justify_items": null,
            "grid_row": null,
            "max_height": null,
            "align_content": null,
            "visibility": null,
            "align_self": null,
            "height": null,
            "min_height": null,
            "padding": null,
            "grid_auto_rows": null,
            "grid_gap": null,
            "max_width": null,
            "order": null,
            "_view_module_version": "1.2.0",
            "grid_template_areas": null,
            "object_position": null,
            "object_fit": null,
            "grid_auto_columns": null,
            "margin": null,
            "display": null,
            "left": null
          }
        },
        "a6fefe34cf91481b816c8ce1d8720e95": {
          "model_module": "@jupyter-widgets/controls",
          "model_name": "FloatProgressModel",
          "state": {
            "_view_name": "ProgressView",
            "style": "IPY_MODEL_d0768fb010b54e83a88db5b24b88fe8a",
            "_dom_classes": [],
            "description": "Downloading: 100%",
            "_model_name": "FloatProgressModel",
            "bar_style": "success",
            "max": 1344997306,
            "_view_module": "@jupyter-widgets/controls",
            "_model_module_version": "1.5.0",
            "value": 1344997306,
            "_view_count": null,
            "_view_module_version": "1.5.0",
            "orientation": "horizontal",
            "min": 0,
            "description_tooltip": null,
            "_model_module": "@jupyter-widgets/controls",
            "layout": "IPY_MODEL_4d6d44ed56a740ea8ac79286751a650e"
          }
        },
        "4c28f99fe5de418088389260ea953c9b": {
          "model_module": "@jupyter-widgets/controls",
          "model_name": "HTMLModel",
          "state": {
            "_view_name": "HTMLView",
            "style": "IPY_MODEL_8397337af773439eb3083dc84b3940ed",
            "_dom_classes": [],
            "description": "",
            "_model_name": "HTMLModel",
            "placeholder": "​",
            "_view_module": "@jupyter-widgets/controls",
            "_model_module_version": "1.5.0",
            "value": " 1.34G/1.34G [00:32&lt;00:00, 41.0MB/s]",
            "_view_count": null,
            "_view_module_version": "1.5.0",
            "description_tooltip": null,
            "_model_module": "@jupyter-widgets/controls",
            "layout": "IPY_MODEL_5f181bc6c2ac42c69ce4c239e6fdb1c5"
          }
        },
        "d0768fb010b54e83a88db5b24b88fe8a": {
          "model_module": "@jupyter-widgets/controls",
          "model_name": "ProgressStyleModel",
          "state": {
            "_view_name": "StyleView",
            "_model_name": "ProgressStyleModel",
            "description_width": "initial",
            "_view_module": "@jupyter-widgets/base",
            "_model_module_version": "1.5.0",
            "_view_count": null,
            "_view_module_version": "1.2.0",
            "bar_color": null,
            "_model_module": "@jupyter-widgets/controls"
          }
        },
        "4d6d44ed56a740ea8ac79286751a650e": {
          "model_module": "@jupyter-widgets/base",
          "model_name": "LayoutModel",
          "state": {
            "_view_name": "LayoutView",
            "grid_template_rows": null,
            "right": null,
            "justify_content": null,
            "_view_module": "@jupyter-widgets/base",
            "overflow": null,
            "_model_module_version": "1.2.0",
            "_view_count": null,
            "flex_flow": null,
            "width": null,
            "min_width": null,
            "border": null,
            "align_items": null,
            "bottom": null,
            "_model_module": "@jupyter-widgets/base",
            "top": null,
            "grid_column": null,
            "overflow_y": null,
            "overflow_x": null,
            "grid_auto_flow": null,
            "grid_area": null,
            "grid_template_columns": null,
            "flex": null,
            "_model_name": "LayoutModel",
            "justify_items": null,
            "grid_row": null,
            "max_height": null,
            "align_content": null,
            "visibility": null,
            "align_self": null,
            "height": null,
            "min_height": null,
            "padding": null,
            "grid_auto_rows": null,
            "grid_gap": null,
            "max_width": null,
            "order": null,
            "_view_module_version": "1.2.0",
            "grid_template_areas": null,
            "object_position": null,
            "object_fit": null,
            "grid_auto_columns": null,
            "margin": null,
            "display": null,
            "left": null
          }
        },
        "8397337af773439eb3083dc84b3940ed": {
          "model_module": "@jupyter-widgets/controls",
          "model_name": "DescriptionStyleModel",
          "state": {
            "_view_name": "StyleView",
            "_model_name": "DescriptionStyleModel",
            "description_width": "",
            "_view_module": "@jupyter-widgets/base",
            "_model_module_version": "1.5.0",
            "_view_count": null,
            "_view_module_version": "1.2.0",
            "_model_module": "@jupyter-widgets/controls"
          }
        },
        "5f181bc6c2ac42c69ce4c239e6fdb1c5": {
          "model_module": "@jupyter-widgets/base",
          "model_name": "LayoutModel",
          "state": {
            "_view_name": "LayoutView",
            "grid_template_rows": null,
            "right": null,
            "justify_content": null,
            "_view_module": "@jupyter-widgets/base",
            "overflow": null,
            "_model_module_version": "1.2.0",
            "_view_count": null,
            "flex_flow": null,
            "width": null,
            "min_width": null,
            "border": null,
            "align_items": null,
            "bottom": null,
            "_model_module": "@jupyter-widgets/base",
            "top": null,
            "grid_column": null,
            "overflow_y": null,
            "overflow_x": null,
            "grid_auto_flow": null,
            "grid_area": null,
            "grid_template_columns": null,
            "flex": null,
            "_model_name": "LayoutModel",
            "justify_items": null,
            "grid_row": null,
            "max_height": null,
            "align_content": null,
            "visibility": null,
            "align_self": null,
            "height": null,
            "min_height": null,
            "padding": null,
            "grid_auto_rows": null,
            "grid_gap": null,
            "max_width": null,
            "order": null,
            "_view_module_version": "1.2.0",
            "grid_template_areas": null,
            "object_position": null,
            "object_fit": null,
            "grid_auto_columns": null,
            "margin": null,
            "display": null,
            "left": null
          }
        },
        "d603b85a2e7e43fd803e3ad2df33a157": {
          "model_module": "@jupyter-widgets/controls",
          "model_name": "HBoxModel",
          "state": {
            "_view_name": "HBoxView",
            "_dom_classes": [],
            "_model_name": "HBoxModel",
            "_view_module": "@jupyter-widgets/controls",
            "_model_module_version": "1.5.0",
            "_view_count": null,
            "_view_module_version": "1.5.0",
            "box_style": "",
            "layout": "IPY_MODEL_af67fcea171a47d8a07a51e59af7bb10",
            "_model_module": "@jupyter-widgets/controls",
            "children": [
              "IPY_MODEL_3af4756e07624dab8e91e46321f50a62",
              "IPY_MODEL_b328c59373084b25baa3a78e3d75f49f"
            ]
          }
        },
        "af67fcea171a47d8a07a51e59af7bb10": {
          "model_module": "@jupyter-widgets/base",
          "model_name": "LayoutModel",
          "state": {
            "_view_name": "LayoutView",
            "grid_template_rows": null,
            "right": null,
            "justify_content": null,
            "_view_module": "@jupyter-widgets/base",
            "overflow": null,
            "_model_module_version": "1.2.0",
            "_view_count": null,
            "flex_flow": null,
            "width": null,
            "min_width": null,
            "border": null,
            "align_items": null,
            "bottom": null,
            "_model_module": "@jupyter-widgets/base",
            "top": null,
            "grid_column": null,
            "overflow_y": null,
            "overflow_x": null,
            "grid_auto_flow": null,
            "grid_area": null,
            "grid_template_columns": null,
            "flex": null,
            "_model_name": "LayoutModel",
            "justify_items": null,
            "grid_row": null,
            "max_height": null,
            "align_content": null,
            "visibility": null,
            "align_self": null,
            "height": null,
            "min_height": null,
            "padding": null,
            "grid_auto_rows": null,
            "grid_gap": null,
            "max_width": null,
            "order": null,
            "_view_module_version": "1.2.0",
            "grid_template_areas": null,
            "object_position": null,
            "object_fit": null,
            "grid_auto_columns": null,
            "margin": null,
            "display": null,
            "left": null
          }
        },
        "3af4756e07624dab8e91e46321f50a62": {
          "model_module": "@jupyter-widgets/controls",
          "model_name": "FloatProgressModel",
          "state": {
            "_view_name": "ProgressView",
            "style": "IPY_MODEL_adc0920db98f4cfca55a68f994fc4aeb",
            "_dom_classes": [],
            "description": "Downloading: 100%",
            "_model_name": "FloatProgressModel",
            "bar_style": "success",
            "max": 231508,
            "_view_module": "@jupyter-widgets/controls",
            "_model_module_version": "1.5.0",
            "value": 231508,
            "_view_count": null,
            "_view_module_version": "1.5.0",
            "orientation": "horizontal",
            "min": 0,
            "description_tooltip": null,
            "_model_module": "@jupyter-widgets/controls",
            "layout": "IPY_MODEL_b180962bc75d48d086514bd17b2af637"
          }
        },
        "b328c59373084b25baa3a78e3d75f49f": {
          "model_module": "@jupyter-widgets/controls",
          "model_name": "HTMLModel",
          "state": {
            "_view_name": "HTMLView",
            "style": "IPY_MODEL_ed54f3a619d84e4fa416ae3a000f9d11",
            "_dom_classes": [],
            "description": "",
            "_model_name": "HTMLModel",
            "placeholder": "​",
            "_view_module": "@jupyter-widgets/controls",
            "_model_module_version": "1.5.0",
            "value": " 232k/232k [00:01&lt;00:00, 159kB/s]",
            "_view_count": null,
            "_view_module_version": "1.5.0",
            "description_tooltip": null,
            "_model_module": "@jupyter-widgets/controls",
            "layout": "IPY_MODEL_c0584cb5b362444ab6ff6a38da29bfd7"
          }
        },
        "adc0920db98f4cfca55a68f994fc4aeb": {
          "model_module": "@jupyter-widgets/controls",
          "model_name": "ProgressStyleModel",
          "state": {
            "_view_name": "StyleView",
            "_model_name": "ProgressStyleModel",
            "description_width": "initial",
            "_view_module": "@jupyter-widgets/base",
            "_model_module_version": "1.5.0",
            "_view_count": null,
            "_view_module_version": "1.2.0",
            "bar_color": null,
            "_model_module": "@jupyter-widgets/controls"
          }
        },
        "b180962bc75d48d086514bd17b2af637": {
          "model_module": "@jupyter-widgets/base",
          "model_name": "LayoutModel",
          "state": {
            "_view_name": "LayoutView",
            "grid_template_rows": null,
            "right": null,
            "justify_content": null,
            "_view_module": "@jupyter-widgets/base",
            "overflow": null,
            "_model_module_version": "1.2.0",
            "_view_count": null,
            "flex_flow": null,
            "width": null,
            "min_width": null,
            "border": null,
            "align_items": null,
            "bottom": null,
            "_model_module": "@jupyter-widgets/base",
            "top": null,
            "grid_column": null,
            "overflow_y": null,
            "overflow_x": null,
            "grid_auto_flow": null,
            "grid_area": null,
            "grid_template_columns": null,
            "flex": null,
            "_model_name": "LayoutModel",
            "justify_items": null,
            "grid_row": null,
            "max_height": null,
            "align_content": null,
            "visibility": null,
            "align_self": null,
            "height": null,
            "min_height": null,
            "padding": null,
            "grid_auto_rows": null,
            "grid_gap": null,
            "max_width": null,
            "order": null,
            "_view_module_version": "1.2.0",
            "grid_template_areas": null,
            "object_position": null,
            "object_fit": null,
            "grid_auto_columns": null,
            "margin": null,
            "display": null,
            "left": null
          }
        },
        "ed54f3a619d84e4fa416ae3a000f9d11": {
          "model_module": "@jupyter-widgets/controls",
          "model_name": "DescriptionStyleModel",
          "state": {
            "_view_name": "StyleView",
            "_model_name": "DescriptionStyleModel",
            "description_width": "",
            "_view_module": "@jupyter-widgets/base",
            "_model_module_version": "1.5.0",
            "_view_count": null,
            "_view_module_version": "1.2.0",
            "_model_module": "@jupyter-widgets/controls"
          }
        },
        "c0584cb5b362444ab6ff6a38da29bfd7": {
          "model_module": "@jupyter-widgets/base",
          "model_name": "LayoutModel",
          "state": {
            "_view_name": "LayoutView",
            "grid_template_rows": null,
            "right": null,
            "justify_content": null,
            "_view_module": "@jupyter-widgets/base",
            "overflow": null,
            "_model_module_version": "1.2.0",
            "_view_count": null,
            "flex_flow": null,
            "width": null,
            "min_width": null,
            "border": null,
            "align_items": null,
            "bottom": null,
            "_model_module": "@jupyter-widgets/base",
            "top": null,
            "grid_column": null,
            "overflow_y": null,
            "overflow_x": null,
            "grid_auto_flow": null,
            "grid_area": null,
            "grid_template_columns": null,
            "flex": null,
            "_model_name": "LayoutModel",
            "justify_items": null,
            "grid_row": null,
            "max_height": null,
            "align_content": null,
            "visibility": null,
            "align_self": null,
            "height": null,
            "min_height": null,
            "padding": null,
            "grid_auto_rows": null,
            "grid_gap": null,
            "max_width": null,
            "order": null,
            "_view_module_version": "1.2.0",
            "grid_template_areas": null,
            "object_position": null,
            "object_fit": null,
            "grid_auto_columns": null,
            "margin": null,
            "display": null,
            "left": null
          }
        },
        "c6cc9782e9a94b01b5dcc16984f9c2c6": {
          "model_module": "@jupyter-widgets/controls",
          "model_name": "HBoxModel",
          "state": {
            "_view_name": "HBoxView",
            "_dom_classes": [],
            "_model_name": "HBoxModel",
            "_view_module": "@jupyter-widgets/controls",
            "_model_module_version": "1.5.0",
            "_view_count": null,
            "_view_module_version": "1.5.0",
            "box_style": "",
            "layout": "IPY_MODEL_0956c0abd32d4bccacac6a17b26ff4ce",
            "_model_module": "@jupyter-widgets/controls",
            "children": [
              "IPY_MODEL_9b48d2f562fa40bf8944605bc5625867",
              "IPY_MODEL_6728152453894ac8b81d273c5cb8a21a"
            ]
          }
        },
        "0956c0abd32d4bccacac6a17b26ff4ce": {
          "model_module": "@jupyter-widgets/base",
          "model_name": "LayoutModel",
          "state": {
            "_view_name": "LayoutView",
            "grid_template_rows": null,
            "right": null,
            "justify_content": null,
            "_view_module": "@jupyter-widgets/base",
            "overflow": null,
            "_model_module_version": "1.2.0",
            "_view_count": null,
            "flex_flow": null,
            "width": null,
            "min_width": null,
            "border": null,
            "align_items": null,
            "bottom": null,
            "_model_module": "@jupyter-widgets/base",
            "top": null,
            "grid_column": null,
            "overflow_y": null,
            "overflow_x": null,
            "grid_auto_flow": null,
            "grid_area": null,
            "grid_template_columns": null,
            "flex": null,
            "_model_name": "LayoutModel",
            "justify_items": null,
            "grid_row": null,
            "max_height": null,
            "align_content": null,
            "visibility": null,
            "align_self": null,
            "height": null,
            "min_height": null,
            "padding": null,
            "grid_auto_rows": null,
            "grid_gap": null,
            "max_width": null,
            "order": null,
            "_view_module_version": "1.2.0",
            "grid_template_areas": null,
            "object_position": null,
            "object_fit": null,
            "grid_auto_columns": null,
            "margin": null,
            "display": null,
            "left": null
          }
        },
        "9b48d2f562fa40bf8944605bc5625867": {
          "model_module": "@jupyter-widgets/controls",
          "model_name": "FloatProgressModel",
          "state": {
            "_view_name": "ProgressView",
            "style": "IPY_MODEL_111aba63499a40429bb0f2e9af29e7bb",
            "_dom_classes": [],
            "description": "Downloading: 100%",
            "_model_name": "FloatProgressModel",
            "bar_style": "success",
            "max": 28,
            "_view_module": "@jupyter-widgets/controls",
            "_model_module_version": "1.5.0",
            "value": 28,
            "_view_count": null,
            "_view_module_version": "1.5.0",
            "orientation": "horizontal",
            "min": 0,
            "description_tooltip": null,
            "_model_module": "@jupyter-widgets/controls",
            "layout": "IPY_MODEL_c4d24c18a9584a888b78d4dc9df95657"
          }
        },
        "6728152453894ac8b81d273c5cb8a21a": {
          "model_module": "@jupyter-widgets/controls",
          "model_name": "HTMLModel",
          "state": {
            "_view_name": "HTMLView",
            "style": "IPY_MODEL_41baf03175644424ad0f16064b67a78f",
            "_dom_classes": [],
            "description": "",
            "_model_name": "HTMLModel",
            "placeholder": "​",
            "_view_module": "@jupyter-widgets/controls",
            "_model_module_version": "1.5.0",
            "value": " 28.0/28.0 [00:01&lt;00:00, 26.7B/s]",
            "_view_count": null,
            "_view_module_version": "1.5.0",
            "description_tooltip": null,
            "_model_module": "@jupyter-widgets/controls",
            "layout": "IPY_MODEL_96742a10b9744599a8c41f08264b7683"
          }
        },
        "111aba63499a40429bb0f2e9af29e7bb": {
          "model_module": "@jupyter-widgets/controls",
          "model_name": "ProgressStyleModel",
          "state": {
            "_view_name": "StyleView",
            "_model_name": "ProgressStyleModel",
            "description_width": "initial",
            "_view_module": "@jupyter-widgets/base",
            "_model_module_version": "1.5.0",
            "_view_count": null,
            "_view_module_version": "1.2.0",
            "bar_color": null,
            "_model_module": "@jupyter-widgets/controls"
          }
        },
        "c4d24c18a9584a888b78d4dc9df95657": {
          "model_module": "@jupyter-widgets/base",
          "model_name": "LayoutModel",
          "state": {
            "_view_name": "LayoutView",
            "grid_template_rows": null,
            "right": null,
            "justify_content": null,
            "_view_module": "@jupyter-widgets/base",
            "overflow": null,
            "_model_module_version": "1.2.0",
            "_view_count": null,
            "flex_flow": null,
            "width": null,
            "min_width": null,
            "border": null,
            "align_items": null,
            "bottom": null,
            "_model_module": "@jupyter-widgets/base",
            "top": null,
            "grid_column": null,
            "overflow_y": null,
            "overflow_x": null,
            "grid_auto_flow": null,
            "grid_area": null,
            "grid_template_columns": null,
            "flex": null,
            "_model_name": "LayoutModel",
            "justify_items": null,
            "grid_row": null,
            "max_height": null,
            "align_content": null,
            "visibility": null,
            "align_self": null,
            "height": null,
            "min_height": null,
            "padding": null,
            "grid_auto_rows": null,
            "grid_gap": null,
            "max_width": null,
            "order": null,
            "_view_module_version": "1.2.0",
            "grid_template_areas": null,
            "object_position": null,
            "object_fit": null,
            "grid_auto_columns": null,
            "margin": null,
            "display": null,
            "left": null
          }
        },
        "41baf03175644424ad0f16064b67a78f": {
          "model_module": "@jupyter-widgets/controls",
          "model_name": "DescriptionStyleModel",
          "state": {
            "_view_name": "StyleView",
            "_model_name": "DescriptionStyleModel",
            "description_width": "",
            "_view_module": "@jupyter-widgets/base",
            "_model_module_version": "1.5.0",
            "_view_count": null,
            "_view_module_version": "1.2.0",
            "_model_module": "@jupyter-widgets/controls"
          }
        },
        "96742a10b9744599a8c41f08264b7683": {
          "model_module": "@jupyter-widgets/base",
          "model_name": "LayoutModel",
          "state": {
            "_view_name": "LayoutView",
            "grid_template_rows": null,
            "right": null,
            "justify_content": null,
            "_view_module": "@jupyter-widgets/base",
            "overflow": null,
            "_model_module_version": "1.2.0",
            "_view_count": null,
            "flex_flow": null,
            "width": null,
            "min_width": null,
            "border": null,
            "align_items": null,
            "bottom": null,
            "_model_module": "@jupyter-widgets/base",
            "top": null,
            "grid_column": null,
            "overflow_y": null,
            "overflow_x": null,
            "grid_auto_flow": null,
            "grid_area": null,
            "grid_template_columns": null,
            "flex": null,
            "_model_name": "LayoutModel",
            "justify_items": null,
            "grid_row": null,
            "max_height": null,
            "align_content": null,
            "visibility": null,
            "align_self": null,
            "height": null,
            "min_height": null,
            "padding": null,
            "grid_auto_rows": null,
            "grid_gap": null,
            "max_width": null,
            "order": null,
            "_view_module_version": "1.2.0",
            "grid_template_areas": null,
            "object_position": null,
            "object_fit": null,
            "grid_auto_columns": null,
            "margin": null,
            "display": null,
            "left": null
          }
        },
        "9713ad1dc0084a759a89a7fde45e9db0": {
          "model_module": "@jupyter-widgets/controls",
          "model_name": "HBoxModel",
          "state": {
            "_view_name": "HBoxView",
            "_dom_classes": [],
            "_model_name": "HBoxModel",
            "_view_module": "@jupyter-widgets/controls",
            "_model_module_version": "1.5.0",
            "_view_count": null,
            "_view_module_version": "1.5.0",
            "box_style": "",
            "layout": "IPY_MODEL_97254b40da7b44f0a054d736c03a2a21",
            "_model_module": "@jupyter-widgets/controls",
            "children": [
              "IPY_MODEL_9b96ed248e514af09a5cf523f1f5a380",
              "IPY_MODEL_6f05687b85654c5a9a7b94b236f5c28d"
            ]
          }
        },
        "97254b40da7b44f0a054d736c03a2a21": {
          "model_module": "@jupyter-widgets/base",
          "model_name": "LayoutModel",
          "state": {
            "_view_name": "LayoutView",
            "grid_template_rows": null,
            "right": null,
            "justify_content": null,
            "_view_module": "@jupyter-widgets/base",
            "overflow": null,
            "_model_module_version": "1.2.0",
            "_view_count": null,
            "flex_flow": null,
            "width": null,
            "min_width": null,
            "border": null,
            "align_items": null,
            "bottom": null,
            "_model_module": "@jupyter-widgets/base",
            "top": null,
            "grid_column": null,
            "overflow_y": null,
            "overflow_x": null,
            "grid_auto_flow": null,
            "grid_area": null,
            "grid_template_columns": null,
            "flex": null,
            "_model_name": "LayoutModel",
            "justify_items": null,
            "grid_row": null,
            "max_height": null,
            "align_content": null,
            "visibility": null,
            "align_self": null,
            "height": null,
            "min_height": null,
            "padding": null,
            "grid_auto_rows": null,
            "grid_gap": null,
            "max_width": null,
            "order": null,
            "_view_module_version": "1.2.0",
            "grid_template_areas": null,
            "object_position": null,
            "object_fit": null,
            "grid_auto_columns": null,
            "margin": null,
            "display": null,
            "left": null
          }
        },
        "9b96ed248e514af09a5cf523f1f5a380": {
          "model_module": "@jupyter-widgets/controls",
          "model_name": "FloatProgressModel",
          "state": {
            "_view_name": "ProgressView",
            "style": "IPY_MODEL_dbffcdb72e1848b7835f3134c6eaadd9",
            "_dom_classes": [],
            "description": "Downloading: 100%",
            "_model_name": "FloatProgressModel",
            "bar_style": "success",
            "max": 466062,
            "_view_module": "@jupyter-widgets/controls",
            "_model_module_version": "1.5.0",
            "value": 466062,
            "_view_count": null,
            "_view_module_version": "1.5.0",
            "orientation": "horizontal",
            "min": 0,
            "description_tooltip": null,
            "_model_module": "@jupyter-widgets/controls",
            "layout": "IPY_MODEL_993a94873b534daa9306f74004df5a89"
          }
        },
        "6f05687b85654c5a9a7b94b236f5c28d": {
          "model_module": "@jupyter-widgets/controls",
          "model_name": "HTMLModel",
          "state": {
            "_view_name": "HTMLView",
            "style": "IPY_MODEL_ab1498d8f635419bbd5ab65ce43a61b3",
            "_dom_classes": [],
            "description": "",
            "_model_name": "HTMLModel",
            "placeholder": "​",
            "_view_module": "@jupyter-widgets/controls",
            "_model_module_version": "1.5.0",
            "value": " 466k/466k [00:00&lt;00:00, 1.00MB/s]",
            "_view_count": null,
            "_view_module_version": "1.5.0",
            "description_tooltip": null,
            "_model_module": "@jupyter-widgets/controls",
            "layout": "IPY_MODEL_2b73b04ea4c2448688a5eca3cad14d46"
          }
        },
        "dbffcdb72e1848b7835f3134c6eaadd9": {
          "model_module": "@jupyter-widgets/controls",
          "model_name": "ProgressStyleModel",
          "state": {
            "_view_name": "StyleView",
            "_model_name": "ProgressStyleModel",
            "description_width": "initial",
            "_view_module": "@jupyter-widgets/base",
            "_model_module_version": "1.5.0",
            "_view_count": null,
            "_view_module_version": "1.2.0",
            "bar_color": null,
            "_model_module": "@jupyter-widgets/controls"
          }
        },
        "993a94873b534daa9306f74004df5a89": {
          "model_module": "@jupyter-widgets/base",
          "model_name": "LayoutModel",
          "state": {
            "_view_name": "LayoutView",
            "grid_template_rows": null,
            "right": null,
            "justify_content": null,
            "_view_module": "@jupyter-widgets/base",
            "overflow": null,
            "_model_module_version": "1.2.0",
            "_view_count": null,
            "flex_flow": null,
            "width": null,
            "min_width": null,
            "border": null,
            "align_items": null,
            "bottom": null,
            "_model_module": "@jupyter-widgets/base",
            "top": null,
            "grid_column": null,
            "overflow_y": null,
            "overflow_x": null,
            "grid_auto_flow": null,
            "grid_area": null,
            "grid_template_columns": null,
            "flex": null,
            "_model_name": "LayoutModel",
            "justify_items": null,
            "grid_row": null,
            "max_height": null,
            "align_content": null,
            "visibility": null,
            "align_self": null,
            "height": null,
            "min_height": null,
            "padding": null,
            "grid_auto_rows": null,
            "grid_gap": null,
            "max_width": null,
            "order": null,
            "_view_module_version": "1.2.0",
            "grid_template_areas": null,
            "object_position": null,
            "object_fit": null,
            "grid_auto_columns": null,
            "margin": null,
            "display": null,
            "left": null
          }
        },
        "ab1498d8f635419bbd5ab65ce43a61b3": {
          "model_module": "@jupyter-widgets/controls",
          "model_name": "DescriptionStyleModel",
          "state": {
            "_view_name": "StyleView",
            "_model_name": "DescriptionStyleModel",
            "description_width": "",
            "_view_module": "@jupyter-widgets/base",
            "_model_module_version": "1.5.0",
            "_view_count": null,
            "_view_module_version": "1.2.0",
            "_model_module": "@jupyter-widgets/controls"
          }
        },
        "2b73b04ea4c2448688a5eca3cad14d46": {
          "model_module": "@jupyter-widgets/base",
          "model_name": "LayoutModel",
          "state": {
            "_view_name": "LayoutView",
            "grid_template_rows": null,
            "right": null,
            "justify_content": null,
            "_view_module": "@jupyter-widgets/base",
            "overflow": null,
            "_model_module_version": "1.2.0",
            "_view_count": null,
            "flex_flow": null,
            "width": null,
            "min_width": null,
            "border": null,
            "align_items": null,
            "bottom": null,
            "_model_module": "@jupyter-widgets/base",
            "top": null,
            "grid_column": null,
            "overflow_y": null,
            "overflow_x": null,
            "grid_auto_flow": null,
            "grid_area": null,
            "grid_template_columns": null,
            "flex": null,
            "_model_name": "LayoutModel",
            "justify_items": null,
            "grid_row": null,
            "max_height": null,
            "align_content": null,
            "visibility": null,
            "align_self": null,
            "height": null,
            "min_height": null,
            "padding": null,
            "grid_auto_rows": null,
            "grid_gap": null,
            "max_width": null,
            "order": null,
            "_view_module_version": "1.2.0",
            "grid_template_areas": null,
            "object_position": null,
            "object_fit": null,
            "grid_auto_columns": null,
            "margin": null,
            "display": null,
            "left": null
          }
        }
      }
    }
  },
  "cells": [
    {
      "cell_type": "code",
      "metadata": {
        "id": "GgQniVPiqUC6"
      },
      "source": [
        "import pandas as pd\n",
        "import nltk\n",
        "import numpy as np\n",
        "from nltk.tokenize import sent_tokenize,word_tokenize\n",
        "from nltk.corpus import stopwords\n",
        "from nltk.stem import PorterStemmer, WordNetLemmatizer\n",
        "import re\n",
        "import operator\n",
        "\n",
        "nltk.download('vader_lexicon')\n",
        "nltk.download('punkt')\n",
        "nltk.download('stopwords')\n",
        "nltk.download('wordnet')\n",
        "nltk_stopwords= set(stopwords.words('english'))\n",
        "\n",
        "pd.set_option('display.max_rows', None)\n",
        "pd.set_option('display.max_columns', None)\n",
        "pd.set_option('display.width', None)\n",
        "pd.set_option('display.max_colwidth', -1)"
      ],
      "execution_count": null,
      "outputs": []
    },
    {
      "cell_type": "code",
      "metadata": {
        "id": "039XG8JnfSaJ"
      },
      "source": [
        "# !pip list"
      ],
      "execution_count": null,
      "outputs": []
    },
    {
      "cell_type": "code",
      "metadata": {
        "colab": {
          "base_uri": "https://localhost:8080/",
          "height": 547
        },
        "id": "ejgqE6auqb6c",
        "outputId": "1af925c5-b895-463d-93e6-c3ae691d8b51"
      },
      "source": [
        "df= pd.read_json('/content/drive/MyDrive/amazon_data_scrapping/Data files/Potporri_Reviews.json', orient='index')\n",
        "df.head()"
      ],
      "execution_count": 2,
      "outputs": [
        {
          "output_type": "execute_result",
          "data": {
            "text/html": [
              "<div>\n",
              "<style scoped>\n",
              "    .dataframe tbody tr th:only-of-type {\n",
              "        vertical-align: middle;\n",
              "    }\n",
              "\n",
              "    .dataframe tbody tr th {\n",
              "        vertical-align: top;\n",
              "    }\n",
              "\n",
              "    .dataframe thead th {\n",
              "        text-align: right;\n",
              "    }\n",
              "</style>\n",
              "<table border=\"1\" class=\"dataframe\">\n",
              "  <thead>\n",
              "    <tr style=\"text-align: right;\">\n",
              "      <th></th>\n",
              "      <th>reviewDate</th>\n",
              "      <th>reviewRating</th>\n",
              "      <th>reviewText</th>\n",
              "      <th>reviewTitle</th>\n",
              "    </tr>\n",
              "  </thead>\n",
              "  <tbody>\n",
              "    <tr>\n",
              "      <th>0</th>\n",
              "      <td>Reviewed in the United States on November 23, 2019</td>\n",
              "      <td>5.0 out of 5 stars</td>\n",
              "      <td>Bought 3 of these to fill a vase/jar in my bathroom. Color did go well with my bathroom setting. Scent smell is good enough and keeping the bad odor out of my bathroom. It worked out for me.\\n\\nused 4.5 packs to fill the jar (11 inches height , 5.5 inches diameter)</td>\n",
              "      <td>It suited and worked out well with my bathroom setting!!!!</td>\n",
              "    </tr>\n",
              "    <tr>\n",
              "      <th>1</th>\n",
              "      <td>Reviewed in the United States on September 7, 2019</td>\n",
              "      <td>4.0 out of 5 stars</td>\n",
              "      <td>I got the blue ones, 2 pack. They're beautiful and smells great but the scent lasted maybe 2 weeks. I kept them and plan to put essential oils on them and see how that does. I love the look just wish it held the scent longer.</td>\n",
              "      <td>They're pretty but wishes they held the scent longer</td>\n",
              "    </tr>\n",
              "    <tr>\n",
              "      <th>2</th>\n",
              "      <td>Reviewed in the United States on December 17, 2020</td>\n",
              "      <td>1.0 out of 5 stars</td>\n",
              "      <td>I bought the \"Rose\" scented package. There were a decent amount of dried flowers and other ingredients. The package came with a VERY small bottle of scent that you have to sprinkle onto the dried items in order to get a scent. The quality of the Rose scent is actually quite nice, with no odd chemical odors. That is a great positive for this potpourri. However, that nice and light scent doesn't last very long. I made two small bowls and used about half of the VERY small bottle of scent between the two bowls. The scent lasted a bit over a week, and that was it. Once the scent evaporates there is nearly no scent left. Back a couple of decades ago when potpourri seemed much more popular I could buy big bags locally. And their scent would last months, and the scent was infused into the dried flowers and other dried items with no need to sprinkle a scent oil on. I've had some potpourri that is pre-infused that I could still smell nearly a YEAR later. This product not at all. I expect a potpourri to have a nice scent that lasts at least 2-3 months with a nice intensity of scent. That does not happen with this potpourri, not at all. I will not be purchasing this potpourri again as it is too expensive for a scent that only last about 2 weeks.</td>\n",
              "      <td>Too expensive for very short live scent.</td>\n",
              "    </tr>\n",
              "    <tr>\n",
              "      <th>3</th>\n",
              "      <td>Reviewed in the United States on June 5, 2020</td>\n",
              "      <td>5.0 out of 5 stars</td>\n",
              "      <td>A product looks appealing with an alluring aroma. A man found a small empty bottle of scented oil in a package, he is not sure why. A man also discovers potpourri means “rotten pot” in French.</td>\n",
              "      <td>Alluring</td>\n",
              "    </tr>\n",
              "    <tr>\n",
              "      <th>4</th>\n",
              "      <td>Reviewed in the United States on February 5, 2021</td>\n",
              "      <td>5.0 out of 5 stars</td>\n",
              "      <td>I am usually an \"anti-scent\" person as most scents give me a headache. But, my mom really likes having things like this in her room for a \"pop of color\" as she puts it. I didn't realize when I ordered, but was pleased to find that there actually isn't a scent on it at first. It comes with a tiny bottle of oil (I think it's oil - some kind of liquid) that is the scent, so you can put on as little or as much as you want! Yay! Mom can have her pop of color and I can have my scent free home, win-win. Also, it's very pretty! Take a minute or two to pick out your favorite pieces and put them on top so you can enjoy them the most. Good find!</td>\n",
              "      <td>Very nice</td>\n",
              "    </tr>\n",
              "  </tbody>\n",
              "</table>\n",
              "</div>"
            ],
            "text/plain": [
              "                                           reviewDate        reviewRating  \\\n",
              "0  Reviewed in the United States on November 23, 2019  5.0 out of 5 stars   \n",
              "1  Reviewed in the United States on September 7, 2019  4.0 out of 5 stars   \n",
              "2  Reviewed in the United States on December 17, 2020  1.0 out of 5 stars   \n",
              "3  Reviewed in the United States on June 5, 2020       5.0 out of 5 stars   \n",
              "4  Reviewed in the United States on February 5, 2021   5.0 out of 5 stars   \n",
              "\n",
              "                                                                                                                                                                                                                                                                                                                                                                                                                                                                                                                                                                                                                                                                                                                                                                                                                                                                                                                                                                                                                                                                                                                                                                                                                                                                                              reviewText  \\\n",
              "0  Bought 3 of these to fill a vase/jar in my bathroom. Color did go well with my bathroom setting. Scent smell is good enough and keeping the bad odor out of my bathroom. It worked out for me.\\n\\nused 4.5 packs to fill the jar (11 inches height , 5.5 inches diameter)                                                                                                                                                                                                                                                                                                                                                                                                                                                                                                                                                                                                                                                                                                                                                                                                                                                                                                                                                                                                                               \n",
              "1  I got the blue ones, 2 pack. They're beautiful and smells great but the scent lasted maybe 2 weeks. I kept them and plan to put essential oils on them and see how that does. I love the look just wish it held the scent longer.                                                                                                                                                                                                                                                                                                                                                                                                                                                                                                                                                                                                                                                                                                                                                                                                                                                                                                                                                                                                                                                                       \n",
              "2  I bought the \"Rose\" scented package. There were a decent amount of dried flowers and other ingredients. The package came with a VERY small bottle of scent that you have to sprinkle onto the dried items in order to get a scent. The quality of the Rose scent is actually quite nice, with no odd chemical odors. That is a great positive for this potpourri. However, that nice and light scent doesn't last very long. I made two small bowls and used about half of the VERY small bottle of scent between the two bowls. The scent lasted a bit over a week, and that was it. Once the scent evaporates there is nearly no scent left. Back a couple of decades ago when potpourri seemed much more popular I could buy big bags locally. And their scent would last months, and the scent was infused into the dried flowers and other dried items with no need to sprinkle a scent oil on. I've had some potpourri that is pre-infused that I could still smell nearly a YEAR later. This product not at all. I expect a potpourri to have a nice scent that lasts at least 2-3 months with a nice intensity of scent. That does not happen with this potpourri, not at all. I will not be purchasing this potpourri again as it is too expensive for a scent that only last about 2 weeks.   \n",
              "3  A product looks appealing with an alluring aroma. A man found a small empty bottle of scented oil in a package, he is not sure why. A man also discovers potpourri means “rotten pot” in French.                                                                                                                                                                                                                                                                                                                                                                                                                                                                                                                                                                                                                                                                                                                                                                                                                                                                                                                                                                                                                                                                                                        \n",
              "4  I am usually an \"anti-scent\" person as most scents give me a headache. But, my mom really likes having things like this in her room for a \"pop of color\" as she puts it. I didn't realize when I ordered, but was pleased to find that there actually isn't a scent on it at first. It comes with a tiny bottle of oil (I think it's oil - some kind of liquid) that is the scent, so you can put on as little or as much as you want! Yay! Mom can have her pop of color and I can have my scent free home, win-win. Also, it's very pretty! Take a minute or two to pick out your favorite pieces and put them on top so you can enjoy them the most. Good find!                                                                                                                                                                                                                                                                                                                                                                                                                                                                                                                                                                                                                                      \n",
              "\n",
              "                                                   reviewTitle  \n",
              "0   It suited and worked out well with my bathroom setting!!!!  \n",
              "1   They're pretty but wishes they held the scent longer        \n",
              "2   Too expensive for very short live scent.                    \n",
              "3   Alluring                                                    \n",
              "4   Very nice                                                   "
            ]
          },
          "metadata": {
            "tags": []
          },
          "execution_count": 2
        }
      ]
    },
    {
      "cell_type": "code",
      "metadata": {
        "id": "LyGOLp54rB9s"
      },
      "source": [
        "df['reviewDate']= df['reviewDate'].apply(lambda date:re.sub('Reviewed in the United States on ',\"\", date).strip())\n",
        "df['reviewRating']= df['reviewRating'].apply(lambda rating: re.sub(' out of 5 stars',\"\", rating).strip()) \n",
        "df['reviewRating']= df.reviewRating.astype('float')\n",
        "df['reviewClass']=df.apply(lambda row: 1 if row.reviewRating>=4.0 else 0, axis=1)\n",
        "# df['reviewText']= df['reviewTitle'] + '. '+ df['reviewText']\n",
        "df['reviewText']= df['reviewText'].apply(lambda review: review.lower())\n",
        "df['reviewText'] = df['reviewText'].apply(lambda review:re.sub(\"\\n\", ' ', review))\n",
        "\n",
        "#shortforms\n",
        "df['reviewText']= df['reviewText'].apply(lambda review: re.sub('bc|b/c', 'because', review))\n",
        "df['reviewText']= df['reviewText'].apply(lambda review: re.sub(\"wasn’t\", 'was not', review))\n",
        "df['reviewText']= df['reviewText'].apply(lambda review: re.sub(\"i’m\", 'i am', review))\n",
        "df['reviewText']= df['reviewText'].apply(lambda review: re.sub(\"i'm\", 'i am', review))\n",
        "df['reviewText']= df['reviewText'].apply(lambda review: re.sub(\"doesn’t\", 'does not', review))\n",
        "df['reviewText']= df['reviewText'].apply(lambda review: re.sub(\"doesn't\", 'does not', review))\n",
        "df['reviewText']= df['reviewText'].apply(lambda review: re.sub(\"didn’t\", 'did not', review))\n",
        "df['reviewText']= df['reviewText'].apply(lambda review: re.sub(\"won't\", 'will not', review))\n",
        "df['reviewText']= df['reviewText'].apply(lambda review: re.sub(\"won’t\", 'will not', review))\n",
        "df['reviewText']= df['reviewText'].apply(lambda review: re.sub(\"don’t\", 'do not', review))\n",
        "df['reviewText']= df['reviewText'].apply(lambda review: re.sub(\"can't\", 'can not', review))\n",
        "df['reviewText']= df['reviewText'].apply(lambda review: re.sub(\"it's\", 'it is', review))\n",
        "df['reviewText']= df['reviewText'].apply(lambda review: re.sub(\"it’s\", 'it is', review))\n",
        "# df['reviewText']= df['reviewText'].apply(lambda review: re.sub(\"(\\\\d|\\\\W)+\", ' ', review))\n",
        "df['reviewText']= df['reviewText'].apply(lambda review: re.sub(\"(\\\\d)+\", ' ', review))"
      ],
      "execution_count": 3,
      "outputs": []
    },
    {
      "cell_type": "code",
      "metadata": {
        "colab": {
          "base_uri": "https://localhost:8080/"
        },
        "id": "nfrMyOnQYve5",
        "outputId": "f0ad49bf-d9b7-4fda-bcb9-5917997fc080"
      },
      "source": [
        "df.shape"
      ],
      "execution_count": 4,
      "outputs": [
        {
          "output_type": "execute_result",
          "data": {
            "text/plain": [
              "(670, 5)"
            ]
          },
          "metadata": {
            "tags": []
          },
          "execution_count": 4
        }
      ]
    },
    {
      "cell_type": "code",
      "metadata": {
        "id": "0j_rTpvFueqy"
      },
      "source": [
        "df['reviewText']"
      ],
      "execution_count": null,
      "outputs": []
    },
    {
      "cell_type": "code",
      "metadata": {
        "id": "eqge8Um-tUzB"
      },
      "source": [
        "# reviews=df[df['sentiment']==1]['reviewText']\n",
        "reviews=df[df['reviewClass']==1]['reviewText']\n",
        "positive_reviews=''\n",
        "for review in reviews:\n",
        "  positive_reviews= positive_reviews+\" \"+review\n",
        "\n"
      ],
      "execution_count": 6,
      "outputs": []
    },
    {
      "cell_type": "code",
      "metadata": {
        "id": "nqn6mp4aanAB"
      },
      "source": [
        "# reviews=df[df['sentiment']==0]['reviewText']\n",
        "reviews=df[df['reviewClass']==0]['reviewText']\n",
        "negative_reviews=''\n",
        "for review in reviews:\n",
        "  negative_reviews= negative_reviews+\" \"+review"
      ],
      "execution_count": 7,
      "outputs": []
    },
    {
      "cell_type": "code",
      "metadata": {
        "id": "q-oAk8VWt1j4",
        "colab": {
          "base_uri": "https://localhost:8080/",
          "height": 116
        },
        "outputId": "414a1daf-a43c-46e7-cda0-f841b51bf786"
      },
      "source": [
        "positive_reviews"
      ],
      "execution_count": 8,
      "outputs": [
        {
          "output_type": "execute_result",
          "data": {
            "application/vnd.google.colaboratory.intrinsic+json": {
              "type": "string"
            },
            "text/plain": [
              "'  it suited and worked out well with my bathroom setting!!!!. bought   of these to fill a vase/jar in my bathroom. color did go well with my bathroom setting. scent smell is good enough and keeping the bad odor out of my bathroom. it worked out for me.  used  .  packs to fill the jar (  inches height ,  .  inches diameter)  they\\'re pretty but wishes they held the scent longer. i got the blue ones,   pack. they\\'re beautiful and smells great but the scent lasted maybe   weeks. i kept them and plan to put essential oils on them and see how that does. i love the look just wish it held the scent longer.  alluring. a product looks appealing with an alluring aroma. a man found a small empty bottle of scented oil in a package, he is not sure why. a man also discovers potpourri means “rotten pot” in french.  very nice. i am usually an \"anti-scent\" person as most scents give me a headache. but, my mom really likes having things like this in her room for a \"pop of color\" as she puts it. i didn\\'t realize when i ordered, but was pleased to find that there actually isn\\'t a scent on it at first. it comes with a tiny bottle of oil (i think it is oil - some kind of liquid) that is the scent, so you can put on as little or as much as you want! yay! mom can have her pop of color and i can have my scent free home, win-win. also, it is very pretty! take a minute or two to pick out your favorite pieces and put them on top so you can enjoy them the most. good find!  potpourri bag yellow color scented. potpourri was small & cute for what i needed it for to fill a dish in my bathroom which didn\\'t have bulky big items in it and that is what i wanted, it also came with a very small bottle of fragrance, which didn\\'t last long-but all in all it covered what i needed it for  smells wonderful. this smells wonderful. but i need more of the oil that\\'s included. how do i buy the exact oil separately? other than that would have given a perfect rating  it is very pretty with the different pieces. in a pretty dish, just the right accent piece.. i thought the colors and the different pieces were very nice. i was sure it came with a little scent bottle with dropper. i plan on getting the green and the tourquise. my husband of   years passed away and i have a table that i keep his picture on, a vase with flowers from the funeral and a little bowl that i keep dark chocolate hershey kisses in for when i want a kiss from him. i added the potpourri in a matching bowl and added to the table ( i did not add all in the one bag, i am going to put the rest in my room). it looks very pretty. i can’t address the longevity of the aroma since i just received it today. i posted a pic but the pic does not do the colors justice. i did not use the second bag, i plan on putting in some cloth and putting in my dresser drawers. i love it.  perfect product. the turquoise color looks even better in person and the smell of this potpourri is amazing. i would and will buy this again.  it is nice if i didn\\'t know where else to look..... i ordered the april garden color and it is really nice. it has a delicate scent that does not overpower the room. the product is packed beautifully. it really adds some depth to my bathroom. it also comes with some more oil to freshen it up.  however, i went to my local dollar tree and they had the same single bag for a buck!!! (no oil included or fancy packaging) i swear it is the same. so.... you guys can guess where i\\'ll be buying from next.  the fragrance. i love the fragrance so much. i had an old water fountain that no longer worked, so i used it as a vase for the potpourri from qingbei rina. also, the inclusion of the little bottle of the liquid fragrance was an added bonus. definitely will order over and over and over again. price point was very fair given that you received a bottle of the liquid fragrance.  i love it! thank you,  sandia  love this!. very happy with this purchase. fits with our overall color scheme (blue/white) and i really like the scent. includes a small vial of the essential oil when the scent fades over time which is appreciated! i do have to find a nicer bowl to display it in now!  almost   stars!. received this today and the scent dropper was nearly empty when arrived. [picture attached] other than that, delivery was fast, colors were as expected, and scent was not overwhelming. placed in a cylinder in my kid\\'s bathroom.  beautiful for fall decorating. love the color and subtle citrus aroma. i was impressed that a small vial of oil was included for refreshing the potpourri as needed. the aroma is not strong, but i also use scented candles, so i am not dependent on the potpourri for a pleasant smell. i would order this again just for the color and beauty of the mixture.  nice. good price for   bags. was able to fill each vase completely.  bigger bottles of scent oil are differently needed , since the scent only last a many an hour.. beautiful scent, my daughter loved the rose scent , only if the scent lasted longer, a tiny bottle was included , many if that six drops i got out of that tiny bottle for two nice size bags of potpourri not enough scent oil. or let the buyer know where to order additional bottles . other than that my bathroom smells beautiful.  toxic to pets. smells very nice! it was a bit too pungent at first and thought it’d bother my daughter who’s allergic to fragrances but after   hrs it is just perfect! i also read it is toxic to cats and although i have three they’re very well fed and have plenty of toys they weren’t curious to eat or play w/chips! so be careful if you have pers!  blue ocean potpourri. the fragrance was very nice. color, scent, packaging and very fast it came in. i ordered this for my daughters wedding. very nice from this company.  price could be lower. great color. there was no free gift attached and there was no link to select the free gift. fresh scent  the fragrance. i love the fragrance so much. i had an old water fountain that no longer worked, so i used it as a vase for the potpourri from qingbei rina. also, the inclusion of the little bottle of the liquid fragrance was an added bonus. definitely will order over and over and over again. price point was very fair given that you received a bottle of the liquid fragrance.  i love it! thank you,  sandia  love this!. very happy with this purchase. fits with our overall color scheme (blue/white) and i really like the scent. includes a small vial of the essential oil when the scent fades over time which is appreciated! i do have to find a nicer bowl to display it in now!  almost   stars!. received this today and the scent dropper was nearly empty when arrived. [picture attached] other than that, delivery was fast, colors were as expected, and scent was not overwhelming. placed in a cylinder in my kid\\'s bathroom.  beautiful for fall decorating. love the color and subtle citrus aroma. i was impressed that a small vial of oil was included for refreshing the potpourri as needed. the aroma is not strong, but i also use scented candles, so i am not dependent on the potpourri for a pleasant smell. i would order this again just for the color and beauty of the mixture.  nice. good price for   bags. was able to fill each vase completely.  bigger bottles of scent oil are differently needed , since the scent only last a many an hour.. beautiful scent, my daughter loved the rose scent , only if the scent lasted longer, a tiny bottle was included , many if that six drops i got out of that tiny bottle for two nice size bags of potpourri not enough scent oil. or let the buyer know where to order additional bottles . other than that my bathroom smells beautiful.  toxic to pets. smells very nice! it was a bit too pungent at first and thought it’d bother my daughter who’s allergic to fragrances but after   hrs it is just perfect! i also read it is toxic to cats and although i have three they’re very well fed and have plenty of toys they weren’t curious to eat or play w/chips! so be careful if you have pers!  blue ocean potpourri. the fragrance was very nice. color, scent, packaging and very fast it came in. i ordered this for my daughters wedding. very nice from this company.  price could be lower. great color. there was no free gift attached and there was no link to select the free gift. fresh scent  the shape and design of the product. love most every thing about this product. some of the pieces we’re not really usable, so i tossed those out. other than that small detail, it is a great product. i will reorder when i need more. sting 🐝  excellent!. a very nice mix of potpourri with a really nice fresh scent. i was pleasantly surprised to find a small bottle of refresher fragrance included! the bathroom smells like the ocean! love it.  definitely would recommend!. i gave it   stars only because i can’t really smell it that good once it is in the dish. the smell is really beautiful, and looks very pretty in the dish. just wish it was a stronger smell!  amazing...... my daughter was trying plug ins and i said no no - mom got you and she loves it , now she orders it on her own for her new house ...thank you  pleasant smell. the color is a soft yellow with shades of black/brown throughout. the scent is pleasant mixture of soft flowers/powder/lemons but not over powered. only used for   days now still has pleasant smell.   bags were sealed well, tied with ribbon, no tears. i would buy this product again.  lovely scent but does not last long.. beautiful pot pourri with bright colors and smells very nice. unfortunately the scent does not last very long.  grateful! fast delivery!. plus received an extra   bags! so generous! minus none! interesting: the packaging!  great buy. nice citrus smell, attractive presentation, nice to get the refresher oil in the package, great to get   bags for such a reasonable price  potpourri. arrived in a timely manner, smells n looks festive for the season.  i am buying this every for every season change!. handmade, wonderful scent, nice packaging, and it comes with a vial of essence to prolong the fragrance!  good scent. wish i could get more of the product for the price. its got a nice scent. only been a few days so i’ll see how long it lasts. the colors are nice.  amazing scent. item ordered and received timely. love the scent. will definitely order from company again.  pleasant smell. the color is a soft yellow with shades of black/brown throughout. the scent is pleasant mixture of soft flowers/powder/lemons but not over powered. only used for   days now still has pleasant smell.   bags were sealed well, tied with ribbon, no tears. i would buy this product again.  lovely scent but does not last long.. beautiful pot pourri with bright colors and smells very nice. unfortunately the scent does not last very long.  grateful! fast delivery!. plus received an extra   bags! so generous! minus none! interesting: the packaging!  great buy. nice citrus smell, attractive presentation, nice to get the refresher oil in the package, great to get   bags for such a reasonable price  potpourri. arrived in a timely manner, smells n looks festive for the season.  i am buying this every for every season change!. handmade, wonderful scent, nice packaging, and it comes with a vial of essence to prolong the fragrance!  good scent. wish i could get more of the product for the price. its got a nice scent. only been a few days so i’ll see how long it lasts. the colors are nice.  amazing scent. item ordered and received timely. love the scent. will definitely order from company again.  good color. light rose scent does not last very long. they give you a very tiny droplet bottle of rose oil but after two drops it is gone.  beautiful appearance, lovely scent!. nice surprise! i was delighted to find a small vial scented oil with the potpourri. enhances the smell nicely.  love the smell of this. love the look and smell and look of the blue potpourri! has a light floral scent and the blue colors go great with my bathroom walls. overall i think it is a great value. love that it also comes with a tiny vial that you can add a few drops to the potpourri after the initial scent fades!  smells and looks beautiful. i filled a vase up with it. it looks very beautiful for summer and fall with the colors. nothing was smashed. scent was not overpowering but was present.  smells wonderful!. this smells so nice and looks so pretty in the containers that we put it in. would definitely recommend this product.  the girls are enjoying it. the girls seem to love it. the item was delivered in a timely fashion.  good color. light rose scent does not last very long. they give you a very tiny droplet bottle of rose oil but after two drops it is gone.  beautiful appearance, lovely scent!. nice surprise! i was delighted to find a small vial scented oil with the potpourri. enhances the smell nicely.  love the smell of this. love the look and smell and look of the blue potpourri! has a light floral scent and the blue colors go great with my bathroom walls. overall i think it is a great value. love that it also comes with a tiny vial that you can add a few drops to the potpourri after the initial scent fades!  smells and looks beautiful. i filled a vase up with it. it looks very beautiful for summer and fall with the colors. nothing was smashed. scent was not overpowering but was present.  smells wonderful!. this smells so nice and looks so pretty in the containers that we put it in. would definitely recommend this product.  the girls are enjoying it. the girls seem to love it. the item was delivered in a timely fashion.  great product. delivery was timely and product as described. great job  nice color. arrived very quickly. love the scents, colors were nice and bright  love this!. beautiful scent. excellent customer service and delivery.   gud btru!. i really like the smell but it is not strong enough.  great product. delivery was timely and product as described. great job  nice color. arrived very quickly. love the scents, colors were nice and bright  love this!. beautiful scent. excellent customer service and delivery.   gud btru!. i really like the smell but it is not strong enough.  great value.. am using it in my living room enhance the the scent.  love it!. great refreshing scent. totally different from what scents i usually get. super happy!  wow!. love the scent! and the colors! and the extra little bottle of oil for replenishing the scent!  smells so good..... i didn\\'t know exactly how these would smell, and i was a little worried. lol but to my surprise....they smell so good! i would definitely recommend. and the mixture of blues is really pretty. i need to purchase a couple more.  it was a good amount for the cost. did not last long but that’s to be expected  very nice variety of potpourri.. the scent is very nice fresh smell.  smells nice and looks pretty. potpourri smells really good! it was well packaged and it is a pretty accent to the bowl i have on my table.  very nice,and the price is great. they are very colorful and i like it has a spray bottle to keep it smelling good  great product at a fair price. i used this in my bathroom which is decorated in a sea theme. i was initially skeptical of finding potpourri that would fit the color scheme until i saw this. trust me when i say that a little goes a long way here. overall i couldn\\'t be happier with my purchase!  beautiful mix. smell wonderful! very happy.  scent last less than a month. smells good, scent last for less than   days  great smell. they smell so good. i have very sensitive nose. i don\\'t really like the smell of anything. these smell so good that i wanted to order more for myself and mom.  stunning. beautiful vibrant colors would highly recommend  cute decor. love this product but just wish the scent was a little bit stronger. even though the package was not damage, the liquid scented perfume the came with it spilled all in the plastic bag because the top was not screwed on all the way..i guess  love the colors. the   bags were small but i love the colors and the smell  very nice,and the price is great. they are very colorful and i like it has a spray bottle to keep it smelling good  great product at a fair price. i used this in my bathroom which is decorated in a sea theme. i was initially skeptical of finding potpourri that would fit the color scheme until i saw this. trust me when i say that a little goes a long way here. overall i couldn\\'t be happier with my purchase!  beautiful mix. smell wonderful! very happy.  scent last less than a month. smells good, scent last for less than   days  great smell. they smell so good. i have very sensitive nose. i don\\'t really like the smell of anything. these smell so good that i wanted to order more for myself and mom.  stunning. beautiful vibrant colors would highly recommend  cute decor. love this product but just wish the scent was a little bit stronger. even though the package was not damage, the liquid scented perfume the came with it spilled all in the plastic bag because the top was not screwed on all the way..i guess  love the colors. the   bags were small but i love the colors and the smell  wonderful!. smells really good!  nice product. it is my  st time buying this item. nice  love it. love it  would highly recommend this product.. the fragrance is beautiful and the quality of the product is excellent.  smells good. looks pretty. smells good  smell beautifully. smell amazing! i had hoped for slightly bigger bags. but either way they’re beautiful and smell so great  very nice!. the colors are perfect for fall. i used this as filler in a tall vase. nice scent and i love they provided additional oil!!  love the color purple!!!. i love this scent!! and it is very decorative where ever you put it.  wonderful smelling potpourri!. beautiful potpourri, long lasting scent  wonderful!. smells really good!  nice product. it is my  st time buying this item. nice  love it. love it  would highly recommend this product.. the fragrance is beautiful and the quality of the product is excellent.  smells good. looks pretty. smells good  smell beautifully. smell amazing! i had hoped for slightly bigger bags. but either way they’re beautiful and smell so great  very nice!. the colors are perfect for fall. i used this as filler in a tall vase. nice scent and i love they provided additional oil!!  love the color purple!!!. i love this scent!! and it is very decorative where ever you put it.  wonderful smelling potpourri!. beautiful potpourri, long lasting scent  beautiful scent and came with oil so i can refresh it.. i love the scent of orange and the fact that it came with a refresh bottle of oil was awesome! i put it in my friends christmas stocking and kept pack for myself. my husband loves the scent too and that\\'s an a+!  great potpourri. this potpourri was received as expected!  two packages. nice size packages; there’s   of them, with refresher oil.  great. great  very pretty and a nice addition to my newly remodeled bathroom.. the scent only lasted about two days. otherwise pleased with the product.  nice. great price, smells wonderful  very fragrant. looks nice and smells great for fall  rose petal. scent is good  wonderful potpourri, great buy!. great potpourri! recommend!  smells good.. packaging is definitely small. but it smells wonderful and works for my stinky laundry room n bathrooms  beautiful smelling potpourri!💟🎅🙆\\u200d♀️. smelling as i wished!💟😊  great product and good price. great product  excellent choice. excellent product and it smells great. placed there personal touch with the product with a card and some additional fragrance that can refresh. i really have no complaints about it.  popurri. awesome scent  love the smell. these went perfect in our bathrooms and smells amazing  beautiful colors. very pretty colors!  love it. love love love this!! it was smaller than i expected but ended up fitting absolutely perfect in my vases. one will be going in our living room but just wanted to show it is one bag in each vase. smells soo good. will definitely be buying another!  beautiful smelling potpourri!💟🎅🙆\\u200d♀️. smelling as i wished!💟😊  great product and good price. great product  excellent choice. excellent product and it smells great. placed there personal touch with the product with a card and some additional fragrance that can refresh. i really have no complaints about it.  popurri. awesome scent  love the smell. these went perfect in our bathrooms and smells amazing  beautiful colors. very pretty colors!  love it. love love love this!! it was smaller than i expected but ended up fitting absolutely perfect in my vases. one will be going in our living room but just wanted to show it is one bag in each vase. smells soo good. will definitely be buying another!  calm scent. the smell is amazing calm ..had to buy it again  fragrance. love love love this one! it smells amazing, and lasts pretty long. i am yet to replace the first set that i got, and my bathroom has the fresh scent still!  lovely to look at, lovely to breathe. the potpourri is a bright blue and can be neatly arranged. the scent is wonderful to breathe. i only wish the oil bottle were larger. do hope to be able to purchase a bottle.  great scent and color!. it was color and scent i was looking for and good price.  very pleased. this product was better than i expected. it was packaged very nice, arrived quickly and smells great.  good. looks and smells good  great smell. this product smells great. my house is very open and the scent can be smelled everywhere.  great scent. very pleased with this purchase.  smells good. using it to make the house smell good. lovely scent  love it !. smells great ! love the colors... even had oil come with it to \"re-load\" smell.. ; )  good vase filler. scent was too strong for us, do to allergies. others might not think so.  nice!. smells good!  nice 👌. to think that i almost canceled my order...i would of kicked myself... the price is awesome, the aroma is very nice and noticeable...i absolutely will by more from this company...strongly recommend...🥰  fragrance is wonderful. excellent product  good product. used with scented candle works well  smells wonderful!!!! thinking of ordering more for friends.. the bathroom  smells good. using it to make the house smell good. lovely scent  love it !. smells great ! love the colors... even had oil come with it to \"re-load\" smell.. ; )  good vase filler. scent was too strong for us, do to allergies. others might not think so.  nice!. smells good!  nice 👌. to think that i almost canceled my order...i would of kicked myself... the price is awesome, the aroma is very nice and noticeable...i absolutely will by more from this company...strongly recommend...🥰  fragrance is wonderful. excellent product  good product. used with scented candle works well  smells wonderful!!!! thinking of ordering more for friends.. the bathroom  quick arrival and smells great!. there is even a little bottle of fragrance refresher.  good price. very colorful and smells delicious  good buy!. geat scent... looks just like photo  great buy!. i was pleasantly surprised that it came with a small vile of essential oil to add additional scent to the potpourri. i bought the orange color for holiday decorating and would buy again.  as advertised. love it, my living room smells great. very happy with this product will def buy again.  satisfied. it smelled wonderful!!!  pink rose scent fresh potpourri bag - nice presentation. it was exactly what i was looking for with a very nice aroma  love it!!!. love the smell and perfect for my table decor  beautiful presentation and great scent. beautiful colors and presentation. smells really nice  potpourri. great scent and beautiful colors  love the smell. it is potpourri  love the product. nice not overpowering scent and very colorful. will buy again  small but enough. i thought it was going to be a little bit bigger but it was still good  good smell. thanks.. i like the smell hopefully it lasts.  pink rose scent fresh potpourri bag - nice presentation. it was exactly what i was looking for with a very nice aroma  love it!!!. love the smell and perfect for my table decor  beautiful presentation and great scent. beautiful colors and presentation. smells really nice  potpourri. great scent and beautiful colors  love the smell. it is potpourri  love the product. nice not overpowering scent and very colorful. will buy again  small but enough. i thought it was going to be a little bit bigger but it was still good  good smell. thanks.. i like the smell hopefully it lasts.  product was good. product scent good packaging great  i would definitely buy again.. smells and looks amazing!  great quality. great smell  great bargain smells great. super good deal  great!. exactly what i wanted! smells great!  smells amazing!!. smells amazing!! love the colors.  product was good. product scent good packaging great  i would definitely buy again.. smells and looks amazing!  great quality. great smell  great bargain smells great. super good deal  great!. exactly what i wanted! smells great!  smells amazing!!. smells amazing!! love the colors.  aroma. smells great,very happy with this  color is beautiful. scent is good but goes away in just a couple of days.  great buy. love the scent and packaging.  love the bright color and the soothing smell. excellent i buoyed every year and it is works really good and my house smell like heaven  the scent. i love the scent, it is very rich and exquisite, but not overpowering. i place it in my bedroom.  loved it. very happy with my order, just what i was looking for. scent is wonderful.  good. good  aroma. smells great,very happy with this  color is beautiful. scent is good but goes away in just a couple of days.  great buy. love the scent and packaging.  love the bright color and the soothing smell. excellent i buoyed every year and it is works really good and my house smell like heaven  the scent. i love the scent, it is very rich and exquisite, but not overpowering. i place it in my bedroom.  loved it. very happy with my order, just what i was looking for. scent is wonderful.  good. good  not long lasting. scent does not last long.  the scent oil has to be added all the time. it smells so beautiful. makes the bathroom smell assome  smells amazing & looks beautiful. i am so glad i bought this potpourri! it seriously smells amazing and the colors are so vibrant and happy. would definitely buy again.  pretty. the color is vibrant which i like. it is strongly scented and very pretty. i am happy i purchased it.  loved!. i loved how much we received for the price. they smell great and the colors are lovely.  smells so good!!. smells great and really pretty in appearance!  nice scent. they color of the mix was really rich and the bottle of scented oil was an unexpected bonus. i will purchase again. thanks!  nice. i like the potpourri colors. the scent is nice too; i wish it was more potent.  not long lasting. scent does not last long.  the scent oil has to be added all the time. it smells so beautiful. makes the bathroom smell assome  smells amazing & looks beautiful. i am so glad i bought this potpourri! it seriously smells amazing and the colors are so vibrant and happy. would definitely buy again.  pretty. the color is vibrant which i like. it is strongly scented and very pretty. i am happy i purchased it.  loved!. i loved how much we received for the price. they smell great and the colors are lovely.  smells so good!!. smells great and really pretty in appearance!  nice scent. they color of the mix was really rich and the bottle of scented oil was an unexpected bonus. i will purchase again. thanks!  nice. i like the potpourri colors. the scent is nice too; i wish it was more potent.  this is a great product. i am  % satisfied with this product. my house smells like a flower garden and i am very happy for this.  pretty colors. scent is nice. a little expensive for the quanity  the product exceeded my expectations. i liked that i can use the product in batches  well wrapped and lovely presentation. got package well wrapped and quickly obtained👍 just what i wanted and i am thrilled 😄  perfect. exactly as described  love it!. extremely long lasting scent! love it!  nice. very pretty  great purchase. exactly what i wanted  buy this.. perfect.  scent. smells so refreshing  scent. exactly as i ordered  smells great. great smell great colors even came with oil to re boost  just what we were looking for. it was what we were looking for . the stores where we live do not have this product  value for money. the fragrance is nice.  very nice look and scent, will buy more. awesome scent and love the bottle that came with to refresh the potpourri!  wonderful smell. i will get this again.. great long lasting smell.  perfect!. beautiful colors and a lovely clean scent. will definitely buy again!  fresh. smells and looks good in my bathroom  quality product. beautiful and great smelling. would buy again.  great product!!. loved it so much that i placed another order the next day!  value for money. the fragrance is nice.  very nice look and scent, will buy more. awesome scent and love the bottle that came with to refresh the potpourri!  wonderful smell. i will get this again.. great long lasting smell.  perfect!. beautiful colors and a lovely clean scent. will definitely buy again!  fresh. smells and looks good in my bathroom  quality product. beautiful and great smelling. would buy again.  great product!!. loved it so much that i placed another order the next day!  nothing. fragrance isn’t strong enough  color. wall sconses  satisfied. the packaging was great, amazing scent that filled my atmosphere. very calming.  great scent. great scent..just like real oranges.  the bags are smaller than they look. smells really good!!  awesome. wonderful smell and the colors match perfectly  good scent. great seller. very reliable.  nice. smells nice  nothing. fragrance isn’t strong enough  color. wall sconses  satisfied. the packaging was great, amazing scent that filled my atmosphere. very calming.  great scent. great scent..just like real oranges.  the bags are smaller than they look. smells really good!!  awesome. wonderful smell and the colors match perfectly  good scent. great seller. very reliable.  nice. smells nice  potpourri. i like it all...used for room scent  soso. small is great ,do not last long tho  fresh and orange. n  e scent to enter a room rith  smells awesome. smells great....does not last as long as i would like it to tho  great. great  smells so good. smells so good  i love the smell. beautiful dried flowers and lovely smell  potpourri. i like it all...used for room scent  soso. small is great ,do not last long tho  fresh and orange. n  e scent to enter a room rith  smells awesome. smells great....does not last as long as i would like it to tho  great. great  smells so good. smells so good  i love the smell. beautiful dried flowers and lovely smell  i plan to buy it again!!!. love the scent and vivid colors!  good scent and color as advertised. love the scent and color  great. great  worth it.. worth the money.  potpourri. love it the color and the scent  as expected. nice packaging  satisfied. the dry flowers were pretty and colorful  review. good product  great product and scent!. great scent and mixture, will buy again!  great. everything  love it! perfect for valentine’s day. beautiful! love the rose scent. will buy from this seller again.  wonderful smell. i reorder every spring.  love the price and the quality! excellent. love it!  perfect!. used these for my flower girl!  thanks. thanks  floral. fine  wonderful. it smelled wonderful and fresh.  great price for two big packages.. beautiful and smells wonderful.  well worth price for product. i love product last long time  fragrance. like the fragrance and the quick delivery.  good product at a good price. beach color and fragrance.  scent and look. loved the look in my bowl  good buy!. smells amazing. 😘  in love with the product and details. perfect, love it  cute!. love it!  great buy. smells lovely  the fast delivery. the colors  good product. decorating  i love it. ok  great potpourri. great color and scent  excellent buy. love this product  beautiful product.. beautiful color and fragrance! great value. beautiful product!  in love with the product and details. perfect, love it  cute!. love it!  great buy. smells lovely  the fast delivery. the colors  good product. decorating  i love it. ok  great potpourri. great color and scent  excellent buy. love this product  beautiful product.. beautiful color and fragrance! great value. beautiful product!  beautiful and a lot of care and time must have gone into creating these beautiful potpourri packages.  st of all these came in a very timely fashion. they came in such a cute package. a lot of care went into making these and packaging. i love everything about them the color the smell, they were just perfect. definitely would buy again!!!!  nice potpourri.. it is really pretty. purple is my favorite color. smells good. worth the price. i was happy with my purchase.  smells amazing. i liked everything about it, the color of the potpourri was perfect and it had a wonderful aroma. i would like to be able to purchase more of the ocean scent oil that comes with it.  perfect. this item was delivered quickly , the colors were perfect and the smell is amazing!  scent. gift  great color, small amount, oil leaked, good smell but not lasting. i purchased these for the color (orange) alone. the color is oranger and brighter than burnt oranges and browns as show in the photos. i read that some thought there would be more filler, so i bought a two pack and am glad i did. i referenced the package size by standing it next to a beer bottle and the width of the package is about the same size, unlike usual potpourri with the larger pieces. the potpourri smelled like oranges when it arrived, very nice, but noticed it didn\\'t smell much after a week. i placed my bowl on a shelf on march   and took it down today, march  , to take more photos. i had not opened the scented oil bottle (it was included) and left it on top of the potpourri, only to find it had leaked. i am not sure why it leaked now and hadn\\'t during transit. as someone noted, the bottle was only half filled, but in my experience with very small bottles, i don\\'t expect it to be filled to the brim. i don\\'t even think the basic description indicated it included the oil, so it would have been a bonus. overall, i am happy with the purchase because i really just wanted it for the color.  wonderful. i bought this potpourri to use to stuff ornaments i made. the scent was wonderful and the pieces were the right size for what i needed. they even supplied a small bottle of rose oil which was great. i highly recommend this product and will most likely get more myself.  very pretty and smells nice!. i would say that the quantity of potpourri that you get for the price is pretty good. for some reason, potpourri tends to be expensive, and getting enough of it to fill things up can sometimes be pricey. these two bags are pretty sizeable and i was able to fill a very big, shallow basket about half full with the two of them. i also got another box of potpourri from the same company to provide a little more \"substance\" since the pieces in it are bigger. but overall i am very happy with the look, smell, and color of this potpourri.  beautiful and a lot of care and time must have gone into creating these beautiful potpourri packages.  st of all these came in a very timely fashion. they came in such a cute package. a lot of care went into making these and packaging. i love everything about them the color the smell, they were just perfect. definitely would buy again!!!!  nice potpourri.. it is really pretty. purple is my favorite color. smells good. worth the price. i was happy with my purchase.  smells amazing. i liked everything about it, the color of the potpourri was perfect and it had a wonderful aroma. i would like to be able to purchase more of the ocean scent oil that comes with it.  perfect. this item was delivered quickly , the colors were perfect and the smell is amazing!  scent. gift  great color, small amount, oil leaked, good smell but not lasting. i purchased these for the color (orange) alone. the color is oranger and brighter than burnt oranges and browns as show in the photos. i read that some thought there would be more filler, so i bought a two pack and am glad i did. i referenced the package size by standing it next to a beer bottle and the width of the package is about the same size, unlike usual potpourri with the larger pieces. the potpourri smelled like oranges when it arrived, very nice, but noticed it didn\\'t smell much after a week. i placed my bowl on a shelf on march   and took it down today, march  , to take more photos. i had not opened the scented oil bottle (it was included) and left it on top of the potpourri, only to find it had leaked. i am not sure why it leaked now and hadn\\'t during transit. as someone noted, the bottle was only half filled, but in my experience with very small bottles, i don\\'t expect it to be filled to the brim. i don\\'t even think the basic description indicated it included the oil, so it would have been a bonus. overall, i am happy with the purchase because i really just wanted it for the color.  wonderful. i bought this potpourri to use to stuff ornaments i made. the scent was wonderful and the pieces were the right size for what i needed. they even supplied a small bottle of rose oil which was great. i highly recommend this product and will most likely get more myself.  very pretty and smells nice!. i would say that the quantity of potpourri that you get for the price is pretty good. for some reason, potpourri tends to be expensive, and getting enough of it to fill things up can sometimes be pricey. these two bags are pretty sizeable and i was able to fill a very big, shallow basket about half full with the two of them. i also got another box of potpourri from the same company to provide a little more \"substance\" since the pieces in it are bigger. but overall i am very happy with the look, smell, and color of this potpourri.  beautiful and great value for price!. the scent and the vibrant color are amazing! love it at the first sight ! it is packaged in   bags. i used one of them in the entryway yesterday, now the whole space is full of a cool delicate aroma! will put another in my bathroom. great value! recommend!  such a longlasting scent. this is the longest lasting potpourri i have ever purchased. months ago placed in small bowl in bathroom, where door is mostly open, and when you walk in. . . the aroma is still present. this is my second purchase of this scent, and will be back for more. this is a quality product, exceptional and, oh, lovely presentation.  looks pretty. the scent was very faint and what i did smell wasn\\'t as good as i had hoped. i most likely will not purchase again.  high quality appearance & ample scent. very pleased with this potpourri! strongly scented from bag. i expect it to last a long time. came with a small vial of refresher oil! the bits and pieces of natural objects are interesting and visually pleasing in the bowl.  not your grandmother\\'s potpourri. this potpourri smells delightful and fresh. i love the look of it. i also am happy that it came with a vial of scented oil to refresh once the smell fades. i will say you only need a little bit out at a time. i made the mistake of dumping the entire bag out in an uncovered bowl and the scent was very overpowering.  very good, smells nice. very cute and just want i needed for my bathroom. ive had it in a mason jar for a few weeks now and the scent is still just as strong as the day i put it in there. its a nice clean scent and im usually very sensitive to smells.  love the scent. this is part of a christmas gift that i purchased for my daughter. when i opened the shipping package, i immediately smelled the fresh scent of oranges. it wasn\\'t too overbearing, just a pleasant aroma. i hope the scent last until she receives and opens the package.  beautiful and great value for price!. the scent and the vibrant color are amazing! love it at the first sight ! it is packaged in   bags. i used one of them in the entryway yesterday, now the whole space is full of a cool delicate aroma! will put another in my bathroom. great value! recommend!  such a longlasting scent. this is the longest lasting potpourri i have ever purchased. months ago placed in small bowl in bathroom, where door is mostly open, and when you walk in. . . the aroma is still present. this is my second purchase of this scent, and will be back for more. this is a quality product, exceptional and, oh, lovely presentation.  looks pretty. the scent was very faint and what i did smell wasn\\'t as good as i had hoped. i most likely will not purchase again.  high quality appearance & ample scent. very pleased with this potpourri! strongly scented from bag. i expect it to last a long time. came with a small vial of refresher oil! the bits and pieces of natural objects are interesting and visually pleasing in the bowl.  not your grandmother\\'s potpourri. this potpourri smells delightful and fresh. i love the look of it. i also am happy that it came with a vial of scented oil to refresh once the smell fades. i will say you only need a little bit out at a time. i made the mistake of dumping the entire bag out in an uncovered bowl and the scent was very overpowering.  very good, smells nice. very cute and just want i needed for my bathroom. ive had it in a mason jar for a few weeks now and the scent is still just as strong as the day i put it in there. its a nice clean scent and im usually very sensitive to smells.  love the scent. this is part of a christmas gift that i purchased for my daughter. when i opened the shipping package, i immediately smelled the fresh scent of oranges. it wasn\\'t too overbearing, just a pleasant aroma. i hope the scent last until she receives and opens the package.  wonderful smell.... i was able to use one bag for two bowls for each bathroom. leaves the bathrooms smelling nice and goes well with the decor. very pleased with the quality and quantity.  orange fresh. much better than other brands. large pieces of dried fruits, rinds, and flowers. they include a small vial of fragrance oil so you can refresh the aroma.  it is exactly what i wanted and ordered. the price is amazing much less than what i usually find to buy where i live. it is very nice looking potpourri. i have never had any of this dry potpourri type that kept a scent very long . haven\\'t had a problem yet and it smelled great coming out of the shipping box! i did get a small bottle of the fragrance with a useful dropper. didn\\'t know that was coming!  good quality. packaged nice..good scent. would purchase again  pretty and smells so great!!. this smells so great!! packaging was great! gave a extra little bottle of the fragrance. i couldn\\'t ask for anything better. i liked it so much i am buying the pink one too. thank you so much for caring about your product.  very fragrent. very fragrent . great amount of product for value of cash. smell dosent last very long ,but the item comes with a lil bottle of oil to replenish the smell.  smells so good. i put it in my bathrooms and it smells soooooooo good.. omg!! i really was not expecting it to smell this good i will be ordering this again!  small but looks good.. as often is the case, the request for this review has come before i\\'ve had a chance to use this item. it looks very nice but it is smaller than i had anticipated. i am glad it came in a   pack.  amazing smelling! . this potpourri smells amazing. it came with a bottle of fragrance to freshen the scent. i am enjoying this smell. great value for the money. nice job!  wonderful smell.... i was able to use one bag for two bowls for each bathroom. leaves the bathrooms smelling nice and goes well with the decor. very pleased with the quality and quantity.  orange fresh. much better than other brands. large pieces of dried fruits, rinds, and flowers. they include a small vial of fragrance oil so you can refresh the aroma.  it is exactly what i wanted and ordered. the price is amazing much less than what i usually find to buy where i live. it is very nice looking potpourri. i have never had any of this dry potpourri type that kept a scent very long . haven\\'t had a problem yet and it smelled great coming out of the shipping box! i did get a small bottle of the fragrance with a useful dropper. didn\\'t know that was coming!  good quality. packaged nice..good scent. would purchase again  pretty and smells so great!!. this smells so great!! packaging was great! gave a extra little bottle of the fragrance. i couldn\\'t ask for anything better. i liked it so much i am buying the pink one too. thank you so much for caring about your product.  very fragrent. very fragrent . great amount of product for value of cash. smell dosent last very long ,but the item comes with a lil bottle of oil to replenish the smell.  smells so good. i put it in my bathrooms and it smells soooooooo good.. omg!! i really was not expecting it to smell this good i will be ordering this again!  small but looks good.. as often is the case, the request for this review has come before i\\'ve had a chance to use this item. it looks very nice but it is smaller than i had anticipated. i am glad it came in a   pack.  amazing smelling! . this potpourri smells amazing. it came with a bottle of fragrance to freshen the scent. i am enjoying this smell. great value for the money. nice job!  lovely assortment. fragrance was strong at first, but then just right later on in the days that followed. they look so nice in the bowl i have them in. good purchase.  works for me. its a beautiful mix of blues with cream colored petals. its perfect for my aqua blue and dark navy blue bathroom decor.  just what i wanted. this came nicely packaged in two bags - with a small bottle of scent included. just what i needed for an arrangement.  nice arrangement of potpourri. this was just what i was looking for and the scent was not overwhelming, just enough. there was plenty of product for the price in the two bags that came. i would purchase again.  five stars. love it!!!  best potpourri ever!. the scent is amazing! i have it in a dish in my bathroom and it is still just as fragrant as it was the day i opened the bag   weeks ago. will definitely buy again!  great scent not to strong not too soft. amazing !! i absolutely love it  nice aroma. the aroma, color, quality and shape are just fantastic. it looks great with any type of decoration.  quality product. quality packaging in two bags. packages were full with plenty of vivid colors!  yummy smell 👌. this potpourri sells super good. i love the look of it as well as the price. i\\'ll definitely buy this again  looks good , smells good. i like the smell and look of this. the smell lasted for a while too.  orange fresh potpourri ( qingbei rina gifts ). smells great, comes with vial of perfume i have not needed to, or used yet. beautiful  quality.. great packaging. beautiful product. will buy it again. thanks.  nice scent. nice and fragrant. also came with an extra little scented oil vial.  good value for money. this smells really good and is also pretty in a dish...  quality product. quality packaging in two bags. packages were full with plenty of vivid colors!  yummy smell 👌. this potpourri sells super good. i love the look of it as well as the price. i\\'ll definitely buy this again  looks good , smells good. i like the smell and look of this. the smell lasted for a while too.  orange fresh potpourri ( qingbei rina gifts ). smells great, comes with vial of perfume i have not needed to, or used yet. beautiful  quality.. great packaging. beautiful product. will buy it again. thanks.  nice scent. nice and fragrant. also came with an extra little scented oil vial.  good value for money. this smells really good and is also pretty in a dish...  potpourri. the scent is very nice, not overpowering, yet evident.  heavenly scent of roses!. very pleased with the wonderful fragrance and appearance of this potpourri! amount was just what i required!  nice and colorful. very nice fragrance! it smells like a fresh clean scent! wouldn’t know about the longevity being, i just got it  delightful. it makes our bedroom a restful retreat.  good quality and service. nice smell, we\\'ll see how long lasting it is.  excellent product at excellent price. excellent price point, excellent product  very good. this smells so good. like flowers  potpourri. the scent is very nice, not overpowering, yet evident.  heavenly scent of roses!. very pleased with the wonderful fragrance and appearance of this potpourri! amount was just what i required!  nice and colorful. very nice fragrance! it smells like a fresh clean scent! wouldn’t know about the longevity being, i just got it  delightful. it makes our bedroom a restful retreat.  good quality and service. nice smell, we\\'ll see how long lasting it is.  excellent product at excellent price. excellent price point, excellent product  very good. this smells so good. like flowers  amazing scent.. what an amazing scent. unlike others i have tried, where i had to add scented oils right away, this smells wonderful right out of the package. will definitely buy again. thank you.  great value. i love the color and attractiveness of the potpourri.  thumbs up. scent lasts a long time  potpourri. i love the way they smell i would definitely recommend these for family and friends  nice scent. love this scent! it is strong without being over powering so it makes the room smell great  not bad. flowers are way smaller than in the picture. still not bad for the price.  the fragrance.. i like the product.  nice. lovely smell  amazing scent.. what an amazing scent. unlike others i have tried, where i had to add scented oils right away, this smells wonderful right out of the package. will definitely buy again. thank you.  great value. i love the color and attractiveness of the potpourri.  thumbs up. scent lasts a long time  potpourri. i love the way they smell i would definitely recommend these for family and friends  nice scent. love this scent! it is strong without being over powering so it makes the room smell great  not bad. flowers are way smaller than in the picture. still not bad for the price.  the fragrance.. i like the product.  nice. lovely smell  smells great. smells great.  smells delightful!. recommend highly! love the vibrant blues...  pleased. pleased  smells good. loved it  good quality and quantity for price. smells really good. smells wonderful!  good buy. it took both bags to fill up my centerpiece bowl. the arrangement is nice and it puts off a fairly strongly scent.  smells good and longlasting. after a couple weeks and still smell the orange fragrance. delightful.  smells great. smells great.  smells delightful!. recommend highly! love the vibrant blues...  pleased. pleased  smells good. loved it  good quality and quantity for price. smells really good. smells wonderful!  good buy. it took both bags to fill up my centerpiece bowl. the arrangement is nice and it puts off a fairly strongly scent.  smells good and longlasting. after a couple weeks and still smell the orange fragrance. delightful.  just as presented. exactly what i wanted.. great  nice fragrance!. smell so nice. very pretty too!  best scent ..use in bathroom kitchen,and closet. love the scent 😍 great for the whole house 😍  good size. really love them good size and smell good  excellent. very nice sent and cute  happy with this.. i bought the pink. it looks and smells good.  value. great for the price. pretty colors  looks beautiful. the look is beautiful, the company is great  just as presented. exactly what i wanted.. great  nice fragrance!. smell so nice. very pretty too!  best scent ..use in bathroom kitchen,and closet. love the scent 😍 great for the whole house 😍  good size. really love them good size and smell good  excellent. very nice sent and cute  happy with this.. i bought the pink. it looks and smells good.  value. great for the price. pretty colors  looks beautiful. the look is beautiful, the company is great  keeps apt smelling good. keeps apt smelling good  love it!. smells great and looks pretty!  very fragrant.. use in living room. was pleased with purchase.  potpourri bag of perfume. smells wonderful.  the beauty. it was excellent  i am pleased with the potpourri. i used it throughout the house in different types of containers. i am pleased with it.  potpourri. a perfect stocking stuffer.  fresh and fragrant. this product is fresh and fragrant.  smells great. i’ve only had this product for a week but it smells great 😊 just wish there was more in the bag  smells great. this potpourri smells wonderful and is much prettier in reality.  lovely smell. quick delivery. lovely smell  scented. love ❤️ ❤️ ❤️ it! beth  really good. comes with a fragrance bottle. value for money. love it  i was pleased!. very pleased with the item!  smells great. smells good  five stars. perfect shade of blue  fragrances. beautifully wrapped great fragrance when opened although it did not last long. they do sent you along with the packages an essential oil to enhance the longevity.  gift recipient loved it. i was told it was lovely and provided long-lasting scent.  love those.... love those  smells great. this potpourri smells wonderful and is much prettier in reality.  lovely smell. quick delivery. lovely smell  scented. love ❤️ ❤️ ❤️ it! beth  really good. comes with a fragrance bottle. value for money. love it  i was pleased!. very pleased with the item!  smells great. smells good  five stars. perfect shade of blue  fragrances. beautifully wrapped great fragrance when opened although it did not last long. they do sent you along with the packages an essential oil to enhance the longevity.  gift recipient loved it. i was told it was lovely and provided long-lasting scent.  love those.... love those  beautiful smell. although the scent did not last long, it came with a bottle of oils to put on the potpourri. i thought it was a nice set for the money.  arrived promptly. does the trick for what i wanted.  great scent. loved the scent, and the extra bottle to refresh it.    stars. product looks and smells amazing, pieces are much smaller than depicted in pictures though  long lasting scent. excellent and pleasing fragrance. packaging is good. lasts well and visitors have commented that it is pleasing.  packaging and scent was great.. it smells so nice.  smells great!. great smell.  brightens up things , smells lovely!!😍😍. 💘 it nice scent... still going strong after a month or so!!  love the scent. i love the smell but the little bottle of scent was completely empty when i received it'"
            ]
          },
          "metadata": {
            "tags": []
          },
          "execution_count": 8
        }
      ]
    },
    {
      "cell_type": "code",
      "metadata": {
        "id": "1yDrlWykrhMT"
      },
      "source": [
        "def create_frequency_table(reviews):\n",
        "\n",
        "  #Use stemmer\n",
        "  words= word_tokenize(reviews)\n",
        "  porter_stemmer= PorterStemmer()\n",
        "  lemmatizer= WordNetLemmatizer()\n",
        "\n",
        "  frequency_table= {}\n",
        "  for word in words:\n",
        "    word= lemmatizer.lemmatize(word)\n",
        "    if word in nltk_stopwords:\n",
        "      continue\n",
        "    if word in frequency_table:\n",
        "      frequency_table[word]+= 1\n",
        "    else:\n",
        "      frequency_table[word]=1\n",
        "  return frequency_table\n"
      ],
      "execution_count": 9,
      "outputs": []
    },
    {
      "cell_type": "code",
      "metadata": {
        "id": "Vd-KCYK0uET4"
      },
      "source": [
        "def rank_sentences(positive_reviews, frequency_table):\n",
        "  sentences= sent_tokenize(positive_reviews)\n",
        "  sentence_scores= {}\n",
        "  for sentence in sentences:\n",
        "    word_count_in_sentence= len(word_tokenize(sentence))\n",
        "    for key in frequency_table:\n",
        "      if key in sentence.lower():\n",
        "        if sentence[:20] in sentence_scores:\n",
        "          sentence_scores[sentence[:20]] += frequency_table[key]\n",
        "        else:\n",
        "          sentence_scores[sentence[:20]] = frequency_table[key]\n",
        "\n",
        "    sentence_scores[sentence[:20]] = sentence_scores[sentence[:20]] // word_count_in_sentence\n",
        "  return sentence_scores"
      ],
      "execution_count": 10,
      "outputs": []
    },
    {
      "cell_type": "code",
      "metadata": {
        "id": "uzItPtqVe7C4"
      },
      "source": [
        "def generate_summary(sentence_scores, positive_reviews):\n",
        "  total_sum=0\n",
        "  summary= ''\n",
        "\n",
        "  for value in sentence_scores.values():\n",
        "    total_sum=total_sum+value\n",
        "  cut_off_score= total_sum// len(sentence_scores)\n",
        "\n",
        "  cut_off_score= 1.5 * cut_off_score\n",
        "\n",
        "  sentences= sent_tokenize(positive_reviews)\n",
        "  for sentence in sentences:\n",
        "    if sentence[:20] in sentence_scores and sentence_scores[sentence[:20]] >cut_off_score:\n",
        "      summary+= ' '+ sentence\n",
        "  \n",
        "  return summary"
      ],
      "execution_count": 11,
      "outputs": []
    },
    {
      "cell_type": "code",
      "metadata": {
        "id": "OLmMuI9vYAcG"
      },
      "source": [
        "frequency_table=create_frequency_table(positive_reviews)\n",
        "sentence_scores=rank_sentences(positive_reviews, frequency_table)\n",
        "nltk_summary=generate_summary(sentence_scores,positive_reviews)"
      ],
      "execution_count": 12,
      "outputs": []
    },
    {
      "cell_type": "code",
      "metadata": {
        "colab": {
          "base_uri": "https://localhost:8080/",
          "height": 116
        },
        "id": "Wyr4F9L4mHTK",
        "outputId": "cc0aa953-2bd5-4e30-9bf1-6251dfeb5b04"
      },
      "source": [
        "nltk_summary"
      ],
      "execution_count": 13,
      "outputs": [
        {
          "output_type": "execute_result",
          "data": {
            "application/vnd.google.colaboratory.intrinsic+json": {
              "type": "string"
            },
            "text/plain": [
              "' used  . alluring. very nice. perfect product. the fragrance. almost   stars!. nice. blue ocean potpourri. great color. almost   stars!. nice. blue ocean potpourri. great color. love it. fast delivery!. great buy. good scent. amazing scent. love the scent. pleasant smell. fast delivery!. great buy. good scent. amazing scent. love the scent. good color. enhances the smell nicely. smells and looks beautiful. nothing was smashed. smells wonderful!. good color. enhances the smell nicely. smells and looks beautiful. nothing was smashed. smells wonderful!. great product. great job  nice color. beautiful scent. gud btru!. great product. great job  nice color. beautiful scent. gud btru!. love it!. great refreshing scent. wow!. beautiful mix. very happy. they smell so good. stunning. beautiful mix. very happy. they smell so good. stunning. nice product. nice  love it. smells good. looks pretty. smells good  smell beautifully. wonderful smelling potpourri!. nice product. nice  love it. smells good. looks pretty. smells good  smell beautifully. wonderful smelling potpourri!. great potpourri. two packages. great. nice. popurri. love it. smells soo good. popurri. love it. smells soo good. calm scent. very pleased. good. great scent. smells good. nice!. nice 👌. nice!. nice 👌. good price. satisfied. smells really nice  potpourri. smells really nice  potpourri. product was good. great quality. smells amazing!!. love the colors. product was good. great quality. smells amazing!!. love the colors. aroma. great buy. loved it. scent is wonderful. good. good  aroma. great buy. loved it. scent is wonderful. good. pretty. loved!. nice scent. nice. pretty. loved!. nice scent. nice. pretty colors. scent is nice. nice. scent. wonderful smell. perfect!. fresh. would buy again. great product!!. value for money. wonderful smell. perfect!. fresh. would buy again. great product!!. nothing. wall sconses  satisfied. very calming. great scent. awesome. great seller. very reliable. nice. smells nice  nothing. wall sconses  satisfied. very calming. great scent. awesome. great seller. very reliable. nice. smells nice  potpourri. great  smells so good. great  smells so good. potpourri. great. wonderful smell. excellent. perfect!. thanks. thanks  floral. fine  wonderful. smells amazing. great buy. ok  great potpourri. great value. great buy. ok  great potpourri. great value. smells good. smells amazing. perfect. scent. wonderful. smells good. smells amazing. perfect. scent. wonderful. . . looks pretty. very good, smells nice. love the scent. . . looks pretty. very good, smells nice. love the scent. orange fresh. good quality. packaged nice..good scent. very fragrent. very fragrent . smells so good. . orange fresh. good quality. packaged nice..good scent. very fragrent. very fragrent . smells so good. . lovely assortment. good purchase. five stars. quality product. yummy smell 👌. beautiful product. thanks. nice scent. nice and fragrant. yummy smell 👌. beautiful product. thanks. nice scent. nice and fragrant. nice and colorful. this smells so good. nice and colorful. this smells so good. thank you. great value. thumbs up. nice. thank you. great value. thumbs up. nice. smells great. smells delightful!. pleased  smells good. smells really good. good buy. smells good and longlasting. delightful. smells great. smells great. smells delightful!. pleased  smells good. smells really good. good buy. smells good and longlasting. delightful. smell so nice. value. smell so nice. value. smells wonderful. potpourri. smells great. lovely smell. quick delivery. lovely smell  scented. beth  really good. value for money. smells great. smells good  five stars. lovely smell. quick delivery. lovely smell  scented. beth  really good. value for money. smells great. smells good  five stars. arrived promptly. great scent. stars. smells great!. great smell. love the scent.'"
            ]
          },
          "metadata": {
            "tags": []
          },
          "execution_count": 13
        }
      ]
    },
    {
      "cell_type": "code",
      "metadata": {
        "id": "RVerIwLUlhM2"
      },
      "source": [
        "#change to camelcase\n",
        "#apply spell check\n",
        "#clean up extra spaces and periods\n",
        "\n",
        "\n",
        "# remove similar sentences\n",
        "# run this summary through the algorithm again to further crisp the summary\n",
        "# check length of reviews and decide on some cutoff. Reviews below the cutoff should not be considered to ensure review quality\n"
      ],
      "execution_count": null,
      "outputs": []
    },
    {
      "cell_type": "markdown",
      "metadata": {
        "id": "-dFZisF7RHF9"
      },
      "source": [
        "Gensim Summary"
      ]
    },
    {
      "cell_type": "code",
      "metadata": {
        "id": "TJSggrawZIGv"
      },
      "source": [
        "from gensim.summarization import summarize\n",
        "gensim_summary= summarize(positive_reviews, ratio=0.05)\n",
        "print(gensim_summary)\n",
        "# summary_list = gensim_summary.split('.')\n",
        "# for i,v in enumerate(summary_list):\n",
        "#   summary_list[i]= v.strip() + '.'\n",
        "# summary_list"
      ],
      "execution_count": null,
      "outputs": []
    },
    {
      "cell_type": "code",
      "metadata": {
        "colab": {
          "base_uri": "https://localhost:8080/",
          "height": 116
        },
        "id": "PbZASai6uR4p",
        "outputId": "63e014fa-e649-41b4-edc5-337f07169327"
      },
      "source": [
        "gensim_summary"
      ],
      "execution_count": 15,
      "outputs": [
        {
          "output_type": "execute_result",
          "data": {
            "application/vnd.google.colaboratory.intrinsic+json": {
              "type": "string"
            },
            "text/plain": [
              "\"scent smell is good enough and keeping the bad odor out of my bathroom.\\nthey're beautiful and smells great but the scent lasted maybe   weeks.\\npotpourri was small & cute for what i needed it for to fill a dish in my bathroom which didn't have bulky big items in it and that is what i wanted, it also came with a very small bottle of fragrance, which didn't last long-but all in all it covered what i needed it for  smells wonderful.\\nthe turquoise color looks even better in person and the smell of this potpourri is amazing.\\nthe aroma is not strong, but i also use scented candles, so i am not dependent on the potpourri for a pleasant smell.\\nthe aroma is not strong, but i also use scented candles, so i am not dependent on the potpourri for a pleasant smell.\\nbeautiful scent, my daughter loved the rose scent , only if the scent lasted longer, a tiny bottle was included , many if that six drops i got out of that tiny bottle for two nice size bags of potpourri not enough scent oil.\\nbeautiful scent, my daughter loved the rose scent , only if the scent lasted longer, a tiny bottle was included , many if that six drops i got out of that tiny bottle for two nice size bags of potpourri not enough scent oil.\\nnice citrus smell, attractive presentation, nice to get the refresher oil in the package, great to get   bags for such a reasonable price  potpourri.\\nnice citrus smell, attractive presentation, nice to get the refresher oil in the package, great to get   bags for such a reasonable price  potpourri.\\nhandmade, wonderful scent, nice packaging, and it comes with a vial of essence to prolong the fragrance!\\nhandmade, wonderful scent, nice packaging, and it comes with a vial of essence to prolong the fragrance!\\nhas a light floral scent and the blue colors go great with my bathroom walls.\\nhas a light floral scent and the blue colors go great with my bathroom walls.\\nthe   bags were small but i love the colors and the smell  very nice,and the price is great.\\nthey are very colorful and i like it has a spray bottle to keep it smelling good  great product at a fair price.\\nthey are very colorful and i like it has a spray bottle to keep it smelling good  great product at a fair price.\\neven though the package was not damage, the liquid scented perfume the came with it spilled all in the plastic bag because the top was not screwed on all the way..i guess  love the colors.\\neven though the package was not damage, the liquid scented perfume the came with it spilled all in the plastic bag because the top was not screwed on all the way..i guess  love the colors.\\nthe   bags were small but i love the colors and the smell  wonderful!.\\nbeautiful potpourri, long lasting scent  wonderful!.\\nbut either way they’re beautiful and smell so great  very nice!.\\nbut either way they’re beautiful and smell so great  very nice!.\\ni love the scent of orange and the fact that it came with a refresh bottle of oil was awesome!\\nlooks nice and smells great for fall  rose petal.\\nscent is good  wonderful potpourri, great buy!.\\nsmelling as i wished!💟😊  great product and good price.\\nsmelling as i wished!💟😊  great product and good price.\\nthese went perfect in our bathrooms and smells amazing  beautiful colors.\\nthese went perfect in our bathrooms and smells amazing  beautiful colors.\\nit was color and scent i was looking for and good price.\\nit was packaged very nice, arrived quickly and smells great.\\npink rose scent fresh potpourri bag - nice presentation.\\npink rose scent fresh potpourri bag - nice presentation.\\nlove the smell and perfect for my table decor  beautiful presentation and great scent.\\nlove the smell and perfect for my table decor  beautiful presentation and great scent.\\ngreat scent and beautiful colors  love the smell.\\ngreat scent and beautiful colors  love the smell.\\nproduct scent good packaging great  i would definitely buy again..\\nproduct scent good packaging great  i would definitely buy again..\\nsmells great,very happy with this  color is beautiful.\\nsmells great,very happy with this  color is beautiful.\\nthey smell great and the colors are lovely.\\nthey smell great and the colors are lovely.\\nawesome scent and love the bottle that came with to refresh the potpourri!\\nawesome scent and love the bottle that came with to refresh the potpourri!\\nsmells and looks good in my bathroom  quality product.\\nsmells and looks good in my bathroom  quality product.\\nwonderful smell and the colors match perfectly  good scent.\\nwonderful smell and the colors match perfectly  good scent.\\nbeautiful dried flowers and lovely smell  potpourri.\\nlove the scent and color  great.\\ngreat color and scent  excellent buy.\\ngreat color and scent  excellent buy.\\ngift  great color, small amount, oil leaked, good smell but not lasting.\\ngift  great color, small amount, oil leaked, good smell but not lasting.\\nbut overall i am very happy with the look, smell, and color of this potpourri.\\nbut overall i am very happy with the look, smell, and color of this potpourri.\\nthis came nicely packaged in two bags - with a small bottle of scent included.\\nlovely smell  amazing scent..\\nlove the scent 😍 great for the whole house 😍  good size.\\nlovely smell  scented.\\nlovely smell  scented.\""
            ]
          },
          "metadata": {
            "tags": []
          },
          "execution_count": 15
        }
      ]
    },
    {
      "cell_type": "markdown",
      "metadata": {
        "id": "P-SuZ1WLRL-b"
      },
      "source": [
        "Bert Summary"
      ]
    },
    {
      "cell_type": "code",
      "metadata": {
        "id": "YREaOtdm4aqI"
      },
      "source": [
        "!pip install bert-extractive-summarizer\n",
        "!pip install sentencepiece"
      ],
      "execution_count": null,
      "outputs": []
    },
    {
      "cell_type": "code",
      "metadata": {
        "id": "LLd7Ie3f5_gx",
        "colab": {
          "base_uri": "https://localhost:8080/",
          "height": 474,
          "referenced_widgets": [
            "fe3e094d66ed4a5bbb8cd13631466581",
            "7cd9fe182b1645aea8b8e213d1f17a68",
            "33ed8bb9c8d44351932a20399521e867",
            "022d2f64815b452b9bb61b926cac4c18",
            "3009c9abcc4e49febb456909addff3d1",
            "32b8c5ea3ec5482d8d6b40af128e3962",
            "f97abce6ff7244678f15b89224ca6560",
            "80eb12776ff448419668409a4f2c16c8",
            "88b001a72fa04725a47d61f7115ddac7",
            "a53e7725d42747d79a71399064c8213a",
            "a6fefe34cf91481b816c8ce1d8720e95",
            "4c28f99fe5de418088389260ea953c9b",
            "d0768fb010b54e83a88db5b24b88fe8a",
            "4d6d44ed56a740ea8ac79286751a650e",
            "8397337af773439eb3083dc84b3940ed",
            "5f181bc6c2ac42c69ce4c239e6fdb1c5",
            "d603b85a2e7e43fd803e3ad2df33a157",
            "af67fcea171a47d8a07a51e59af7bb10",
            "3af4756e07624dab8e91e46321f50a62",
            "b328c59373084b25baa3a78e3d75f49f",
            "adc0920db98f4cfca55a68f994fc4aeb",
            "b180962bc75d48d086514bd17b2af637",
            "ed54f3a619d84e4fa416ae3a000f9d11",
            "c0584cb5b362444ab6ff6a38da29bfd7",
            "c6cc9782e9a94b01b5dcc16984f9c2c6",
            "0956c0abd32d4bccacac6a17b26ff4ce",
            "9b48d2f562fa40bf8944605bc5625867",
            "6728152453894ac8b81d273c5cb8a21a",
            "111aba63499a40429bb0f2e9af29e7bb",
            "c4d24c18a9584a888b78d4dc9df95657",
            "41baf03175644424ad0f16064b67a78f",
            "96742a10b9744599a8c41f08264b7683",
            "9713ad1dc0084a759a89a7fde45e9db0",
            "97254b40da7b44f0a054d736c03a2a21",
            "9b96ed248e514af09a5cf523f1f5a380",
            "6f05687b85654c5a9a7b94b236f5c28d",
            "dbffcdb72e1848b7835f3134c6eaadd9",
            "993a94873b534daa9306f74004df5a89",
            "ab1498d8f635419bbd5ab65ce43a61b3",
            "2b73b04ea4c2448688a5eca3cad14d46"
          ]
        },
        "outputId": "320fd65c-b590-4f7d-f0f4-d8223d81ec05"
      },
      "source": [
        "from summarizer import Summarizer\n",
        "model = Summarizer()\n",
        "model(positive_reviews, ratio=0.05)"
      ],
      "execution_count": 22,
      "outputs": [
        {
          "output_type": "display_data",
          "data": {
            "application/vnd.jupyter.widget-view+json": {
              "model_id": "fe3e094d66ed4a5bbb8cd13631466581",
              "version_minor": 0,
              "version_major": 2
            },
            "text/plain": [
              "HBox(children=(FloatProgress(value=0.0, description='Downloading', max=571.0, style=ProgressStyle(description_…"
            ]
          },
          "metadata": {
            "tags": []
          }
        },
        {
          "output_type": "stream",
          "text": [
            "\n"
          ],
          "name": "stdout"
        },
        {
          "output_type": "display_data",
          "data": {
            "application/vnd.jupyter.widget-view+json": {
              "model_id": "88b001a72fa04725a47d61f7115ddac7",
              "version_minor": 0,
              "version_major": 2
            },
            "text/plain": [
              "HBox(children=(FloatProgress(value=0.0, description='Downloading', max=1344997306.0, style=ProgressStyle(descr…"
            ]
          },
          "metadata": {
            "tags": []
          }
        },
        {
          "output_type": "stream",
          "text": [
            "\n"
          ],
          "name": "stdout"
        },
        {
          "output_type": "display_data",
          "data": {
            "application/vnd.jupyter.widget-view+json": {
              "model_id": "d603b85a2e7e43fd803e3ad2df33a157",
              "version_minor": 0,
              "version_major": 2
            },
            "text/plain": [
              "HBox(children=(FloatProgress(value=0.0, description='Downloading', max=231508.0, style=ProgressStyle(descripti…"
            ]
          },
          "metadata": {
            "tags": []
          }
        },
        {
          "output_type": "stream",
          "text": [
            "\n"
          ],
          "name": "stdout"
        },
        {
          "output_type": "display_data",
          "data": {
            "application/vnd.jupyter.widget-view+json": {
              "model_id": "c6cc9782e9a94b01b5dcc16984f9c2c6",
              "version_minor": 0,
              "version_major": 2
            },
            "text/plain": [
              "HBox(children=(FloatProgress(value=0.0, description='Downloading', max=28.0, style=ProgressStyle(description_w…"
            ]
          },
          "metadata": {
            "tags": []
          }
        },
        {
          "output_type": "stream",
          "text": [
            "\n"
          ],
          "name": "stdout"
        },
        {
          "output_type": "display_data",
          "data": {
            "application/vnd.jupyter.widget-view+json": {
              "model_id": "9713ad1dc0084a759a89a7fde45e9db0",
              "version_minor": 0,
              "version_major": 2
            },
            "text/plain": [
              "HBox(children=(FloatProgress(value=0.0, description='Downloading', max=466062.0, style=ProgressStyle(descripti…"
            ]
          },
          "metadata": {
            "tags": []
          }
        },
        {
          "output_type": "stream",
          "text": [
            "\n"
          ],
          "name": "stdout"
        },
        {
          "output_type": "execute_result",
          "data": {
            "application/vnd.google.colaboratory.intrinsic+json": {
              "type": "string"
            },
            "text/plain": [
              "'it suited and worked out well with my bathroom setting!!!!. price point was very fair given that you received a bottle of the liquid fragrance. i do have to find a nicer bowl to display it in now! bigger bottles of scent oil are differently needed , since the scent only last a many an hour.. beautiful scent, my daughter loved the rose scent , only if the scent lasted longer, a tiny bottle was included , many if that six drops i got out of that tiny bottle for two nice size bags of potpourri not enough scent oil. i also read it is toxic to cats and although i have three they’re very well fed and have plenty of toys they weren’t curious to eat or play w/chips! lovely scent but does not last long.. beautiful pot pourri with bright colors and smells very nice. it was well packaged and it is a pretty accent to the bowl i have on my table. beautiful potpourri, long lasting scent  beautiful scent and came with oil so i can refresh it.. i love the scent of orange and the fact that it came with a refresh bottle of oil was awesome! used with scented candle works well  smells wonderful!!!! i bought the orange color for holiday decorating and would buy again. product scent good packaging great  i would definitely buy again.. smells and looks amazing! smells great,very happy with this  color is beautiful. makes the bathroom smell assome  smells amazing & looks beautiful. they color of the mix was really rich and the bottle of scented oil was an unexpected bonus. smells and looks good in my bathroom  quality product. i like it all...used for room scent  soso. n  e scent to enter a room rith  smells awesome. love this product  beautiful product.. beautiful color and fragrance! i bought this potpourri to use to stuff ornaments i made. the scent and the vibrant color are amazing! i also am happy that it came with a vial of scented oil to refresh once the smell fades. i will say you only need a little bit out at a time. the price is amazing much less than what i usually find to buy where i live. the scent is very nice, not overpowering, yet evident. loved it  good quality and quantity for price. love the scent 😍 great for the whole house 😍  good size. very nice sent and cute  happy with this.. i bought the pink.'"
            ]
          },
          "metadata": {
            "tags": []
          },
          "execution_count": 22
        }
      ]
    },
    {
      "cell_type": "code",
      "metadata": {
        "id": "hgE9Xb6EtQed"
      },
      "source": [
        ""
      ],
      "execution_count": null,
      "outputs": []
    },
    {
      "cell_type": "code",
      "metadata": {
        "id": "BYO0jxpgtQjL"
      },
      "source": [
        ""
      ],
      "execution_count": null,
      "outputs": []
    },
    {
      "cell_type": "code",
      "metadata": {
        "id": "myoyPCwwtVkw"
      },
      "source": [
        ""
      ],
      "execution_count": null,
      "outputs": []
    },
    {
      "cell_type": "code",
      "metadata": {
        "id": "9x8i83GHtVqB"
      },
      "source": [
        ""
      ],
      "execution_count": null,
      "outputs": []
    },
    {
      "cell_type": "code",
      "metadata": {
        "id": "dFCj5Sl4tVve"
      },
      "source": [
        ""
      ],
      "execution_count": null,
      "outputs": []
    },
    {
      "cell_type": "markdown",
      "metadata": {
        "id": "8q14vXuCtQ4L"
      },
      "source": [
        "Appendix"
      ]
    },
    {
      "cell_type": "markdown",
      "metadata": {
        "id": "_dc9jVdJRyLa"
      },
      "source": [
        "sentiment with nltk but reviewText as input instead of reviewTitle"
      ]
    },
    {
      "cell_type": "code",
      "metadata": {
        "id": "6UshvG_C7WAi"
      },
      "source": [
        "df['positive']= df['reviewText'].apply(lambda review: sia_object.polarity_scores(review)['pos'])\n",
        "df['negative']= df['reviewText'].apply(lambda review: sia_object.polarity_scores(review)['neg'])\n",
        "df['neutral']= df['reviewText'].apply(lambda review: sia_object.polarity_scores(review)['neu'])\n",
        "df['compound']= df['reviewText'].apply(lambda review: sia_object.polarity_scores(review)['compound'])\n",
        "df['sentiment']= df['compound'].apply(lambda score: get_sentiment(score))\n",
        "df.head()"
      ],
      "execution_count": null,
      "outputs": []
    },
    {
      "cell_type": "code",
      "metadata": {
        "id": "-4_nOGe3R7gt"
      },
      "source": [
        "# 154 positive reviews\n",
        "df[df['sentiment']==1].shape\n",
        "\n",
        "#6 negative reviews\n",
        "df[df['sentiment']==0].shape"
      ],
      "execution_count": null,
      "outputs": []
    },
    {
      "cell_type": "code",
      "metadata": {
        "id": "tudq8V6zSO_q"
      },
      "source": [
        "df[(df['reviewRating']==5) | (df['reviewRating']==4)].shape"
      ],
      "execution_count": null,
      "outputs": []
    },
    {
      "cell_type": "code",
      "metadata": {
        "id": "X9ku0We8SZ7e"
      },
      "source": [
        "df[(df['reviewRating']==3) | (df['reviewRating']==2) | (df['reviewRating']==1)].shape"
      ],
      "execution_count": null,
      "outputs": []
    },
    {
      "cell_type": "code",
      "metadata": {
        "id": "shp98zlRTrBw"
      },
      "source": [
        "would_recommend=sum(df[df['sentiment']==1]['compound'])\n",
        "would_recommend"
      ],
      "execution_count": null,
      "outputs": []
    },
    {
      "cell_type": "code",
      "metadata": {
        "id": "8X7fYTLpUAJv"
      },
      "source": [
        "would_not_recommend=sum(df[df['sentiment']==0]['compound'])\n",
        "would_not_recommend"
      ],
      "execution_count": null,
      "outputs": []
    },
    {
      "cell_type": "code",
      "metadata": {
        "id": "_Ut5M6Ute1q0"
      },
      "source": [
        "ratio= would_recommend/ would_not_recommend\n",
        "ratio"
      ],
      "execution_count": null,
      "outputs": []
    },
    {
      "cell_type": "code",
      "metadata": {
        "id": "Qm28unpmf7Z5"
      },
      "source": [
        "sum_positive= sum( df['positive'])\n",
        "print( sum_positive)\n",
        "\n",
        "sum_negative= sum( df['negative'])\n",
        "print( sum_negative)\n",
        "\n",
        "sum_neutral= sum( df['neutral'])\n",
        "print( sum_neutral)\n",
        "\n",
        "print()\n"
      ],
      "execution_count": null,
      "outputs": []
    },
    {
      "cell_type": "code",
      "metadata": {
        "id": "xosic8pMfKdh"
      },
      "source": [
        "sia_object.polarity_scores('like a piece of art in my kitchen. i just purchased new knives and was so tired of having a big block of wood on the counter filled with many knives that i never used. after years of using the same knives, i purchased new ones of the the sizes that i commonly use. my new knives look beautiful in this holder. everyone comments on it when they see it.')"
      ],
      "execution_count": null,
      "outputs": []
    },
    {
      "cell_type": "code",
      "metadata": {
        "id": "X-qMo828fewl"
      },
      "source": [
        "df[['sentiment', 'reviewRating', 'reviewText', 'compound']].iloc[[17]]"
      ],
      "execution_count": null,
      "outputs": []
    },
    {
      "cell_type": "code",
      "metadata": {
        "id": "6KrSJWFsgTT-"
      },
      "source": [
        ""
      ],
      "execution_count": null,
      "outputs": []
    }
  ]
}