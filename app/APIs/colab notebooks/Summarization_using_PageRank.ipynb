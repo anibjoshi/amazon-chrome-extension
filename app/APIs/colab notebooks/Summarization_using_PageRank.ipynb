{
  "nbformat": 4,
  "nbformat_minor": 0,
  "metadata": {
    "colab": {
      "name": "Summarization_using_PageRank.ipynb",
      "provenance": [],
      "collapsed_sections": []
    },
    "kernelspec": {
      "display_name": "Python 3",
      "name": "python3"
    },
    "language_info": {
      "name": "python"
    }
  },
  "cells": [
    {
      "cell_type": "code",
      "metadata": {
        "colab": {
          "base_uri": "https://localhost:8080/"
        },
        "id": "GgQniVPiqUC6",
        "outputId": "4c46bf9e-1114-49bb-e674-adb80b9aa4c3"
      },
      "source": [
        "import pandas as pd\n",
        "import nltk\n",
        "import numpy as np\n",
        "from nltk.tokenize import sent_tokenize,word_tokenize\n",
        "from nltk.corpus import stopwords\n",
        "from nltk.stem import PorterStemmer, WordNetLemmatizer\n",
        "import re\n",
        "from nltk.sentiment import SentimentIntensityAnalyzer\n",
        "import operator\n",
        "from sklearn.metrics.pairwise import cosine_similarity\n",
        "\n",
        "nltk.download('vader_lexicon')\n",
        "nltk.download('punkt')\n",
        "nltk.download('stopwords')\n",
        "nltk.download('wordnet')\n",
        "nltk_stopwords= set(stopwords.words('english'))\n",
        "\n",
        "pd.set_option('display.max_rows', None)\n",
        "pd.set_option('display.max_columns', None)\n",
        "pd.set_option('display.width', None)\n",
        "pd.set_option('display.max_colwidth', -1)"
      ],
      "execution_count": null,
      "outputs": [
        {
          "output_type": "stream",
          "text": [
            "/usr/local/lib/python3.7/dist-packages/nltk/twitter/__init__.py:20: UserWarning: The twython library has not been installed. Some functionality from the twitter package will not be available.\n",
            "  warnings.warn(\"The twython library has not been installed. \"\n"
          ],
          "name": "stderr"
        },
        {
          "output_type": "stream",
          "text": [
            "[nltk_data] Downloading package vader_lexicon to /root/nltk_data...\n",
            "[nltk_data] Downloading package punkt to /root/nltk_data...\n",
            "[nltk_data]   Unzipping tokenizers/punkt.zip.\n",
            "[nltk_data] Downloading package stopwords to /root/nltk_data...\n",
            "[nltk_data]   Unzipping corpora/stopwords.zip.\n",
            "[nltk_data] Downloading package wordnet to /root/nltk_data...\n",
            "[nltk_data]   Unzipping corpora/wordnet.zip.\n"
          ],
          "name": "stdout"
        },
        {
          "output_type": "stream",
          "text": [
            "/usr/local/lib/python3.7/dist-packages/ipykernel_launcher.py:21: FutureWarning: Passing a negative integer is deprecated in version 1.0 and will not be supported in future version. Instead, use None to not limit the column width.\n"
          ],
          "name": "stderr"
        }
      ]
    },
    {
      "cell_type": "code",
      "metadata": {
        "id": "ejgqE6auqb6c"
      },
      "source": [
        "df= pd.read_json('/content/drive/MyDrive/amazon_data_scrapping/Data files/product3_reviews_details.json', orient='index')\n",
        "df.head()"
      ],
      "execution_count": null,
      "outputs": []
    },
    {
      "cell_type": "code",
      "metadata": {
        "colab": {
          "background_save": true
        },
        "id": "yWE2Dc3TmUBt"
      },
      "source": [
        "df['reviewText']"
      ],
      "execution_count": null,
      "outputs": []
    },
    {
      "cell_type": "code",
      "metadata": {
        "id": "LyGOLp54rB9s"
      },
      "source": [
        "df['reviewDate']= df['reviewDate'].apply(lambda date:re.sub('Reviewed in the United States on ',\"\", date).strip())\n",
        "df['reviewRating']= df['reviewRating'].apply(lambda rating: re.sub(' out of 5 stars',\"\", rating).strip()) \n",
        "df['reviewRating']= df.reviewRating.astype('float')\n",
        "df['reviewClass']=df.apply(lambda row: 1 if row.reviewRating>=4.0 else 0, axis=1)\n",
        "# df['reviewText']= df['reviewTitle'] + '. '+ df['reviewText']\n",
        "# df['reviewText']= df['reviewText'].apply(lambda review: review.lower())\n",
        "df['reviewText'] = df['reviewText'].apply(lambda review:re.sub(\"\\n\", ' ', review))\n",
        "\n",
        "#shortforms\n",
        "df['reviewText']= df['reviewText'].apply(lambda review: re.sub('bc|b/c', 'because', review))\n",
        "df['reviewText']= df['reviewText'].apply(lambda review: re.sub(\"wasn’t\", 'was not', review))\n",
        "df['reviewText']= df['reviewText'].apply(lambda review: re.sub(\"i’m\", 'i am', review))\n",
        "df['reviewText']= df['reviewText'].apply(lambda review: re.sub(\"i'm\", 'i am', review))\n",
        "df['reviewText']= df['reviewText'].apply(lambda review: re.sub(\"doesn’t\", 'does not', review))\n",
        "df['reviewText']= df['reviewText'].apply(lambda review: re.sub(\"doesn't\", 'does not', review))\n",
        "df['reviewText']= df['reviewText'].apply(lambda review: re.sub(\"didn’t\", 'did not', review))\n",
        "df['reviewText']= df['reviewText'].apply(lambda review: re.sub(\"won't\", 'will not', review))\n",
        "df['reviewText']= df['reviewText'].apply(lambda review: re.sub(\"won’t\", 'will not', review))\n",
        "df['reviewText']= df['reviewText'].apply(lambda review: re.sub(\"don’t\", 'do not', review))\n",
        "df['reviewText']= df['reviewText'].apply(lambda review: re.sub(\"can't\", 'can not', review))\n",
        "df['reviewText']= df['reviewText'].apply(lambda review: re.sub(\"it's\", 'it is', review))\n",
        "df['reviewText']= df['reviewText'].apply(lambda review: re.sub(\"it’s\", 'it is', review))\n",
        "# df['reviewText']= df['reviewText'].apply(lambda review: re.sub(\"(\\\\d|\\\\W)+\", ' ', review))\n",
        "# df['reviewText']= df['reviewText'].apply(lambda review: re.sub(\"(\\\\d)+\", ' ', review))"
      ],
      "execution_count": 7,
      "outputs": []
    },
    {
      "cell_type": "code",
      "metadata": {
        "id": "0P47vw8Hu8XM"
      },
      "source": [
        "# def get_sentiment(score):\n",
        "#   if score>= 0:\n",
        "#     return 1\n",
        "#   else:\n",
        "#     return 0\n",
        "\n",
        "# sia_object= SentimentIntensityAnalyzer()\n",
        "# df['compound']= df['reviewText'].apply(lambda review: sia_object.polarity_scores(review)['compound'])\n",
        "# df['sentiment']= df['compound'].apply(lambda score: get_sentiment(score))"
      ],
      "execution_count": 5,
      "outputs": []
    },
    {
      "cell_type": "code",
      "metadata": {
        "id": "nx13Zxz0aI-z"
      },
      "source": [
        "#rating 2.0 has positive sentiment\n",
        "df.head()"
      ],
      "execution_count": null,
      "outputs": []
    },
    {
      "cell_type": "code",
      "metadata": {
        "colab": {
          "base_uri": "https://localhost:8080/"
        },
        "id": "Ydi4LcDNmZ4s",
        "outputId": "7db8bddd-cff7-488b-9acf-4b61f9905e78"
      },
      "source": [
        "#155 positive reviews\n",
        "df[df['sentiment']==1].shape"
      ],
      "execution_count": null,
      "outputs": [
        {
          "output_type": "execute_result",
          "data": {
            "text/plain": [
              "(2743, 6)"
            ]
          },
          "metadata": {
            "tags": []
          },
          "execution_count": 68
        }
      ]
    },
    {
      "cell_type": "code",
      "metadata": {
        "colab": {
          "base_uri": "https://localhost:8080/"
        },
        "id": "ilkLojZGofWj",
        "outputId": "69da4e55-ac3e-4ead-dfb3-e454a95a817a"
      },
      "source": [
        "#5 negative reviews\n",
        "df[df['sentiment']==0].shape"
      ],
      "execution_count": null,
      "outputs": [
        {
          "output_type": "execute_result",
          "data": {
            "text/plain": [
              "(727, 6)"
            ]
          },
          "metadata": {
            "tags": []
          },
          "execution_count": 69
        }
      ]
    },
    {
      "cell_type": "code",
      "metadata": {
        "id": "eqge8Um-tUzB"
      },
      "source": [
        "# reviews=df[df['sentiment']==1]['reviewText']\n",
        "reviews=df[df['reviewClass']==1]['reviewText']\n",
        "positive_reviews=''\n",
        "for review in reviews:\n",
        "  positive_reviews= positive_reviews+\" \"+review"
      ],
      "execution_count": 8,
      "outputs": []
    },
    {
      "cell_type": "code",
      "metadata": {
        "id": "nqn6mp4aanAB"
      },
      "source": [
        "# reviews=df[df['sentiment']==0]['reviewText']\n",
        "reviews=df[df['reviewClass']==0]['reviewText']\n",
        "negative_reviews=''\n",
        "for review in reviews:\n",
        "  negative_reviews= negative_reviews+\" \"+review"
      ],
      "execution_count": 9,
      "outputs": []
    },
    {
      "cell_type": "code",
      "metadata": {
        "colab": {
          "base_uri": "https://localhost:8080/"
        },
        "id": "qzyOExsfpM2C",
        "outputId": "254eee2c-287a-4c6f-d5d6-fa749aa6868c"
      },
      "source": [
        "sentences= sent_tokenize(positive_reviews)\n",
        "len(sentences)"
      ],
      "execution_count": 11,
      "outputs": [
        {
          "output_type": "execute_result",
          "data": {
            "text/plain": [
              "4939"
            ]
          },
          "metadata": {
            "tags": []
          },
          "execution_count": 11
        }
      ]
    },
    {
      "cell_type": "code",
      "metadata": {
        "colab": {
          "base_uri": "https://localhost:8080/"
        },
        "id": "bdTiM-bKnNAq",
        "outputId": "c068ddb5-9c6b-4e42-c56d-9a3dc350a555"
      },
      "source": [
        "sentences[:5]"
      ],
      "execution_count": 12,
      "outputs": [
        {
          "output_type": "execute_result",
          "data": {
            "text/plain": [
              "[\" It looks really nice, and having the auto brew is awesome, but the basket area is a bit big and so the basket does not have a snug fit and moves around when in place making me worry that the coffee flow valve on the basket isn't open all the way causing the basket to overflow.\",\n",
              " \"It hasn't happened yet and perhaps it will not.\",\n",
              " 'Only time will tell.',\n",
              " 'Not a bad coffee pot for $25.',\n",
              " 'The digital display does look good and easy to see.']"
            ]
          },
          "metadata": {
            "tags": []
          },
          "execution_count": 12
        }
      ]
    },
    {
      "cell_type": "code",
      "metadata": {
        "id": "SVperKPfUDPS"
      },
      "source": [
        "cleaned_sentences= pd.Series(sentences).str.replace(\"[^a-zA-Z]\", \" \")\n",
        "cleaned_sentences= [sentence.lower() for sentence in cleaned_sentences]\n",
        "def remove_stopwords(sentence):\n",
        "    new_sentence = \" \".join([word for word in sentence if word not in nltk_stopwords])\n",
        "    return new_sentence\n",
        "cleaned_sentences = [remove_stopwords(sentence.split()) for sentence in cleaned_sentences]\n",
        "# cleaned_sentences[:5]"
      ],
      "execution_count": 13,
      "outputs": []
    },
    {
      "cell_type": "code",
      "metadata": {
        "colab": {
          "base_uri": "https://localhost:8080/"
        },
        "id": "utfwRB4Cfg0v",
        "outputId": "b12bb977-ccad-4078-a7a4-893361f519e8"
      },
      "source": [
        "cleaned_sentences[:5]"
      ],
      "execution_count": 14,
      "outputs": [
        {
          "output_type": "execute_result",
          "data": {
            "text/plain": [
              "['looks really nice auto brew awesome basket area bit big basket snug fit moves around place making worry coffee flow valve basket open way causing basket overflow',\n",
              " 'happened yet perhaps',\n",
              " 'time tell',\n",
              " 'bad coffee pot',\n",
              " 'digital display look good easy see']"
            ]
          },
          "metadata": {
            "tags": []
          },
          "execution_count": 14
        }
      ]
    },
    {
      "cell_type": "code",
      "metadata": {
        "id": "K4Hinq0GJNrr"
      },
      "source": [
        "#why have i used 100d file\n",
        "#pickle the word_embeddings dictionary\n",
        "word_embeddings={}\n",
        "file= open('/content/drive/MyDrive/amazon_data_scrapping/Colab notebooks/glove/glove.6B.100d.txt')\n",
        "for line in file:\n",
        "  embeddings= line.split()\n",
        "  word= embeddings[0]\n",
        "  weights = np.asarray(embeddings[1:], dtype='float32')\n",
        "  word_embeddings[word] = weights\n",
        "file.close()"
      ],
      "execution_count": null,
      "outputs": []
    },
    {
      "cell_type": "code",
      "metadata": {
        "id": "bMzeVtWRNjKO"
      },
      "source": [
        "sentence_vectors=[]\n",
        "for sentence in cleaned_sentences:\n",
        "  if len(sentence)!=0:\n",
        "    vector= sum([word_embeddings.get(word, np.zeros((100,))) for word in sentence.split()])/(len(sentence.split())+0.001)\n",
        "  else:\n",
        "    vector= np.zeros((100,))\n",
        "  sentence_vectors.append(vector)"
      ],
      "execution_count": null,
      "outputs": []
    },
    {
      "cell_type": "code",
      "metadata": {
        "colab": {
          "base_uri": "https://localhost:8080/"
        },
        "id": "-iUCNP1SW1i8",
        "outputId": "4ca7d355-ce29-4bab-8fbe-7644374fc371"
      },
      "source": [
        "similarity_matrix= np.zeros([len(sentences), len(sentences)])\n",
        "similarity_matrix.shape"
      ],
      "execution_count": null,
      "outputs": [
        {
          "output_type": "execute_result",
          "data": {
            "text/plain": [
              "(6236, 6236)"
            ]
          },
          "metadata": {
            "tags": []
          },
          "execution_count": 78
        }
      ]
    },
    {
      "cell_type": "code",
      "metadata": {
        "id": "Z-ykJb20XLP-"
      },
      "source": [
        "for i in range(len(sentences)):\n",
        "  for j in range(len(sentences)):\n",
        "    if i != j:\n",
        "      similarity_matrix[i][j] = cosine_similarity(sentence_vectors[i].reshape(1,100), sentence_vectors[j].reshape(1,100)) [0,0]"
      ],
      "execution_count": null,
      "outputs": []
    },
    {
      "cell_type": "code",
      "metadata": {
        "id": "igdI5lxKcy-S"
      },
      "source": [
        "import networkx as nx\n",
        "nx_graph = nx.from_numpy_array(similarity_matrix)\n",
        "scores = nx.pagerank(nx_graph)"
      ],
      "execution_count": null,
      "outputs": []
    },
    {
      "cell_type": "code",
      "metadata": {
        "id": "4fAOZrFbdUGp"
      },
      "source": [
        "ranked_sentences = sorted(((scores[i],s) for i,s in enumerate(sentences)), reverse=True)"
      ],
      "execution_count": null,
      "outputs": []
    },
    {
      "cell_type": "code",
      "metadata": {
        "colab": {
          "base_uri": "https://localhost:8080/"
        },
        "id": "ph-qhHpbfAHf",
        "outputId": "dc204384-4ee4-4700-9c20-4c41a6e29eee"
      },
      "source": [
        "ranked_sentences[:2]"
      ],
      "execution_count": null,
      "outputs": [
        {
          "output_type": "execute_result",
          "data": {
            "text/plain": [
              "[(0.006714905872105773,\n",
              "  'The little wooden stands that come with them allow you to elevate the plants, giving you versatility in design, and I loved the way that looked.'),\n",
              " (0.00671192733533576,\n",
              "  'So cute and a great price and great quality It’s beautiful and feels hand made.')]"
            ]
          },
          "metadata": {
            "tags": []
          },
          "execution_count": 58
        }
      ]
    },
    {
      "cell_type": "code",
      "metadata": {
        "colab": {
          "base_uri": "https://localhost:8080/",
          "height": 116
        },
        "id": "D5S_8kGCdWyQ",
        "outputId": "2d818c4d-4599-4756-9104-926cf61f6ee1"
      },
      "source": [
        "summary=''\n",
        "for i in range(10):\n",
        "  summary= summary+ ''+ ranked_sentences[i][1]\n",
        "summary"
      ],
      "execution_count": null,
      "outputs": [
        {
          "output_type": "execute_result",
          "data": {
            "application/vnd.google.colaboratory.intrinsic+json": {
              "type": "string"
            },
            "text/plain": [
              "'The little wooden stands that come with them allow you to elevate the plants, giving you versatility in design, and I loved the way that looked.So cute and a great price and great quality It’s beautiful and feels hand made.Pot is great stand is great plugs suck they do not work they give one standard plug for every size pot you buy they do not work,cheap,leak!!!I actually think it looks even nicer in person than in the photo.. Light weight and beautiful pot.Stand is like others at this price point, sturdy but a tiny bit off level.I love it and it makes the perfect addition to my room.One of the stands had the wrong piece so I could not use it.I’ve been looking for a new pot to save a struggling plant and this one was perfect!They each come with 2 little soft plastic plugs, so you would probably want to add a dish underneath to catch water if you leave it unplugged.I spray painted the wooden feet black because it goes better with my decor, but that was super easy and it is absolutely perfect now.'"
            ]
          },
          "metadata": {
            "tags": []
          },
          "execution_count": 59
        }
      ]
    },
    {
      "cell_type": "code",
      "metadata": {
        "id": "lnHLA_H5mtDs"
      },
      "source": [
        ""
      ],
      "execution_count": null,
      "outputs": []
    },
    {
      "cell_type": "code",
      "metadata": {
        "id": "RVerIwLUlhM2"
      },
      "source": [
        "#change to camelcase :Done\n",
        "#apply spell check\n",
        "#clean up extra spaces and periods\n"
      ],
      "execution_count": null,
      "outputs": []
    }
  ]
}