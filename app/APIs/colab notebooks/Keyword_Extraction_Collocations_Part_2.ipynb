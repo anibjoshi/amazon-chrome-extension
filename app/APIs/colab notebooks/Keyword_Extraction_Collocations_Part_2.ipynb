{
  "nbformat": 4,
  "nbformat_minor": 0,
  "metadata": {
    "colab": {
      "name": "Keyword_Extraction_Collocations_Part_2.ipynb",
      "provenance": [],
      "collapsed_sections": []
    },
    "kernelspec": {
      "name": "python3",
      "display_name": "Python 3"
    },
    "language_info": {
      "name": "python"
    }
  },
  "cells": [
    {
      "cell_type": "code",
      "metadata": {
        "id": "GgQniVPiqUC6"
      },
      "source": [
        "import pandas as pd\n",
        "import nltk\n",
        "import numpy as np\n",
        "from nltk.tokenize import sent_tokenize,word_tokenize\n",
        "from nltk.corpus import stopwords\n",
        "from nltk.stem import PorterStemmer, WordNetLemmatizer\n",
        "import re\n",
        "from nltk.sentiment import SentimentIntensityAnalyzer\n",
        "import operator\n",
        "from sklearn.metrics.pairwise import cosine_similarity\n",
        "nltk.download('averaged_perceptron_tagger')\n",
        "\n",
        "nltk.download('vader_lexicon')\n",
        "nltk.download('punkt')\n",
        "nltk.download('stopwords')\n",
        "nltk.download('wordnet')\n",
        "nltk_stopwords= set(stopwords.words('english'))\n",
        "\n",
        "pd.set_option('display.max_rows', None)\n",
        "pd.set_option('display.max_columns', None)\n",
        "pd.set_option('display.width', None)\n",
        "pd.set_option('display.max_colwidth', -1)"
      ],
      "execution_count": null,
      "outputs": []
    },
    {
      "cell_type": "code",
      "metadata": {
        "id": "ejgqE6auqb6c"
      },
      "source": [
        "df= pd.read_json('/content/drive/MyDrive/amazon_data_scrapping/Data files/Extension_Cord_Reviews.json', orient='index')\n",
        "df.head()"
      ],
      "execution_count": null,
      "outputs": []
    },
    {
      "cell_type": "code",
      "metadata": {
        "id": "oADIq4T5jqeF",
        "colab": {
          "base_uri": "https://localhost:8080/",
          "height": 481
        },
        "outputId": "f58a1d5f-166f-4da2-ddcb-d0313fe703fb"
      },
      "source": [
        "df['reviewText']=df['reviewText'].str.encode('ascii', 'ignore').str.decode('ascii')\n",
        "df['reviewText']= df['reviewText'].apply(lambda review: review.lower())\n",
        "df['reviewTitle']= df['reviewTitle'].apply(lambda title: title.lower())\n",
        "df['reviewText']= df['reviewText'].apply(lambda review: re.sub('\\n', ' ', review))\n",
        "\n",
        "df['reviewDate']= df['reviewDate'].apply(lambda date:re.sub('Reviewed in the United States on ',\"\", date).strip())\n",
        "df['reviewRating']= df['reviewRating'].apply(lambda rating: re.sub(' out of 5 stars',\"\", rating).strip()) \n",
        "df['reviewRating']= df.reviewRating.astype('float')\n",
        "df['reviewClass']=df.apply(lambda row: 1 if row.reviewRating>=4.0 else 0, axis=1)\n",
        "\n",
        "df.head()"
      ],
      "execution_count": 3,
      "outputs": [
        {
          "output_type": "execute_result",
          "data": {
            "text/html": [
              "<div>\n",
              "<style scoped>\n",
              "    .dataframe tbody tr th:only-of-type {\n",
              "        vertical-align: middle;\n",
              "    }\n",
              "\n",
              "    .dataframe tbody tr th {\n",
              "        vertical-align: top;\n",
              "    }\n",
              "\n",
              "    .dataframe thead th {\n",
              "        text-align: right;\n",
              "    }\n",
              "</style>\n",
              "<table border=\"1\" class=\"dataframe\">\n",
              "  <thead>\n",
              "    <tr style=\"text-align: right;\">\n",
              "      <th></th>\n",
              "      <th>reviewDate</th>\n",
              "      <th>reviewRating</th>\n",
              "      <th>reviewText</th>\n",
              "      <th>reviewTitle</th>\n",
              "      <th>reviewClass</th>\n",
              "    </tr>\n",
              "  </thead>\n",
              "  <tbody>\n",
              "    <tr>\n",
              "      <th>0</th>\n",
              "      <td>January 8, 2018</td>\n",
              "      <td>5.0</td>\n",
              "      <td>now now now these are some awesome power cords. upon opening the package and feeling the build quality of these you know they are built to last. 1600+ watts mean even a fridge would do nothing to these. 13 amps can pass through these and a fridge can use 3-6 amps! the cable is flexible but has stiffness. i hooked on one (got 4 of these) a 55' 4k tv from tcl, a roku model, my gaming pc (i5 6500 and rx 470 in a 600 watts power supply) and an apple tv switching sometimes for a nintendo switch. this thing is awesome. the only thing that you can see is the grey cable piece and the beautiful squared angled plug in the wall. looks so well done and does not get in the way making the setup look ugly or something. looks well build, done and designed. will definitely buy more of this same one when needed.</td>\n",
              "      <td>looks well done, build and designed. awesome performance.</td>\n",
              "      <td>1</td>\n",
              "    </tr>\n",
              "    <tr>\n",
              "      <th>1</th>\n",
              "      <td>March 24, 2019</td>\n",
              "      <td>4.0</td>\n",
              "      <td>this cord gives plenty of room and the wire feels both strong and flexible. i didnt realize that the cord comes out to the right of the switch, which isnt a big deal, since you have a lot of room with the cord, but it is something to take not of if you will need all 8 feet for your purposes. also, it only has 3 outlets, which is fine, but if you are plugging in a bulky laptop cord, you have more like 2 outlets, unless your other 2 plugs are very small.</td>\n",
              "      <td>great product. wire comes out and to the right only.</td>\n",
              "      <td>1</td>\n",
              "    </tr>\n",
              "    <tr>\n",
              "      <th>2</th>\n",
              "      <td>April 6, 2018</td>\n",
              "      <td>5.0</td>\n",
              "      <td>it's funny how a little thing like a cloth wrap on the cord can make a product seem so much nicer and higher end. it does slide over itself and across shelf corners where a rubber/plastic cord would get stuck or tangled, so it's practical too. really, the flat, angled plug on this this is half of what makes it so excellent. i use it behind my turntable/record shelf, and it would probably not fit if it were a standard straight plug.  i do really wish that this thing had a master on/off switch like bigger power bars do, but that's a pretty minor gripe. all in all, really nice product.</td>\n",
              "      <td>really very nice.</td>\n",
              "      <td>1</td>\n",
              "    </tr>\n",
              "    <tr>\n",
              "      <th>3</th>\n",
              "      <td>June 12, 2018</td>\n",
              "      <td>5.0</td>\n",
              "      <td>an extension cord with surge protection, what a terrific idea! no longer do you need to buy a huge surge protector, you can just get this and it gives you three convenient outlets.  the low-profile prong is great when you want this plugged flat against the wall, and the braided cord is good at keeping this tangle-free.  i think my only question is: how do we know this cord has done its job of protecting your devices from a surge? does it stop working? it would be great if the manufacturer could clarify.  i got two of these and they are very handy around the house. recommended.</td>\n",
              "      <td>extension cord with surge protection</td>\n",
              "      <td>1</td>\n",
              "    </tr>\n",
              "    <tr>\n",
              "      <th>4</th>\n",
              "      <td>May 1, 2018</td>\n",
              "      <td>5.0</td>\n",
              "      <td>these cords are a must have, i don't have anything bad to say about them after having used them for at least a year now. i recently bought a second one for the bedroom.  what i like: -well braided - no cheap feel. -firm plug-in, not too hard to plug in or remove power cords -the flat plug helps greatly if behind furniture.  i use two of these by my bed and one goes to each side so that me and my girlfriend can plug in our phones, smart watches, tablets, etc. i leave the brick nearby and can pull it further onto the bed for those times you lay in bed all day and play on your tablet or laptop and need power.  there are no con's to this item, i've had no issues for the year or so i've owned it and honestly that's how it should be with something as simple as an extension cord.</td>\n",
              "      <td>great quality, i bought another!</td>\n",
              "      <td>1</td>\n",
              "    </tr>\n",
              "  </tbody>\n",
              "</table>\n",
              "</div>"
            ],
            "text/plain": [
              "        reviewDate  reviewRating  \\\n",
              "0  January 8, 2018  5.0            \n",
              "1  March 24, 2019   4.0            \n",
              "2  April 6, 2018    5.0            \n",
              "3  June 12, 2018    5.0            \n",
              "4  May 1, 2018      5.0            \n",
              "\n",
              "                                                                                                                                                                                                                                                                                                                                                                                                                                                                                                                                                                                                                                                                                                                                                                                                                              reviewText  \\\n",
              "0  now now now these are some awesome power cords. upon opening the package and feeling the build quality of these you know they are built to last. 1600+ watts mean even a fridge would do nothing to these. 13 amps can pass through these and a fridge can use 3-6 amps! the cable is flexible but has stiffness. i hooked on one (got 4 of these) a 55' 4k tv from tcl, a roku model, my gaming pc (i5 6500 and rx 470 in a 600 watts power supply) and an apple tv switching sometimes for a nintendo switch. this thing is awesome. the only thing that you can see is the grey cable piece and the beautiful squared angled plug in the wall. looks so well done and does not get in the way making the setup look ugly or something. looks well build, done and designed. will definitely buy more of this same one when needed.   \n",
              "1  this cord gives plenty of room and the wire feels both strong and flexible. i didnt realize that the cord comes out to the right of the switch, which isnt a big deal, since you have a lot of room with the cord, but it is something to take not of if you will need all 8 feet for your purposes. also, it only has 3 outlets, which is fine, but if you are plugging in a bulky laptop cord, you have more like 2 outlets, unless your other 2 plugs are very small.                                                                                                                                                                                                                                                                                                                                                                \n",
              "2  it's funny how a little thing like a cloth wrap on the cord can make a product seem so much nicer and higher end. it does slide over itself and across shelf corners where a rubber/plastic cord would get stuck or tangled, so it's practical too. really, the flat, angled plug on this this is half of what makes it so excellent. i use it behind my turntable/record shelf, and it would probably not fit if it were a standard straight plug.  i do really wish that this thing had a master on/off switch like bigger power bars do, but that's a pretty minor gripe. all in all, really nice product.                                                                                                                                                                                                                           \n",
              "3  an extension cord with surge protection, what a terrific idea! no longer do you need to buy a huge surge protector, you can just get this and it gives you three convenient outlets.  the low-profile prong is great when you want this plugged flat against the wall, and the braided cord is good at keeping this tangle-free.  i think my only question is: how do we know this cord has done its job of protecting your devices from a surge? does it stop working? it would be great if the manufacturer could clarify.  i got two of these and they are very handy around the house. recommended.                                                                                                                                                                                                                                 \n",
              "4  these cords are a must have, i don't have anything bad to say about them after having used them for at least a year now. i recently bought a second one for the bedroom.  what i like: -well braided - no cheap feel. -firm plug-in, not too hard to plug in or remove power cords -the flat plug helps greatly if behind furniture.  i use two of these by my bed and one goes to each side so that me and my girlfriend can plug in our phones, smart watches, tablets, etc. i leave the brick nearby and can pull it further onto the bed for those times you lay in bed all day and play on your tablet or laptop and need power.  there are no con's to this item, i've had no issues for the year or so i've owned it and honestly that's how it should be with something as simple as an extension cord.                         \n",
              "\n",
              "                                                  reviewTitle  reviewClass  \n",
              "0   looks well done, build and designed. awesome performance.  1            \n",
              "1   great product. wire comes out and to the right only.       1            \n",
              "2   really very nice.                                          1            \n",
              "3   extension cord with surge protection                       1            \n",
              "4   great quality, i bought another!                           1            "
            ]
          },
          "metadata": {
            "tags": []
          },
          "execution_count": 3
        }
      ]
    },
    {
      "cell_type": "code",
      "metadata": {
        "id": "Zw_k8s6HomZb",
        "colab": {
          "base_uri": "https://localhost:8080/",
          "height": 116
        },
        "outputId": "cefdbdd3-a2af-4d11-bf62-832ef64e3d37"
      },
      "source": [
        "review_comments=''\n",
        "# reviews=df[df['reviewClass']==0]['reviewText']\n",
        "reviews= df['reviewText']\n",
        "for review in reviews:\n",
        "  review_comments= review_comments + ' '+ review\n",
        "review_comments"
      ],
      "execution_count": 4,
      "outputs": [
        {
          "output_type": "execute_result",
          "data": {
            "application/vnd.google.colaboratory.intrinsic+json": {
              "type": "string"
            },
            "text/plain": [
              "' now now now these are some awesome power cords. upon opening the package and feeling the build quality of these you know they are built to last. 1600+ watts mean even a fridge would do nothing to these. 13 amps can pass through these and a fridge can use 3-6 amps! the cable is flexible but has stiffness. i hooked on one (got 4 of these) a 55\\' 4k tv from tcl, a roku model, my gaming pc (i5 6500 and rx 470 in a 600 watts power supply) and an apple tv switching sometimes for a nintendo switch. this thing is awesome. the only thing that you can see is the grey cable piece and the beautiful squared angled plug in the wall. looks so well done and does not get in the way making the setup look ugly or something. looks well build, done and designed. will definitely buy more of this same one when needed. this cord gives plenty of room and the wire feels both strong and flexible. i didnt realize that the cord comes out to the right of the switch, which isnt a big deal, since you have a lot of room with the cord, but it is something to take not of if you will need all 8 feet for your purposes. also, it only has 3 outlets, which is fine, but if you are plugging in a bulky laptop cord, you have more like 2 outlets, unless your other 2 plugs are very small. it\\'s funny how a little thing like a cloth wrap on the cord can make a product seem so much nicer and higher end. it does slide over itself and across shelf corners where a rubber/plastic cord would get stuck or tangled, so it\\'s practical too. really, the flat, angled plug on this this is half of what makes it so excellent. i use it behind my turntable/record shelf, and it would probably not fit if it were a standard straight plug.  i do really wish that this thing had a master on/off switch like bigger power bars do, but that\\'s a pretty minor gripe. all in all, really nice product. an extension cord with surge protection, what a terrific idea! no longer do you need to buy a huge surge protector, you can just get this and it gives you three convenient outlets.  the low-profile prong is great when you want this plugged flat against the wall, and the braided cord is good at keeping this tangle-free.  i think my only question is: how do we know this cord has done its job of protecting your devices from a surge? does it stop working? it would be great if the manufacturer could clarify.  i got two of these and they are very handy around the house. recommended. these cords are a must have, i don\\'t have anything bad to say about them after having used them for at least a year now. i recently bought a second one for the bedroom.  what i like: -well braided - no cheap feel. -firm plug-in, not too hard to plug in or remove power cords -the flat plug helps greatly if behind furniture.  i use two of these by my bed and one goes to each side so that me and my girlfriend can plug in our phones, smart watches, tablets, etc. i leave the brick nearby and can pull it further onto the bed for those times you lay in bed all day and play on your tablet or laptop and need power.  there are no con\\'s to this item, i\\'ve had no issues for the year or so i\\'ve owned it and honestly that\\'s how it should be with something as simple as an extension cord. very disappointed. i plugged it in right after i got it out of the packaging and it did not work. i tried many different outlets and nothing seemed to get this cord to work. the surge protector itself is good and i always appreciate angled wall plugs, but the braided cable is insanely heavy compared to the unit itself so it can\\'t really sit on top of a table or desk without being pulled down by the weight of the cable. still a good buy if you\\'re okay with leaving it on the floor. truly a beautiful looking extension cord, that looks about as classy as one of these can look. the braided cable is handsome, strong, and flexible. the flat plug is totally convenient and doesn\\'t get in the way of other plugs. i have the version without usb, but i kind of wish i had gotten the usb version i was positively impressed with the quality of this 8-foot cord, but know the surge protection is so minimal that it is of questionable value. i am unsure why the included paper says to disconnect when not in use, so i hope that isnt because of surge protection failure.  the length is long, sometimes causing the cord to lay on the floor in a loop, but that really demonstrates the difference between this braided cord and the less expensive ones. having all your sockets on one side is nice until you want to insert a big wall wart ac-dc adapter, at which point you ruin the astetic by adding an unattractive shortie that moves the adapter away from the cord.  i purchased four (4) of these to try a premium cord in bedrooms i was re-doing and they really are impressively different, but they wont become my go-to cord and remain a bit of a novelty for me. ive plugged this into 3 different outlets and it ruined each of them. actual flames have come out and burned the outlets. buy a different extension cord so you dont burn down your house like i almost did now now now these are some awesome power cords. upon opening the package and feeling the build quality of these you know they are built to last. 1600+ watts mean even a fridge would do nothing to these. 13 amps can pass through these and a fridge can use 3-6 amps! the cable is flexible but has stiffness. i hooked on one (got 4 of these) a 55\\' 4k tv from tcl, a roku model, my gaming pc (i5 6500 and rx 470 in a 600 watts power supply) and an apple tv switching sometimes for a nintendo switch. this thing is awesome. the only thing that you can see is the grey cable piece and the beautiful squared angled plug in the wall. looks so well done and does not get in the way making the setup look ugly or something. looks well build, done and designed. will definitely buy more of this same one when needed. this cord gives plenty of room and the wire feels both strong and flexible. i didnt realize that the cord comes out to the right of the switch, which isnt a big deal, since you have a lot of room with the cord, but it is something to take not of if you will need all 8 feet for your purposes. also, it only has 3 outlets, which is fine, but if you are plugging in a bulky laptop cord, you have more like 2 outlets, unless your other 2 plugs are very small. it\\'s funny how a little thing like a cloth wrap on the cord can make a product seem so much nicer and higher end. it does slide over itself and across shelf corners where a rubber/plastic cord would get stuck or tangled, so it\\'s practical too. really, the flat, angled plug on this this is half of what makes it so excellent. i use it behind my turntable/record shelf, and it would probably not fit if it were a standard straight plug.  i do really wish that this thing had a master on/off switch like bigger power bars do, but that\\'s a pretty minor gripe. all in all, really nice product. an extension cord with surge protection, what a terrific idea! no longer do you need to buy a huge surge protector, you can just get this and it gives you three convenient outlets.  the low-profile prong is great when you want this plugged flat against the wall, and the braided cord is good at keeping this tangle-free.  i think my only question is: how do we know this cord has done its job of protecting your devices from a surge? does it stop working? it would be great if the manufacturer could clarify.  i got two of these and they are very handy around the house. recommended. these cords are a must have, i don\\'t have anything bad to say about them after having used them for at least a year now. i recently bought a second one for the bedroom.  what i like: -well braided - no cheap feel. -firm plug-in, not too hard to plug in or remove power cords -the flat plug helps greatly if behind furniture.  i use two of these by my bed and one goes to each side so that me and my girlfriend can plug in our phones, smart watches, tablets, etc. i leave the brick nearby and can pull it further onto the bed for those times you lay in bed all day and play on your tablet or laptop and need power.  there are no con\\'s to this item, i\\'ve had no issues for the year or so i\\'ve owned it and honestly that\\'s how it should be with something as simple as an extension cord. very disappointed. i plugged it in right after i got it out of the packaging and it did not work. i tried many different outlets and nothing seemed to get this cord to work. the surge protector itself is good and i always appreciate angled wall plugs, but the braided cable is insanely heavy compared to the unit itself so it can\\'t really sit on top of a table or desk without being pulled down by the weight of the cable. still a good buy if you\\'re okay with leaving it on the floor. truly a beautiful looking extension cord, that looks about as classy as one of these can look. the braided cable is handsome, strong, and flexible. the flat plug is totally convenient and doesn\\'t get in the way of other plugs. i have the version without usb, but i kind of wish i had gotten the usb version i was positively impressed with the quality of this 8-foot cord, but know the surge protection is so minimal that it is of questionable value. i am unsure why the included paper says to disconnect when not in use, so i hope that isnt because of surge protection failure.  the length is long, sometimes causing the cord to lay on the floor in a loop, but that really demonstrates the difference between this braided cord and the less expensive ones. having all your sockets on one side is nice until you want to insert a big wall wart ac-dc adapter, at which point you ruin the astetic by adding an unattractive shortie that moves the adapter away from the cord.  i purchased four (4) of these to try a premium cord in bedrooms i was re-doing and they really are impressively different, but they wont become my go-to cord and remain a bit of a novelty for me. ive plugged this into 3 different outlets and it ruined each of them. actual flames have come out and burned the outlets. buy a different extension cord so you dont burn down your house like i almost did i\\'ve bought three of these because they\\'re great to put behind furniture.  the flat plug takes up half the room as a normal plug. the cord itself is really flexible and allows for all different types of movement. it can be easily wrapped around something or snaked up or down a wall. best of all, the outlets themselves are surge protected.  this type of braided extension cord gives you piece of mind and allows for ultimately flexibility for around your home. they look good as well! the white blends in nicely and doesn\\'t give the ugly appearance look of a cord. we have one that comes from behind a wall mounted tv, and it\\'s not obtrusive at all.  eight feet of cord is a pretty good size but i do wish they had a 6 outlet with the same length as well.  we are very happy with this purchase and have no complaints for the product itself. good job, ge! this is about the nicest extension cord i\\'ve ever owned (or even seen!). the plug is molded without manufacturing iines, and the cloth covering on the cord insulation gives it an upscale appearance. this cord would be at home in any room without adding any tackiness factor. my only minor issue, which i have with all 45plugs, is that, if the grounding hole on the receptacle is above the electric current slots (which is a more secure and safe way to install a receptacle), the cord angles upward to the right, rather than downward to the left (which the designers no doubt had in mind). so, if the plug is exposed, you\\'ll have to decide if it\\'s worth it to flip the receptacle in the wall to make the end result \"prettier\". my son bought me this because i needed to plug in more things. i really wanted a 6-outlet extension. it works fine and the wrapped cord will probably last a long time. i have no complaints about it.  i prefer a longer-corded surge protector type items with room to plug in six items, so it\\'s not fair to judge this based on that.  because it is as described and works well, i gave it 5 stars. my son bought this because it was cheaper than the longer ones that accepted more plugs. i think if you need this length and need to plug in two more things, it will be perfect for you. we first plugged a phone charger directly into the wall outlet, which worked fine, and second, through this extension cord, which did not work 90% of the time, and 10% of the time did work but was intermittent. this is a faulty unit. the cord is also very thick, stiff and hard to work with. i recently plugged this in after it sat for a while. flames shot out. this product look great! i loved the braided cord and sturdiness of this item. however after only 2.5 years when i plug it in it smells like smoke. i can see a little bit of a burn mark around one of the outlets where i had one item plugged in. scary! i bought this one a long time ago and forgot to review, but recently we had a thunderstorm come through, and i had both my phone and my ipad charging on this extender. our power went out, but my devices didnt dry. im grateful to this cord for protecting my precious gadgets. i like this cord because it has the full outlets at the end where i can plug in my laptop. the plug-in part comes off of the outlet to the side a bit and that is nice for plugging things in underneath it. it has a good length too/reaches easily the width of my bed. i\\'m sure i could travel with it but it is kind of thick so i don\\'t due to its size/weight. i had kept this cord on the side and when i wanted to use this earlier this week it blows a fuse every time. in other words it is a defect and would like to return it. came defective,one outlet has no power, i\\'ve bought three of these because they\\'re great to put behind furniture.  the flat plug takes up half the room as a normal plug. the cord itself is really flexible and allows for all different types of movement. it can be easily wrapped around something or snaked up or down a wall. best of all, the outlets themselves are surge protected.  this type of braided extension cord gives you piece of mind and allows for ultimately flexibility for around your home. they look good as well! the white blends in nicely and doesn\\'t give the ugly appearance look of a cord. we have one that comes from behind a wall mounted tv, and it\\'s not obtrusive at all.  eight feet of cord is a pretty good size but i do wish they had a 6 outlet with the same length as well.  we are very happy with this purchase and have no complaints for the product itself. good job, ge! this is about the nicest extension cord i\\'ve ever owned (or even seen!). the plug is molded without manufacturing iines, and the cloth covering on the cord insulation gives it an upscale appearance. this cord would be at home in any room without adding any tackiness factor. my only minor issue, which i have with all 45plugs, is that, if the grounding hole on the receptacle is above the electric current slots (which is a more secure and safe way to install a receptacle), the cord angles upward to the right, rather than downward to the left (which the designers no doubt had in mind). so, if the plug is exposed, you\\'ll have to decide if it\\'s worth it to flip the receptacle in the wall to make the end result \"prettier\". my son bought me this because i needed to plug in more things. i really wanted a 6-outlet extension. it works fine and the wrapped cord will probably last a long time. i have no complaints about it.  i prefer a longer-corded surge protector type items with room to plug in six items, so it\\'s not fair to judge this based on that.  because it is as described and works well, i gave it 5 stars. my son bought this because it was cheaper than the longer ones that accepted more plugs. i think if you need this length and need to plug in two more things, it will be perfect for you. we first plugged a phone charger directly into the wall outlet, which worked fine, and second, through this extension cord, which did not work 90% of the time, and 10% of the time did work but was intermittent. this is a faulty unit. the cord is also very thick, stiff and hard to work with. i recently plugged this in after it sat for a while. flames shot out. this product look great! i loved the braided cord and sturdiness of this item. however after only 2.5 years when i plug it in it smells like smoke. i can see a little bit of a burn mark around one of the outlets where i had one item plugged in. scary! i bought this one a long time ago and forgot to review, but recently we had a thunderstorm come through, and i had both my phone and my ipad charging on this extender. our power went out, but my devices didnt dry. im grateful to this cord for protecting my precious gadgets. i like this cord because it has the full outlets at the end where i can plug in my laptop. the plug-in part comes off of the outlet to the side a bit and that is nice for plugging things in underneath it. it has a good length too/reaches easily the width of my bed. i\\'m sure i could travel with it but it is kind of thick so i don\\'t due to its size/weight. i had kept this cord on the side and when i wanted to use this earlier this week it blows a fuse every time. in other words it is a defect and would like to return it. came defective,one outlet has no power, i chose this extension cord over other options because: 1) it provides some surge protection (250 joules is not much protection, but most extension cords offer none). 2) flat plug. 3) i justified the price because of #1 & #2.  while i assume it uses mov (metal oxide varistor) surge protection, i wish your product description validated this. i wanted to add a power strip to my desk, but my desk is nearly flush against the wall. i was on the hunt for something that would fit in the narrow space between wall & desk and look good against my white desk. i found this surge protector/extension cord with a flat plug and woven cord. it fit all my requirements - fit between wall & desk, looks stylish in my office, and with some simple command strips (poster strips), i was able to secure it to the inside of my desk leg so it doesn\\'t move around. the cord is mostly hidden and keeps everything need and tidy. i was very pleased with the weight and style of this surge protector, it doesn\\'t look like typical industrial office equipment and was very cost-effective. i bought a couple of these, for places where i need to extend the wall socket (duh) and though they\\'re mostly hidden, they\\'d be somewhat visual; white is much better than brown for me (and way better than orange for this use!), and i couldn\\'t be more pleased. they\\'re super high quality and look so good that i don\\'t mind at all that you can see them.  they are a little stiff and so if you have a very tight turn right next to the outlet they might not be for you. not incredibly stiff, they bend fine, but the quality of the cloth wrapping does make them less flexible than a purely plastic cord. i love this extension cord! i pet sit and often stay over at peoples houses to do so. i keep this in my overnight bag! then i dont have to struggle to get my phone plugged in when the night stand plug in is inconvenient behind the bed, already filled up with lamp cords, etc. no problem! i just use another plug in! with my extension cord handy i can still charge and use my phone on the sofa, in bed, etc! love the clean design on this extension cord! looks very modern and nice in our house, i love that i don\\'t have to fuss with a tangled plastic cord and it actually looks nice where the cord is exposed. i also like how the cord comes out of the side of the plug, so that you can easily plug it in behind furniture without kinking the cord or pulling your furniture out awkwardly. i plan to buy more of these. this cord is nice due to the surge protection feature. i am using it to protect my tv along with running the cord up a wall utilizing cable management. this works well for that purpose.  in addition, it just fits well enough behing a flush mounted tv in order for me to totally hide all the wires. coming from cheap and crappy dollar store extension cords, this is really a world of difference, and it\\'s no longer something i\\'d be ashamed to leave hanging around. the cord is nice and thick and won\\'t tangle, while being flexible enough to lay nicely flat on the ground on any position. it\\'s a no brainer and have bought a few of these already to have around the house. my gf subsconsciously lays on the side of the bed that has the wall outlets next to them. she hogs both plugs and i don\\'t want to reach over her all the time. got this little thing and plugged it into the surge protector on the wall by the foot of the bed. problem solved lol now i have 3 \"3 prongers\" while she\\'s got her 2 \"2s\". all kidding aside the product is exactly what i wanted. got laptop and phone plugged in. i\\'ve had this for a couple months now and have no complaints. i needed an extension cord to run from the top of my bookshelf to behind my wall-mounted tv as we got rid of our entertainment center to make more room in the living room for our great danes to run around. i was looking for 3 specifics: 1) at least a 6\\' cord, preferred longer but not more than 10\\' 2) flexible and attractive cord 3) at lease 3 plug-ins in a row stacked vertically so i could utilize my smart plug.  this thing met all my requirements and i couldn\\'t be happier. i love these cords. only one thing could make them better...a swiveling plug. if you have to go to the left, then you lose a few inches in the cord, and you have a loop. belkin makes a cord with a swiveling plug, but i don\\'t like the plain vinyl cord. the ge cord is a cloth braided cord that is very flexible. this item came to my home well packaged and on time. this extension cord is a nice change of pace to the plain white, black or brown extension cords from the stores. good length, easy to use. thanks! i was looking for a surge protector just for my laptop to plug into. i was only wanting a few ports on the surge protector. i only got it today, but it looks great and seems to be working great. the cable is long, i was only expecting a 3 ft cable for some reason, maybe i read it wrong. but the cable seems long. great item for the cost. mine is the one without the usb ports. with so much money invested in my electronics ... this is an inexpensive solution to the risk of unexpected power surges ...  the product seems to be of substantial quality for a reasonable price ... hopefully i won\\'t have to experience a power surge to test that fact ... works great! this is the second one ive purchased because it works so well. the first one ive got is 2 years old and still works, i just needed another one because i have so many cords. i use this for my apple watch charger, mac book charger and phone charger. if you need more plugs i definitely recommend this one. great extension cord! very flexible so it can wrap around objects easily. the flat plug is great and tucks into the wall perfectly. i bought three of them and will gladly purchase again if needed. highly recommend. two out of the three plugs do not work!!!! don\\'t buy it. i was shopping for a heavy duty extension cord that had some sort of protection but nothing extreme. this fit the bill at a good price so i ordered it. it came as promised and it\\'s working great. will buy it again if i need another. this cord is a game changer. the flat plug is great and the cord is nice and heavy so i never worry about it. we\\'ve used it for about 3 months with no issues. note the plug angles to the right side, which was perfect for our specific needs but may not suit specific settings. this thing is pretty slick. we needed an extension cord to go behind a piece of furniture and have it pop out where its visible in our living room. this cord looks and feels very nice. it reminds me of usb cables that are braided... just a general premium feel. i also like how its only 3 outlets - small form factor is perfect for our use case. perfect for my room because now i can plug things into my wall without my bed destroying the cord. it saves me lots of space too. perfect length and lasted me a very long time. no complaints. i think from on now ill always buy these type of cords for any situations this item came to my home well packaged and on time. this extension cord is a nice change of pace to the plain white, black or brown extension cords from the stores. good length, easy to use. thanks! i was looking for a surge protector just for my laptop to plug into. i was only wanting a few ports on the surge protector. i only got it today, but it looks great and seems to be working great. the cable is long, i was only expecting a 3 ft cable for some reason, maybe i read it wrong. but the cable seems long. great item for the cost. mine is the one without the usb ports. with so much money invested in my electronics ... this is an inexpensive solution to the risk of unexpected power surges ...  the product seems to be of substantial quality for a reasonable price ... hopefully i won\\'t have to experience a power surge to test that fact ... works great! this is the second one ive purchased because it works so well. the first one ive got is 2 years old and still works, i just needed another one because i have so many cords. i use this for my apple watch charger, mac book charger and phone charger. if you need more plugs i definitely recommend this one. great extension cord! very flexible so it can wrap around objects easily. the flat plug is great and tucks into the wall perfectly. i bought three of them and will gladly purchase again if needed. highly recommend. two out of the three plugs do not work!!!! don\\'t buy it. i was shopping for a heavy duty extension cord that had some sort of protection but nothing extreme. this fit the bill at a good price so i ordered it. it came as promised and it\\'s working great. will buy it again if i need another. this cord is a game changer. the flat plug is great and the cord is nice and heavy so i never worry about it. we\\'ve used it for about 3 months with no issues. note the plug angles to the right side, which was perfect for our specific needs but may not suit specific settings. this thing is pretty slick. we needed an extension cord to go behind a piece of furniture and have it pop out where its visible in our living room. this cord looks and feels very nice. it reminds me of usb cables that are braided... just a general premium feel. i also like how its only 3 outlets - small form factor is perfect for our use case. perfect for my room because now i can plug things into my wall without my bed destroying the cord. it saves me lots of space too. perfect length and lasted me a very long time. no complaints. i think from on now ill always buy these type of cords for any situations what else can you really say about an extension cord, amirite?  it has a nice angular plug, so it sneaks behind our chest quickly. three outlets all work. cord was as long as advertised. i\\'m liking the braided wires more than regular plastic... looks classier.  if you want something to turn your one plug into three, this will do the trick. i ordered this cord to replace an old one that my charger kept falling out of. though i enjoy most of the construction of the cord, i can see that i will have the same problem with my chargers very quickly because they already have a loose fit. this is great except it only had 3 three plugs. if you go to hotels you will notice that they do not have near enough outlets for ask the things we have to plug in at night. i thought this was the answer but sadly it wasn\\'t. got this to replace the fire hazard that has presumably been passed down for 3 generations in my wife\\'s family. this extension is nice to look at, doesn\\'t get tangled and feels very durable. we have cats that sometimes like to get in fights with cables and this one seems pretty immune to that kind of abuse. probably the best extension cord ever! i hate my other extension cords because how awesome this one is. the cord i almost moldable and the flat part for wall outlet just makes sense. the price is very fair for what you get. going into college, i was looking for a suitable extension cord that was durable! one good thing about this cord is that it has a braided cable, so it doesn\\'t really like to curl, nor will it easily be broken. i have personally tripped over my cord a couple of times, and so far, there have been no issues. one thing to note is that it only has 3 plugs. i wish there would be a few more. but, other than that, it is a great cable! i thought this was a good deal (i guess it could be to some) but i was at home depot today and they sell this exact same thing for the exact same price only 10 feet instead of 8. *shrug* works perfect for plugging in a wall mounted tv. i have the plug end velcroed to the tv wall mount and the cord runs down the wall and along the wall and back up to the wall plug in. so glad i went with the 8 foot cord!! really like this extension cord! it looks and functions much better than the old, cheap cords. the braided cord is cool, and the small surge protector plug is awesome. i like it so much, i am ordering a second one. i needed an extension cord for my television and dvd player in my bedroom. it needed to have a long cord and multiple outlets. it has not disappointed and it lays flat along the wall so it is not in the way. no problems with the product at all to date. what else can you really say about an extension cord, amirite?  it has a nice angular plug, so it sneaks behind our chest quickly. three outlets all work. cord was as long as advertised. i\\'m liking the braided wires more than regular plastic... looks classier.  if you want something to turn your one plug into three, this will do the trick. i ordered this cord to replace an old one that my charger kept falling out of. though i enjoy most of the construction of the cord, i can see that i will have the same problem with my chargers very quickly because they already have a loose fit. this is great except it only had 3 three plugs. if you go to hotels you will notice that they do not have near enough outlets for ask the things we have to plug in at night. i thought this was the answer but sadly it wasn\\'t. got this to replace the fire hazard that has presumably been passed down for 3 generations in my wife\\'s family. this extension is nice to look at, doesn\\'t get tangled and feels very durable. we have cats that sometimes like to get in fights with cables and this one seems pretty immune to that kind of abuse. probably the best extension cord ever! i hate my other extension cords because how awesome this one is. the cord i almost moldable and the flat part for wall outlet just makes sense. the price is very fair for what you get. going into college, i was looking for a suitable extension cord that was durable! one good thing about this cord is that it has a braided cable, so it doesn\\'t really like to curl, nor will it easily be broken. i have personally tripped over my cord a couple of times, and so far, there have been no issues. one thing to note is that it only has 3 plugs. i wish there would be a few more. but, other than that, it is a great cable! i thought this was a good deal (i guess it could be to some) but i was at home depot today and they sell this exact same thing for the exact same price only 10 feet instead of 8. *shrug* works perfect for plugging in a wall mounted tv. i have the plug end velcroed to the tv wall mount and the cord runs down the wall and along the wall and back up to the wall plug in. so glad i went with the 8 foot cord!! really like this extension cord! it looks and functions much better than the old, cheap cords. the braided cord is cool, and the small surge protector plug is awesome. i like it so much, i am ordering a second one. i needed an extension cord for my television and dvd player in my bedroom. it needed to have a long cord and multiple outlets. it has not disappointed and it lays flat along the wall so it is not in the way. no problems with the product at all to date. it\\'s an extension cord, and while there\\'s nothing wild about that this was a great product. i love the angled plug to squeeze it behind objects, the textured cord helps it blend in, and the power flows like it should. overall, i\\'ll look to these for all my indoor extension cord needs. the three outlets are too close together to plug more than 2 apple power adapters in... most extension cords are 2 outlets on one side and a 3rd on the other... the design of this cord makes it less useful. i was bummed to see i\\'d need to buy a whole new $15 bit set for my screwdriver just to get one special \"y\" bit in order to unscrew the plastic casing. i need to drill holes in it so i can mount it to the wall, but i obviously can\\'t do that while it\\'s screwed together. i respect electricity, and prefer all my cables/cords be extra-sturdy. this one definitely is well made, and i feel safe using it. can\\'t say much about the surge protection, but i don\\'t really care about that. this is the tesla of extension cables. i purchased this in order to make a nice extension to a bidet, the quality of this cable is extremely good, and looks great when properly affixed to a wall. having surge protection is a great additional feature of this, and is priced amazingly for what you get. the packaging was good quality and easy to open. i like the braided power cord that gives ease of moving around and no coiling. the plug even came with a special made protective plastic. it was just what i needed. the cord and cord covering look to be durable and stylish. i used this to plug in a tv that sits on a dresser, with the plug behind. the flush plug head is important in this application. i bought this cord to replace my old extension cord. its stylish for an extension cord. it sometimes stops charging my phone, though. ive even bought a new cord and cube from apple thinking it was my phone charger but it still randomly quits working. not really sure whats going on with that. nice high quality cords that don\\'t look ugly. the braided cloth(?) wires add a nice touch and dont look like the typical ugly plastic looking expension cord. killed two phone chargers in a week. something is definitely not right with this extension cord. it\\'s an extension cord, and while there\\'s nothing wild about that this was a great product. i love the angled plug to squeeze it behind objects, the textured cord helps it blend in, and the power flows like it should. overall, i\\'ll look to these for all my indoor extension cord needs. the three outlets are too close together to plug more than 2 apple power adapters in... most extension cords are 2 outlets on one side and a 3rd on the other... the design of this cord makes it less useful. i was bummed to see i\\'d need to buy a whole new $15 bit set for my screwdriver just to get one special \"y\" bit in order to unscrew the plastic casing. i need to drill holes in it so i can mount it to the wall, but i obviously can\\'t do that while it\\'s screwed together. i respect electricity, and prefer all my cables/cords be extra-sturdy. this one definitely is well made, and i feel safe using it. can\\'t say much about the surge protection, but i don\\'t really care about that. this is the tesla of extension cables. i purchased this in order to make a nice extension to a bidet, the quality of this cable is extremely good, and looks great when properly affixed to a wall. having surge protection is a great additional feature of this, and is priced amazingly for what you get. the packaging was good quality and easy to open. i like the braided power cord that gives ease of moving around and no coiling. the plug even came with a special made protective plastic. it was just what i needed. the cord and cord covering look to be durable and stylish. i used this to plug in a tv that sits on a dresser, with the plug behind. the flush plug head is important in this application. i bought this cord to replace my old extension cord. its stylish for an extension cord. it sometimes stops charging my phone, though. ive even bought a new cord and cube from apple thinking it was my phone charger but it still randomly quits working. not really sure whats going on with that. nice high quality cords that don\\'t look ugly. the braided cloth(?) wires add a nice touch and dont look like the typical ugly plastic looking expension cord. killed two phone chargers in a week. something is definitely not right with this extension cord. wanted my printer in a location, but it\\'s cable wouldn\\'t reach the outlet, this fixed the problem. powers a mini fridge, microwave on 80% and a large coffee maker. its passed the test for about 6 months now. pretty, cord is flexible but not a surge protector....purchased for that purpose.... not worth your money or having your house catch on fire. i had this plugged into an outlet in my bedroom for about a week until it caught fire and exploded. do not buy. this product is exactly what i needed, it has 3 outlets and has a relatively slim side plug that goes into the wall.  the cord is braided very well and seems \"armored\" great extension cord if you want to plug in only 2 devices. a third one will not fit. i have 2 apple devices and one dexcom cgm receiver to be charged each night. all 3 will not fit will never use old kind of wire extension cords again after this...practical, doesn\\'t get twisted, heavy duty, and looks great on top of it. very nice. need to get more. i loved the flat plug aspect of this long cord as it was going behind a bed up against a wall. the length was the real draw. does not warm when in use. seemingly good material for price. i was so happy when i bought this, it has a great design and doesnt tangle and twist like other cords. but after using it for a month the middle plug doesnt work. ready to return it! haven\\'t had this very long yet, but the product build quality seems good. i like the braided cable as it looks nice and is flexible enough. little more boojie than your typical extension cable. wanted my printer in a location, but it\\'s cable wouldn\\'t reach the outlet, this fixed the problem. powers a mini fridge, microwave on 80% and a large coffee maker. its passed the test for about 6 months now. pretty, cord is flexible but not a surge protector....purchased for that purpose.... not worth your money or having your house catch on fire. i had this plugged into an outlet in my bedroom for about a week until it caught fire and exploded. do not buy. this product is exactly what i needed, it has 3 outlets and has a relatively slim side plug that goes into the wall.  the cord is braided very well and seems \"armored\" great extension cord if you want to plug in only 2 devices. a third one will not fit. i have 2 apple devices and one dexcom cgm receiver to be charged each night. all 3 will not fit will never use old kind of wire extension cords again after this...practical, doesn\\'t get twisted, heavy duty, and looks great on top of it. very nice. need to get more. i loved the flat plug aspect of this long cord as it was going behind a bed up against a wall. the length was the real draw. does not warm when in use. seemingly good material for price. i was so happy when i bought this, it has a great design and doesnt tangle and twist like other cords. but after using it for a month the middle plug doesnt work. ready to return it! haven\\'t had this very long yet, but the product build quality seems good. i like the braided cable as it looks nice and is flexible enough. little more boojie than your typical extension cable. im using this extension behind my wall mounted tv. due to the location of the outlet and where the ac adapter comes out from the tv, i needed this exact product for the power. i recommend this extension cord. ive been using this for the last few months. works perfectly for our needs. worth every penny. just remodeled my office and family room with gray pattern carpeting. some of my electrical outlets are exposed and i didnt want to see any of the heavy, stiff black cords. this cord is pliable and the color blends so well into the carpeting, that you cant even see it. this was just what i needed. eight feet version provides a lot of reach and the cord and outlet are of good quality. it\\'s good to know my things are protected from power surges with this. thanks! the lay flat plug head is so important. even if you aren\\'t trying to use an outlet behind a couch, this style is great for a seamless look on your wall. the cord looked really nice in person. bought quite a few! worked great, good insertion and firm hold on the plugs. nice flexible cord, well protected with the woven covering. is also nice and slick, so it doesn\\'t get tangled up in things, or itself, like a rubber cord. for the money i paid, i couldnt have asked for more. the cord length is good. it looks very sturdy and also looks of good quality. the right angled/ flat plug is really what i needed which this product has. the braided cord and general construction seems solid for the price. can\\'t say about longevity as it was a relatively new purchase but my first impressions are very positive. it is a quality item. i needed one with a flat, turned, plug end. fits my needs 100%. would buy again if i have need for another one. they sell similar extension cords that look exactly like this one at around the same price, but this one also has a built-in surge protector and states so right on the box. i don\\'t know if the other ones have surge protection or not, but why wouldn\\'t a brand mention that on the box if they did? buy this one, just to be on the safe side! i like that this plug offsets to the right side of the outlet. they look good and give an extra touch on boring extension cords- i got a couple of these and they have not let me down - i would yes buy again iconic american company shipped their products to china for production.  additional molding betwixt the cord and connectors reduces stress from normal use.  braided cloth cord won\\'t stink when exposed to petroleum distillates. it good extension for outlet behind the cabinet making it convenience access to plug any electronic devices with moving the cabinet and also you able to push back the cabinet all the way to the wall because of its 90 angle plug.  im recommending this product this actually my third one my first 2 was a shorter extension cord. thick and protected cable! perfect protection if you have cats trying to eat every cable in the house! also looks super chic and not at all tacky like most extension cords. it\\'s exactly as described. the cord is a kind of cloth wrapped around the plastic power cables? not sure what it\\'s made of but it\\'s very nice. as part of my move, i needed some affordable extension cords quickly. this came quickly and did the job well. the length was just what i needed, and it has the third prong (ground) as well. this was a reliable purchase that does what it\\'s supposed to do. very well made! so far it\\'s doing what it\\'s supposed to do! very happy i bought it for tree lights at christmas. definitely satisfied with this purchase. there\\'s only three ports on this so if you\\'re just looking to give your outlet some distance this is great. chord is very easy and flexible. power strip feel like all power strips, plastic. the design of this drop cord makes it possible to plug into the plug behind a cabinet and not make the cabinet stand out from the wall i like that this plug offsets to the right side of the outlet. they look good and give an extra touch on boring extension cords- i got a couple of these and they have not let me down - i would yes buy again iconic american company shipped their products to china for production.  additional molding betwixt the cord and connectors reduces stress from normal use.  braided cloth cord won\\'t stink when exposed to petroleum distillates. it good extension for outlet behind the cabinet making it convenience access to plug any electronic devices with moving the cabinet and also you able to push back the cabinet all the way to the wall because of its 90 angle plug.  im recommending this product this actually my third one my first 2 was a shorter extension cord. thick and protected cable! perfect protection if you have cats trying to eat every cable in the house! also looks super chic and not at all tacky like most extension cords. it\\'s exactly as described. the cord is a kind of cloth wrapped around the plastic power cables? not sure what it\\'s made of but it\\'s very nice. as part of my move, i needed some affordable extension cords quickly. this came quickly and did the job well. the length was just what i needed, and it has the third prong (ground) as well. this was a reliable purchase that does what it\\'s supposed to do. very well made! so far it\\'s doing what it\\'s supposed to do! very happy i bought it for tree lights at christmas. definitely satisfied with this purchase. there\\'s only three ports on this so if you\\'re just looking to give your outlet some distance this is great. chord is very easy and flexible. power strip feel like all power strips, plastic. the design of this drop cord makes it possible to plug into the plug behind a cabinet and not make the cabinet stand out from the wall i dont see the point of getting a 3-outlet extension cord if the outlets are so close to one another that you can only use 2 of them. sometimes i wonder who are the people designing those widely used products that are so unpractical. so nice to get rid of the long old surge protector extension cord to have something a little cleaner looking for simple electronics that don\\'t need a surge protector! we\\'re using it in the bathroom and have it secured underneath the vanity cabinets so there is power on the other side of the bathroom for charging razors, phones and electronic toothbrushes. needed an extension cord, saw this and purchased it. have an older house that doesn\\'t have a lot of outlets and this works perfectly. exactly what i needed to run power behind our bed for our nightstand lights. the way the outlet is to the side is a plus too. best value for my money for sure! i really like this product. in our master bedroom we only have 1 outlet on the headboard wall, right in the middle of the bed. so we bought two of these and have one going to each nightstand for a lamp and charging cables. works great.  really like the thick power cable and the fact that it\\'s nice and flush to the outlet when plugged in. really good design the only reason i have this 4 stars is because the cord comes out of the bottom angled to the right which makes it very awkward to use if you need the cord to go to the left. really needed for the flat plug, unfortunately could use one that the direction of the cord went the opposite direction but will do. works perfect. great for places like behind the couch, where you have power but cant reach. braided cord is nice and thick so its extremely durable. the plug is great, the cord is braided no-tangle, tough, good guage, medium long, the outlets are also great. built in surge suppression. no complain. highly recommend. a good sturdy cord that doesnt twist. really works as described and the cord wont twist. i like that its by a trusted brand like ge. this works great for our older home that has oddly placed outlets. with three prongs we can use it for more than just charging devices. my kids have told me we need another one. i really prefer the look of this cord to the old extension cords & will happily buy at least one more. this extension cord was better than i anticipated. i really needed a good reliable extension because the one i had, you barely touched and it would turn all of my gadgets off. this works great. i totally recommend it. stopped working after a small drop attractive thick cloth cord in white and grey colors. strong long cord with surge protection of 250 joules. won\\'t tangle. for the most part, this ext cord is as expected. seems like good quality for a ge label product. may purchase another? this is an attractive product that works well. it does its job, is quite long and has been the middleman between two surge protectors at opposite ends of the room.  my only comment would be to be careful with the actual chord. as it is not plastic, but cloth-like and gets dirty quickly. it went from being pristine white to gray over the course of a few weeks due to dirt, dust from outside, shoes and cats. husband said what did you get that for? a month later he needed an extension cord, guess what i used. its very nice heavy duty sturdy. i actually purchased to take when we travel. this is a very nice extension cord. the plug sits flat off the outlet rather than sticking out. the cord is nicely wrapped in a fabric with a premium feel. very happy with this product! i love that my cats aren\\'t able to even try chewing this cord up! the flat plug is perfect to fit behind my bed frame, and the cord is plenty long to run to my bedside table. three plugs are just enough for my humidifier, phone charger, and 1 to spare. the only downside is the outlets are pretty close together, so you have to be a little choosy when you have larger things to plug in. beautiful braided power cable! perfect for a wall mounted tv. i didn\\'t even have to run it through a channel since the braid is very high quality. i tested each port and they\\'re wired correctly. i live in a dorm, so my room is basically a nest of cords to power all the stuff in my room. i bought this one to plug into an outlet on the wall my bed is against to go underneath the bed to charge my phone. the flat/angled plug is great for this because it doesn\\'t protrude from the wall into where i sleep. works great, good length, and i ended up buying it again to use for my fridge. its exactly what i needed!!! it has the holes that accommodate plugs with the two different sized sides. its perfect! quality construction. the product was accurately advertised. reasonable price. arrived undamaged. recommend. got a second one a while ago after rearranging our place.  great buy and saw target & home depot are carrying them now too. this is a good extension for a desk setup where you want easier access to an outlet. could use an on/off switch. in the ever expanding list of expenses one incurs after having kids is baby-proofing. once we anchored our furniture to the walls, our extension cord that provides power to all the other baby crap on the room no longer fit behind the changing table. this plug had a low enough profile to fit between the changing table and the wall - a very tight fit, though i havent measured it to provide exact sizing. works great. it is really great to put under power outlets with furniture covering it without worrying if the wires are going to bend. it worked good for the first week or so but then we noticed it was super loose. anything you plugged in came right out with a smallest movement. it was super annoying and i woke up many mornings to my phone being dead cause i had come unplugged. great and pretty cheap. nice long cord. plug is angled off to the right. nice braided cord. much nicer construction than i was anticipating. allows multiple plug ins and surge protection. our power goes off occasionally and this has been a big help i live in a dorm, so my room is basically a nest of cords to power all the stuff in my room. i bought this one to plug into an outlet on the wall my bed is against to go underneath the bed to charge my phone. the flat/angled plug is great for this because it doesn\\'t protrude from the wall into where i sleep. works great, good length, and i ended up buying it again to use for my fridge. its exactly what i needed!!! it has the holes that accommodate plugs with the two different sized sides. its perfect! quality construction. the product was accurately advertised. reasonable price. arrived undamaged. recommend. got a second one a while ago after rearranging our place.  great buy and saw target & home depot are carrying them now too. this is a good extension for a desk setup where you want easier access to an outlet. could use an on/off switch. in the ever expanding list of expenses one incurs after having kids is baby-proofing. once we anchored our furniture to the walls, our extension cord that provides power to all the other baby crap on the room no longer fit behind the changing table. this plug had a low enough profile to fit between the changing table and the wall - a very tight fit, though i havent measured it to provide exact sizing. works great. it is really great to put under power outlets with furniture covering it without worrying if the wires are going to bend. it worked good for the first week or so but then we noticed it was super loose. anything you plugged in came right out with a smallest movement. it was super annoying and i woke up many mornings to my phone being dead cause i had come unplugged. great and pretty cheap. nice long cord. plug is angled off to the right. nice braided cord. much nicer construction than i was anticipating. allows multiple plug ins and surge protection. our power goes off occasionally and this has been a big help only installed this weeks but seems to work well. needed it to baby proof a room and this has a flatter plug that i can push furniture against. great little cord. very glad it is flat against the wall outlet. i wish it has a couple usb slots, but i knew it didn\\'t when i bought it. not too obtrusive sitting on the corner of my desk. i like that the cord is braided, looks nicer than typical cord. the center socket won\\'t hold a plug. luckily i only needed 2 sockets or i would have returned the unit. solid very well-made extension cord. the plug faces the wrong direction but it still usable. it just takes some getting used to. it works as intended! if youre looking for an extension cord that isnt as unappealing to look at, and it well made, this is a great buy! bought as an extension cord for my son\\'s bedroom tv and echo dot. works great, love the low profile plug - makes it easy to get his dresser close to the wall this way. only minor detail is the cord. design seems fine, but had trouble keeping it unwound behind his dresser. it wanted to keep rolling back up. after a little stretching, seems to be fine and only a minor annoyance. overall solid product. these look nice and are so easy to use and provide ample outlets; love that the plugs hug the wall as well. i use it in my classroom. very clean and easy to use. i like the way it plugs into the wall very smart design. i use this as an extension cord for my phone charger. it works great and is the perfect length. great extension cord! i love the cord, makes it feel very durable! i used command strips to hang the end of this on the wall above my desk & its been a great extra outlet without being too much. only installed this weeks but seems to work well. needed it to baby proof a room and this has a flatter plug that i can push furniture against. great little cord. very glad it is flat against the wall outlet. i wish it has a couple usb slots, but i knew it didn\\'t when i bought it. not too obtrusive sitting on the corner of my desk. i like that the cord is braided, looks nicer than typical cord. the center socket won\\'t hold a plug. luckily i only needed 2 sockets or i would have returned the unit. solid very well-made extension cord. the plug faces the wrong direction but it still usable. it just takes some getting used to. it works as intended! if youre looking for an extension cord that isnt as unappealing to look at, and it well made, this is a great buy! bought as an extension cord for my son\\'s bedroom tv and echo dot. works great, love the low profile plug - makes it easy to get his dresser close to the wall this way. only minor detail is the cord. design seems fine, but had trouble keeping it unwound behind his dresser. it wanted to keep rolling back up. after a little stretching, seems to be fine and only a minor annoyance. overall solid product. these look nice and are so easy to use and provide ample outlets; love that the plugs hug the wall as well. i use it in my classroom. very clean and easy to use. i like the way it plugs into the wall very smart design. i use this as an extension cord for my phone charger. it works great and is the perfect length. great extension cord! i love the cord, makes it feel very durable! i used command strips to hang the end of this on the wall above my desk & its been a great extra outlet without being too much. the flat plug on this product makes it very easy to use behind my sofa against the wall. with the small size and the cheap price, it includes surge protection. a really great product! this works well, as expected. the cord is thick and stiff, but will unwind. it\\'s not a super long extension cord but works well for christmas trees and normal length extensions the fell of this extension cord feels higher end. i love that it blends into our white baseboards. we have high baseboards and its also sturdy enough to sit right at the top of the board so you don\\'t even see the cord at all. highly recommend if you\\'re going for a certain aesthetic. great low-profile / flat plug that fits behind my nightstand so i can plug in electronics (like my phone/kindle/clock radio/etc) surge protected nice. top quality! we needed a flat cord to plug in behind our couch. this is perfect and a great length unbelievable how thick this cord is. it\\'s the size of a pinky finger. definitely not a cheapo flat extension cord. i love this chord and surge protector because is soft and flexible and looks top notch! didn\\'t think there was too much to say about an extension cord, but this is the nicest one i have ever purchased. looks like it would be much more expensive than it was. i love that you can push furniture close to the wall with how flat the plug is. the length is great and have not had any problems. got the job done i ordered it for. very sturdy feeling extension cord. i have my tv and switch hooked up to it. its also a nice plus to have a flat side to the plug, that way you can put furniture up against it without worrying about damaging the cord. the flat plug on this product makes it very easy to use behind my sofa against the wall. with the small size and the cheap price, it includes surge protection. a really great product! this works well, as expected. the cord is thick and stiff, but will unwind. it\\'s not a super long extension cord but works well for christmas trees and normal length extensions the fell of this extension cord feels higher end. i love that it blends into our white baseboards. we have high baseboards and its also sturdy enough to sit right at the top of the board so you don\\'t even see the cord at all. highly recommend if you\\'re going for a certain aesthetic. great low-profile / flat plug that fits behind my nightstand so i can plug in electronics (like my phone/kindle/clock radio/etc) surge protected nice. top quality! we needed a flat cord to plug in behind our couch. this is perfect and a great length unbelievable how thick this cord is. it\\'s the size of a pinky finger. definitely not a cheapo flat extension cord. i love this chord and surge protector because is soft and flexible and looks top notch! didn\\'t think there was too much to say about an extension cord, but this is the nicest one i have ever purchased. looks like it would be much more expensive than it was. i love that you can push furniture close to the wall with how flat the plug is. the length is great and have not had any problems. got the job done i ordered it for. very sturdy feeling extension cord. i have my tv and switch hooked up to it. its also a nice plus to have a flat side to the plug, that way you can put furniture up against it without worrying about damaging the cord. excellent extension cord. plug lays flat against wall for tight spaces. good length and well made. very good quality and nicely packaged. these things come in handy so i like to keep them on hand this is a really good size, not too large, so it\\'s very useful in different locations. i\\'m very pleased. really nice for smaller things, but pretty sure this broke my macbook power adapter and messed up my battery. i usually have my macbook plugged into this along with the printer for work hours, maybe it works fine for shorter duration but not for 30-40hrs a week. i ended up having to buy a new adapter and reset my battery a few times for my macbook to start back up again. braided rope cord is really nice. i\\'ve probably ordered 10 of these things for around the house etc. love them the braid feels quality. the cable is also flexible. it straighten up well coming out of the box. no kinks. doesnt curl. this cord is great for hooking up my christmas lights. multiple outs, surge protection, and a cord that is long enough. had a space heater on another extension and it burned, bought this one and so far so good! works great and looks great. purchased 2 of these and both are ideal for appliances -- work as expected of an extension cord. would recommend. really nice cord! box says its 8 feet but it looks shorter. still works great though i love this cord, and will probably be purchasing 1 or 2 more in the near future. great design, very durable, and low profile. really like the cord material! its very durable and i havent had any issues with it. very sturdy and safe. i use for charging my phones on the bed. perfect for my needs showed up super fast, within 24 hours of ordering. came packaged nicely and works just like i imagined it would. we needed a three prong extension cord, and for the price this was a no brainer. great surge protector. i was having issues with the plug just falling out of the wall on previous ones. wish the outlet plugs were a little farther apart as i can only use two of these instead of all three. i bought this cord end of february, now it\\'s end of may and it\\'s dead. however the cord did look nice and felt to be of good quality. i love this ge designer 3 prog cord with surge protection. after i lost my ice maker to a surge i started buying these for every plug. i love the muted white color it sort of an upgrade from the old style surge protectors. yes i would buy again and would recommend. i feel very luxurious when looking at this thing. sleek look that looks like it belongs in a millionaires house lol basic extension cord with basic surge protection. great for everyday use. the cord length was just right.. this came in handy.. i love the fact that the cord is thread/rope instead of like a typical cord.. great extension cord - low profile wall plug is perfect behind furniture. highly recommended for its nice quality and convenient to use. great price too. its a great product. the long wire makes sure that you can stretch it across a bedroom or halfway across the living room. the sleek shape can be hidden under a sofa or behind a curtain so don\\'t worry about ruining the look of your room. those extension cord are great for security purposes. i already set up all five cords. have bought a total of three of these and i love them. they are perfect for things like behind a tv and in the kitchen for appliances. will buy more if needed. i love this compact strip. since it has a flat prong, its perfect for fitting behind items. the corded wire makes it bendable to deter from fraying. works great! im also satisfied with the look and feel of of the extension cord- its not flimsy and its not boring to look at. i like how the cord angles away from the outlet and the profile is slim so it doesnt get in the way of other cords. i like the fact that this cord is bendable, can go around a corner nicely. the wall plug is angled so it doesnt obstruct other plugs. good extension cord hanged on the wall cord nice and long comes in handy. great for plugging in several electronics at once. great extension cord - low profile wall plug is perfect behind furniture. highly recommended for its nice quality and convenient to use. great price too. its a great product. the long wire makes sure that you can stretch it across a bedroom or halfway across the living room. the sleek shape can be hidden under a sofa or behind a curtain so don\\'t worry about ruining the look of your room. those extension cord are great for security purposes. i already set up all five cords. have bought a total of three of these and i love them. they are perfect for things like behind a tv and in the kitchen for appliances. will buy more if needed. i love this compact strip. since it has a flat prong, its perfect for fitting behind items. the corded wire makes it bendable to deter from fraying. works great! im also satisfied with the look and feel of of the extension cord- its not flimsy and its not boring to look at. i like how the cord angles away from the outlet and the profile is slim so it doesnt get in the way of other cords. i like the fact that this cord is bendable, can go around a corner nicely. the wall plug is angled so it doesnt obstruct other plugs. good extension cord hanged on the wall cord nice and long comes in handy. great for plugging in several electronics at once. it\\'s a power cord and it works. the cord is braided and actually looks nice so i don\\'t mind having it visible, especially using 3m to mount it to the wall with 3m mounted hooks to organize the cord neatly. i just ordered and received the 8 foot cord. its actually about 7 feet which wouldnt be so bad if i disintegrated but it based on its claimed size. quality wise i dont know as i just got it. wont return it because its not worth spending 5$ and an hour of my time to get just 10$ back. kind of a rip off for me. this is a great slim profile threaded extension chord. it\\'s nothing special, but it\\'s fairly flush and fits behind our headboard for our bed, so we\\'re able to keep the headboard flush with the wall and not lose access to the outlets behind the bed. very happy with this cord so far. love that the plug is flat. the cording is nice and thick. seems very sturdy. works as advertised. great price and great quality. i needed this for school and it has been awesome. great cord. looks nice. great quality. i would totally buy again. this is a really nice extension cord, the cord part is braided cloth. nice plug. i was really surprised at the quality. great but... plug is angled and doesnt fit in location of choice. its very nice!! excellent quality!! we use it for our window air conditioner! it added just the right length to its cord excellent, sturdy extension & power surge cord. i highly recommend this product. it\\'s a power cord and it works. the cord is braided and actually looks nice so i don\\'t mind having it visible, especially using 3m to mount it to the wall with 3m mounted hooks to organize the cord neatly. i just ordered and received the 8 foot cord. its actually about 7 feet which wouldnt be so bad if i disintegrated but it based on its claimed size. quality wise i dont know as i just got it. wont return it because its not worth spending 5$ and an hour of my time to get just 10$ back. kind of a rip off for me. this is a great slim profile threaded extension chord. it\\'s nothing special, but it\\'s fairly flush and fits behind our headboard for our bed, so we\\'re able to keep the headboard flush with the wall and not lose access to the outlets behind the bed. very happy with this cord so far. love that the plug is flat. the cording is nice and thick. seems very sturdy. works as advertised. great price and great quality. i needed this for school and it has been awesome. great cord. looks nice. great quality. i would totally buy again. this is a really nice extension cord, the cord part is braided cloth. nice plug. i was really surprised at the quality. great but... plug is angled and doesnt fit in location of choice. its very nice!! excellent quality!! we use it for our window air conditioner! it added just the right length to its cord excellent, sturdy extension & power surge cord. i highly recommend this product. i know it is just an extension cord but it is very nice. it will be seen so i wanted something a little better than the standard cord. i was pleasantly surprised. just which the black was in stock and not so long for shipping. works great. love the length of this cord and love that the cord is not plastic but covered in fabric. seems to make this cord very durable. greatly satisfied with this cord. replacement. thickness and quality of construction are solid! needed a card to put through a sectional couch. perfect. so much better then a regular extension cord. love the side plug and the three plugs is just enough for my vanity area without being overwhelming. good purchase. outstanding. beautiful. quality. if youre into high quality everything for your home, this is the best extension cord you will ever buy. seems to be good quality and works as intended. the braided cord seems sturdy and is flexible. why are you even looking at reviews for an extension cord? it does its job. good quality cable, works fine. main drawback is that the plugs are too close together, so if you\\'re plugging in an odd shaped object like a larger size phone charger it\\'ll block the adjacent plug. nice looking extension cord for use in a living room or other place where you want something that doesn\\'t look like it came from a hardware or tech store. i know it is just an extension cord but it is very nice. it will be seen so i wanted something a little better than the standard cord. i was pleasantly surprised. just which the black was in stock and not so long for shipping. works great. love the length of this cord and love that the cord is not plastic but covered in fabric. seems to make this cord very durable. greatly satisfied with this cord. replacement. thickness and quality of construction are solid! needed a card to put through a sectional couch. perfect. so much better then a regular extension cord. love the side plug and the three plugs is just enough for my vanity area without being overwhelming. good purchase. outstanding. beautiful. quality. if youre into high quality everything for your home, this is the best extension cord you will ever buy. seems to be good quality and works as intended. the braided cord seems sturdy and is flexible. why are you even looking at reviews for an extension cord? it does its job. good quality cable, works fine. main drawback is that the plugs are too close together, so if you\\'re plugging in an odd shaped object like a larger size phone charger it\\'ll block the adjacent plug. nice looking extension cord for use in a living room or other place where you want something that doesn\\'t look like it came from a hardware or tech store. flat plug, perfect for an outlet behind the couch for a fish tank beside the couch. great length. it works as advertised and the flat plug has a low profile. only downside to this cord is that the plug part doesnt swivel. so the cord has to go to the right of the wall plug. other then that its great. does what its intended to do & looks great. this extension was exactly what we needed. they look nice and are extremely durable. a bit pricey, but you get what you pay for. this is a really nice extension cord. the braided part makes it all that much nicer and different then most others. pretty standard power cord. nice braided cord, good quality. this helped me a lot when i moved to oregon. i love how long it is and has lasted quite a while! no problems and looks good! very durabke extension cord its like a nylon thread around you can almost bend to shape how you want instead of dangle cords awesome product thanks! great build quality, nice design. my only complaint is that the angled plug is sometimes not what i need for the situation, ie i would rather it point left than right. still, one of the nicest looking extension cords out there. i loved that the flat plug allows it to go behind my tv stand without preventing it from laying against the wall correctly. the cord is a great length and is also appealing visually. flat plug, perfect for an outlet behind the couch for a fish tank beside the couch. great length. it works as advertised and the flat plug has a low profile. only downside to this cord is that the plug part doesnt swivel. so the cord has to go to the right of the wall plug. other then that its great. does what its intended to do & looks great. this extension was exactly what we needed. they look nice and are extremely durable. a bit pricey, but you get what you pay for. this is a really nice extension cord. the braided part makes it all that much nicer and different then most others. pretty standard power cord. nice braided cord, good quality. this helped me a lot when i moved to oregon. i love how long it is and has lasted quite a while! no problems and looks good! very durabke extension cord its like a nylon thread around you can almost bend to shape how you want instead of dangle cords awesome product thanks! great build quality, nice design. my only complaint is that the angled plug is sometimes not what i need for the situation, ie i would rather it point left than right. still, one of the nicest looking extension cords out there. i loved that the flat plug allows it to go behind my tv stand without preventing it from laying against the wall correctly. the cord is a great length and is also appealing visually. good product overall, good quality but very basic. for the same price, you can get something similar but with more outlets. why would you buy another xcord?? this cord is so stylish and modern i love the flexibility of the woven cord. makes it much easier to use in whatever part of the room i need it in. i also love that this model has surge protection, as i couldn\\'t find a guarantee of surge protection on similar products from other brands. great! i need put this on top of computer desktop table instead of put on floor to easy for me to access and plug in anytime. :-) great cord for connects necessary for tv and sterro very nice high quality cord made of good materials just fixed a bunch of outlet problems i had in my room i only had one well made. think cord for protection so cord wont crack or tangle. added an extra space for my amazon cube and lamp. exactly what i expected. works great, good quality. good product overall, good quality but very basic. for the same price, you can get something similar but with more outlets. why would you buy another xcord?? this cord is so stylish and modern i love the flexibility of the woven cord. makes it much easier to use in whatever part of the room i need it in. i also love that this model has surge protection, as i couldn\\'t find a guarantee of surge protection on similar products from other brands. great! i need put this on top of computer desktop table instead of put on floor to easy for me to access and plug in anytime. :-) great cord for connects necessary for tv and sterro very nice high quality cord made of good materials just fixed a bunch of outlet problems i had in my room i only had one well made. think cord for protection so cord wont crack or tangle. added an extra space for my amazon cube and lamp. exactly what i expected. works great, good quality. needed another extension cord for the christmas tree. this one meets all of our expectations and does the job. appreciated the wrapped cord. very nice look and feel to the cord.  there\\'s still an odd battle between wall wart deignerss and plugs about which way to rotate the plugs or the wall warts. i think in the end this cord would be better off if the plugs were spaced slightly farther apart and rotated 90 degrees. this cord is so needed and it serves the purpose we bought both the black and white versions of these. love the look of the wrapped cord and the flexibility of these. we ended up buying more to replace other cords we were using. preferred the quality and look of these vs. the ones we had. i love this cord! it\\'s got a sturdy design, which is great for the locations i\\'m currently using it in the house. i don\\'t have to worry about it when the vacuum gets near because of the thicker cord, and the plugs fit all my devices perfectly. i found this at a local wm store but amazon had it for lower price. sturdy and excellent build quality. the braided cord is great. the fact that it has the three prong outlets is a plus. it\\'s perfect for switching out for dif. seasoned foods. like dessert to spicy foods (meats, beans, rice, etc..) i love how this looks and feels. it is the most impressive looking extentiom cord ive seen! i bought this so i could move some wires out of the walk way and this has helped greatly. so far so good~ very nicely design and looks to be sturdy. the extension itself is small. if you have a big adapter (like macbook pro adapter), it is going to take up all 3 spots. good and effective power supply for the masses i use it for electricity and it works! great product as expected! thank you! this thing will do the solid electrical demands you need. standard extension with strong cord; works well. great bedside outlet extender. i have an outlet for my lamp, cellphone charger and an extra outlet for when i have a guest who also needs a charge outlet. i like the flatness of this product. since it needed to go behind my dresser, i was really happy to find an extension cord like this. does its job, nothing to really complain about. good length for cord but i have issues with the plugs coming out of the sockets. i bought it for my bed to have my tablet and phone charger so the block moves around. would be 5 stars if you just need it behind an entertainment center and it not move around. use this for outdoor crockpot cooking and works well---no surge thick cable, does what it suppose to do. i wish outlet in wall was able to swivel good and effective power supply for the masses i use it for electricity and it works! great product as expected! thank you! this thing will do the solid electrical demands you need. standard extension with strong cord; works well. great bedside outlet extender. i have an outlet for my lamp, cellphone charger and an extra outlet for when i have a guest who also needs a charge outlet. i like the flatness of this product. since it needed to go behind my dresser, i was really happy to find an extension cord like this. does its job, nothing to really complain about. good length for cord but i have issues with the plugs coming out of the sockets. i bought it for my bed to have my tablet and phone charger so the block moves around. would be 5 stars if you just need it behind an entertainment center and it not move around. use this for outdoor crockpot cooking and works well---no surge thick cable, does what it suppose to do. i wish outlet in wall was able to swivel this is so convenient i love it and its so helpful great product and also surge protection works well i zip tied it to the leg of my work bench to give me some easily accessible power. works great. literally only bought this because the local hardware store had this for $6.00 more than amazon. i was even able to get it same-day because i was ordering other items. this is exactly what i needed, and the perfect length (glad there were options for multiple lengths and colors). good extension cord. does the job. needed a cord for the wifi booster. this is perfect! me encanto . la volv a comprar . el conector muy conveniente par ponerlo detrs de un mueble . y el cordn bonito y flexible . lo suficientemente largo . funciona a la perfeccin nice heavy duty cord that my cats won\\'t chew through! fits flush against the wall and works great. works good, looks good, i recommend. this seems to be working well in kitchen too, not only behind furniture for space! this is so convenient i love it and its so helpful great product and also surge protection works well i zip tied it to the leg of my work bench to give me some easily accessible power. works great. literally only bought this because the local hardware store had this for $6.00 more than amazon. i was even able to get it same-day because i was ordering other items. this is exactly what i needed, and the perfect length (glad there were options for multiple lengths and colors). good extension cord. does the job. needed a cord for the wifi booster. this is perfect! me encanto . la volv a comprar . el conector muy conveniente par ponerlo detrs de un mueble . y el cordn bonito y flexible . lo suficientemente largo . funciona a la perfeccin nice heavy duty cord that my cats won\\'t chew through! fits flush against the wall and works great. works good, looks good, i recommend. this seems to be working well in kitchen too, not only behind furniture for space! these things are nice i have them plugged behind my headboard and their slim profile is awesome. have one on each side of bed. its an extension cord. it works. as aesthetically pleasing as a power cord gets. i love how flat/flush it sits in the outlet. buying another one today. great for extension cord and great price! it does the job what can i say. i needed this for my makeup mirror. it plugs in one spot and has something plug into it on the other side. it does its job so i have no complaints. this is a great cord, excellent quality and looks good. good quality and good looking. exactly what i needed and the length was perfect. great price for strong extension cord. these things are nice i have them plugged behind my headboard and their slim profile is awesome. have one on each side of bed. its an extension cord. it works. as aesthetically pleasing as a power cord gets. i love how flat/flush it sits in the outlet. buying another one today. great for extension cord and great price! it does the job what can i say. i needed this for my makeup mirror. it plugs in one spot and has something plug into it on the other side. it does its job so i have no complaints. this is a great cord, excellent quality and looks good. good quality and good looking. exactly what i needed and the length was perfect. great price for strong extension cord. good product great value for the money. great, high-quality extension cord. the weaving around the cord ensures it will last for years to come. like the design on this cord looks really nice. the cord feels high quality, doesn\\'t get tangled easily, and the angled plug makes it easy to put in an outlet next to other items. all in all an excellent extension cord. the box where you put your cord in but it\\'s alright. why don\\'t all extension cords have this type of low-profile plug...? it\\'s amazing. great cord and very versatile due to it\\'s flexibility and low profile. the cord arrived on time. it is just as discribed. i like the fact that when plugged into the wall it doesn\\'t stuck way out; you can easily push furniture against the wall. love this extension cord, great quality and length of cord is perfect i like the braided cord, the flat plug in for the wall, and that the head with the multiple sockets is compact. well designed! works great i keep this by my bed. it\\'s simple and looks nice. i really like this product. the plug in for the wall being flat is genius!!! the cord is sturdy and flexible. it doesn\\'t kink up or bend in funny ways and it is really long. spend a little more and buy this one probably the best looking extension cords out there. goes well with home interior and seems sturdy. bought for when we use our generator. works perfect! great quality. feels sturdy. works great i bought two, one works perfectly the other one sparked when i plugged my tv into so i threw it away. solid product. effective and well-designed. perfect size and flexibility! its an extension cord. works well, good quality. product as described and it does what it says. works great in a location where a power strip is too big. i really like this product. the plug in for the wall being flat is genius!!! the cord is sturdy and flexible. it doesn\\'t kink up or bend in funny ways and it is really long. spend a little more and buy this one probably the best looking extension cords out there. goes well with home interior and seems sturdy. bought for when we use our generator. works perfect! great quality. feels sturdy. works great i bought two, one works perfectly the other one sparked when i plugged my tv into so i threw it away. solid product. effective and well-designed. perfect size and flexibility! its an extension cord. works well, good quality. product as described and it does what it says. works great in a location where a power strip is too big. simple yet elegan design, love the flat head shape, works very well. its been a week, hopefuly will lastlong. great product. satisfied. i used this to plug up my flat iron and hair dryer and it works great! good price and good product! great extension cord. exactly what i needed well made. fabric cover increased flexibility. works good no complaints . i needed al alternative to plug in some lights and tv behind our tv wall mount. this was exactly what i needed and the offset cable from the wall plug is perfect. greta cord. it came brand new and its the length i needed. would purchase again. these are a beautiful light gray color and exactly what i was looking for! a perfect length with a slim plug. i bought a few to stick in our bathroom drawers that have electrical outlets tucked behind them. now our toothbrushes can charge out of sight. simple yet elegan design, love the flat head shape, works very well. its been a week, hopefuly will lastlong. great product. satisfied. i used this to plug up my flat iron and hair dryer and it works great! good price and good product! great extension cord. exactly what i needed well made. fabric cover increased flexibility. works good no complaints . i needed al alternative to plug in some lights and tv behind our tv wall mount. this was exactly what i needed and the offset cable from the wall plug is perfect. greta cord. it came brand new and its the length i needed. would purchase again. these are a beautiful light gray color and exactly what i was looking for! a perfect length with a slim plug. i bought a few to stick in our bathroom drawers that have electrical outlets tucked behind them. now our toothbrushes can charge out of sight. love the look, length, and the strength of the cord. love that it also has surge protection. will probably purchase more for other rooms in the house. functional. very lightweight -- feels cheap. this extension cord works great! the cord is pretty thick though so keep that in mind if you have to run it through a specific place. the outlet part is big enough to stick on a wall with command stips if you need to do that. length and a non-stiff cord made this more convenient. i like this style. its an extension cord what do u expect? it does what its supposed to do. it looks just like the picture. great product . nice. well made. just what i wanted and needed works very well better than most little cables. plastic housing with a braided cable and a lie flat plug. i like it so much i bought 2. excellent product this is my 4th purchase of these cords. love the flat head for behind the furniture installation and braided cord for flexibility. love the look, length, and the strength of the cord. love that it also has surge protection. will probably purchase more for other rooms in the house. functional. very lightweight -- feels cheap. this extension cord works great! the cord is pretty thick though so keep that in mind if you have to run it through a specific place. the outlet part is big enough to stick on a wall with command stips if you need to do that. length and a non-stiff cord made this more convenient. i like this style. its an extension cord what do u expect? it does what its supposed to do. it looks just like the picture. great product . nice. well made. just what i wanted and needed works very well better than most little cables. plastic housing with a braided cable and a lie flat plug. i like it so much i bought 2. excellent product this is my 4th purchase of these cords. love the flat head for behind the furniture installation and braided cord for flexibility. just as i expected. works well. this is a great extension cord but it kills machines! i got a skincare fridge but after only a month of using it it stops working, at first i thought it was the fridge itself but then it happened again to my steamer. dont buy it if youre using it for a really expensive appliance! i\\'m not picky about extension cords, but this fit nicely where i wanted it to go and i like the fabric cord. it\\'s more attractive since this is visible in my house. so far, i\\'ve used all of the plugs at the same time with no issues. very sturdy product and a great length! works as it should. what else is there to say? lol this worked great. i loved the flat to the wall plug and i appreciate the added surge protection. this extension cord, with surge proteccion . really nice cord and steady it is very useful and good quality material had a very tight place and did not want furniture to stick out and the cord solved the issue as a cord, it works well enough. however, the problem is that the orientation of the cord on the plug sticks out from the bottom right, making it kind of awkward to use if the orientation of your wiring setup isn\\'t exactly to the bottom and right of the outlet you\\'re plugging into. good packaging, works well. works for me needed a power strip with a long enough cord in my craft room and this one is perfect! i love the flat outlet part and the cord feels nice and sturdy and less likely to get damaged! not a whole lot to say about it, just fit my needs! product feels premium and worked for the purpose i bought it for. would definitely buy again blew up the first time i used it  i really like this cord, the material and also that the plug is flat. this is great if your bed it very close to the wall and you cant quite plug anything in. its good for tight spaces bc of the way the plug is shaped. its super sturdy and thick. definitely worth it. its hanging in so well i wish it had a switch to it but its still in really good condition, has the brand new feel to it as a cord, it works well enough. however, the problem is that the orientation of the cord on the plug sticks out from the bottom right, making it kind of awkward to use if the orientation of your wiring setup isn\\'t exactly to the bottom and right of the outlet you\\'re plugging into. good packaging, works well. works for me needed a power strip with a long enough cord in my craft room and this one is perfect! i love the flat outlet part and the cord feels nice and sturdy and less likely to get damaged! not a whole lot to say about it, just fit my needs! product feels premium and worked for the purpose i bought it for. would definitely buy again blew up the first time i used it  i really like this cord, the material and also that the plug is flat. this is great if your bed it very close to the wall and you cant quite plug anything in. its good for tight spaces bc of the way the plug is shaped. its super sturdy and thick. definitely worth it. its hanging in so well i wish it had a switch to it but its still in really good condition, has the brand new feel to it much easier to keep my phone and ipad charged i love the product! would definitely buy it again. i used it for a plug that is very visible, and its so much nicer than your typical ugly plug nice extension cord that looks a bit more polished than just an industrial one. this cable is perfect for my different electronics around my television being discrete! the cable is longer than i expected it to be but im not mad at that, gives me more room to properly place it. love it, i will probably buy another for the outlet near my bed. excellent got one from walmart before so knew it would work just fine it worked  does what it is supposed to do. appears sturdy to last awhile. pretty handy and seems to be well made. for the price, it\\'s hard to beat. much easier to keep my phone and ipad charged i love the product! would definitely buy it again. i used it for a plug that is very visible, and its so much nicer than your typical ugly plug nice extension cord that looks a bit more polished than just an industrial one. this cable is perfect for my different electronics around my television being discrete! the cable is longer than i expected it to be but im not mad at that, gives me more room to properly place it. love it, i will probably buy another for the outlet near my bed. excellent got one from walmart before so knew it would work just fine it worked  does what it is supposed to do. appears sturdy to last awhile. pretty handy and seems to be well made. for the price, it\\'s hard to beat. feels like it is good quality. i love that it is also a surge protector. works as intended exactly what i needed it for. nothing special. have had no issues at all. thick, somewhat adequate for rooms or small desk as the length isnt the longest but it is good looking and safe. i love the plug design as it doesnt hit furniture thick and quality cord. nice and long. i like how compact the plug is; it fits in tight spaces. great product. you wont be disappointed! quick this is a great cord. we needed something flat to go behind our couch and that came out, to plug my boys\\' tablets into. cord seems tough enough to handle them, they worked out perfectly so good. thick high quality wire. love the generous length and shape of plug. using for phone and tablet charging. highly recommended. would buy more. love the braided cord, i wish there was a 6 plug one, i didnt see one in the options. thanks nice feels like it is good quality. i love that it is also a surge protector. works as intended exactly what i needed it for. nothing special. have had no issues at all. thick, somewhat adequate for rooms or small desk as the length isnt the longest but it is good looking and safe. i love the plug design as it doesnt hit furniture thick and quality cord. nice and long. i like how compact the plug is; it fits in tight spaces. great product. you wont be disappointed! quick this is a great cord. we needed something flat to go behind our couch and that came out, to plug my boys\\' tablets into. cord seems tough enough to handle them, they worked out perfectly so good. thick high quality wire. love the generous length and shape of plug. using for phone and tablet charging. highly recommended. would buy more. love the braided cord, i wish there was a 6 plug one, i didnt see one in the options. thanks nice durable, flexible cord is great. lays flat out of way value for money the braided cord design is much nicer than the standard cords everywhere. works perfectly behind furniture and also looks better than standard plugs in visible areas. perfect for led lights not as pictured surge protection is important i needed to extend the 3 prong instead of the 2 prong and it is wonderful, the wire is thick and fabric. very comfortable and usable. mmmm electriccey awesome product great product super sturdy and reliable perfect the woven fiber protecting the cord is awesome. if you need more than three plugs, this isn\\'t the right cord for you, but otherwise this thing is great. pretty standard 3 outlet extension - the right product for what i needed at the right price this is a great extension cord. i have several and i love them. the rope cord is so studry. it works well and the cord feels like it\\'ll last for a long time. perfect works well, item as described and works as expect just a bit short of what i really needed. 9 feet would have been better. too bad they dont have other sizes. i like that its a surge protector too. looks amazing, the cable is of very good quality, the l shaped conector makes it perfect to plug behind furniture, with there was a 6 - 8 outlet version! great product super sturdy and reliable perfect the woven fiber protecting the cord is awesome. if you need more than three plugs, this isn\\'t the right cord for you, but otherwise this thing is great. pretty standard 3 outlet extension - the right product for what i needed at the right price this is a great extension cord. i have several and i love them. the rope cord is so studry. it works well and the cord feels like it\\'ll last for a long time. perfect works well, item as described and works as expect just a bit short of what i really needed. 9 feet would have been better. too bad they dont have other sizes. i like that its a surge protector too. looks amazing, the cable is of very good quality, the l shaped conector makes it perfect to plug behind furniture, with there was a 6 - 8 outlet version! super nice cords. fit perfectly and don\\'t stick up like regular cords. great for hiding outlets and also great to help prevent tripping on cords. a nice price and purchase. it provides an extension that is not bulky and less noticable. works well for the bedroom and office. the flat plug in is a huge plus as well. definitely worth the buy. it works and is pretty durable. only needed it for the extra cables. 10/10 great extension cord! tough yet attractive. get a few for when you\\'ll need them. great product and value recommended product really like the look of the cord especially being the cord was braided and it doesn\\'t look like some cheap cord running a cross the floor. probably the only down side would be it doesn\\'t have a reset button. does exactly what it says it does ^_^ this is the best extension cord ive found for indoor use. the braided cord looks good, and feels nice in your hand. the entire product has a high-quality feel, which is what i want for something that carries 120v current. i wish ge would make more models of different sizes and configurations. these are fantastic. the cord blends in much better with my white walls and it is a huge improvement over plastic cords. the outlets are high quality and will protect your electronics. great extension cord, having the flat/low profile plug is great if your outlet is behind furniture. it\\'s been working fine so far. has worked good so far. i have no complaints. a little expensive as far as an extension cord goes but it has really sturdy construction. one flaw would be the flexibility of cord isnt friendly for super tight spots great value works great in the tight location that i needed it for. awesome cord. super heavy duty cable and the construction seems to be of very high quality. would buy again at this price. for three pronged outlets (aquarium lighting for me), this has been great. this cord is really high quality and i can definitely recommend it. the only thing to take into account is that the plugs are all fairly close to each other so make sure what you want to plug in can fit there. so good i bought another. can\\'t do without them. great quality build, functional and very aesthetically designed. great extension cord, having the flat/low profile plug is great if your outlet is behind furniture. it\\'s been working fine so far. has worked good so far. i have no complaints. a little expensive as far as an extension cord goes but it has really sturdy construction. one flaw would be the flexibility of cord isnt friendly for super tight spots great value works great in the tight location that i needed it for. awesome cord. super heavy duty cable and the construction seems to be of very high quality. would buy again at this price. for three pronged outlets (aquarium lighting for me), this has been great. this cord is really high quality and i can definitely recommend it. the only thing to take into account is that the plugs are all fairly close to each other so make sure what you want to plug in can fit there. so good i bought another. can\\'t do without them. great quality build, functional and very aesthetically designed. great product blends with wall love it compact for small space. well done! using it for my coffee maker that i put on my dining table instead of kitchen counter. longer than expected very happy! we bought these for our new home because several of the outlets are blocked by the furniture best extension cord i have just what we needed. good chord i have used this cord to connect my wall mounted tv to the lower wall socket . since i have a light gray wall, this cord blends in quiet well. works as expected for my use. cord of good quality very useful for tv stands. allows you to place them wherever but still connect several electronics i especially like the braiding on the cable; very nice touch. this cord is very well insulated and thick. it seems like it will last a long time. they are durable and work well. wrap up nicely good weight. hides nicely in cord cover and under furniture. stays nice and straight. can string several together so everyone gets a plug. excellent quality product very good! high quality extension cord and the low profile of the cord coming out of the outlet is perfect for what i needed. fantastic and fit perfectly. exactly what i needed. good quality. the cord is nice with the \"fabric\" wrapped around it.. i think it\\'s more about look than anything else it has a durable cord, heavy duty plug and three available outlets. i would buy another one and highly recommend it. great little extension cord. the cord itself is some sort of braided material. it feels good quality. it has a nice length to it as well. very flexible with the fabric cord. works great needed for charger and other cords that my bed blocked the outlet. perfect overall the quality of this cord is very good. i don\\'t have anything negative to say about this cord extension. i do recommend it. seems durable and works as designed did what was expected perfect for my use no complaints, good product, everything is as expected. great product, good quality. very functional. love that the cord is wrapped in fabric; this will prevent shortages and wear and tear. its a extention cord saw a similar product at a local craft store for $30. found this one online for much less. high quality and exactly what i needed. very happy with the purchase. love it good quality cord, and does what it\\'s supposed to do! works great nice in theory this product would be great, but all three cords i purchased stopped working after two weeks. product is great and i love that the outlet part is flat and doesnt stick out. the rope like cord looks very durable exactly what i needed to charge my vacuum in the closet.  i like the look of the braided cord and the flat plug is crucial for the space very nice its pretty good, perfect link for what i need. definitely like the braided cord over the standard all plastic. works well, its nice to be able to have a flat plug to go into the wall and still use the other plug above it. barely noticeable against light colored walls. perfect for my apartment and love how the color blends into my baseboards to avoid looking at lots of cords! best price i found online nice extension cord. well made and looks great. this extension cord is great because it is compact and has sockets for three grounded plugs. the braided cable looks good, does not kink up, and is very durable. it\\'s an extension cord, not much else to say about it but i do think its a slick looking cord, i like it. nice extension cord that hides away behind my dresser. and the extra outlets are a big plus exactly what i needed to charge my vacuum in the closet.  i like the look of the braided cord and the flat plug is crucial for the space very nice its pretty good, perfect link for what i need. definitely like the braided cord over the standard all plastic. works well, its nice to be able to have a flat plug to go into the wall and still use the other plug above it. barely noticeable against light colored walls. perfect for my apartment and love how the color blends into my baseboards to avoid looking at lots of cords! best price i found online nice extension cord. well made and looks great. this extension cord is great because it is compact and has sockets for three grounded plugs. the braided cable looks good, does not kink up, and is very durable. it\\'s an extension cord, not much else to say about it but i do think its a slick looking cord, i like it. nice extension cord that hides away behind my dresser. and the extra outlets are a big plus excellent power extension for use behind furniture so you can keep it close to wall. braided cord should last. this is a great extension cord if you need to run one that will be highly visible. it is very nice looking and built in surge protection is a big plus! good quality this cord is durable and great length. i didnt think i would need all of the outlets for my specific use, but it has come in handy multiple times! clutch! liking this plug from the flat design plug into the wall along with a built in surge protection. perfect shorter length needed for my treadmill. very flexible cable. well made, quality cord. good value, as expected good excellent quality it saved my life. i love it. now i can connect my tv and my ps4 good looks nicer than a normal extension cord as it has a braided look. absolutely perfect. great flush mount extension cord very good. mounts on wall with no problem. is literally flat and it\\'s long as it says!! good price and perfect for what i needed them for. i wanted the gap between my tv stand and wall to be smaller and it worked perfectly. can one call an extension cord sexy? it looks great. just as advertised - good cord, flat plus and sturdy. exactly what i needed. never had a power surge to tell you if it protected my stuff though. but it has no issues yet. bought two, both work as they should. great length great cord!! just the right length i love the flat plug, the cord is well-made, and works great. i\\'m glad i bought it. the electric outlets are blocked by my bed, however, since this extension cord has a flat plug it works out perfectly. for such use-case, i can recommend it wholeheartedly very high quality product. it saved the plug in problem i had in my room. 100% would recommend good extension this works great for my hair tools. came with only two of the three outlets working. annoyed, but not enough to send it back. not worth the effort. i\\'m very satisfied with this product. it fits and adapts to my current hand held shower and does an excellent job!! solid feeling and does the job. i barely bought this cord a couple days ago. and it does not work anymore!!! i thought it would work. worthless. works great jam up; no complaints. i bought because of the length and retro style. :):. a classy cord, if you care about that sort of thing... :) perfect for behind the headboard good surge, recommend it. this is the best extension cord i have ever owned..will never buy another. can already tell it\\'ll last a long long time. very good product works as intended. i just wish that it was a bit longer and had more outlets. high quality. looks nice compared to most extension cords. great price. one of the 3 outlets doesnt work after only 2 months. i would not recommend getting this overpriced piece of trash. works for my needs great looks stylish and does what it\\'s supposed to. exactly what i needed. durable, low profile, fat length. 10 stars works great use it every day none good best extension cord i\\'ve ever bought. thick, durable, lengthy great functional and nice appearance. :) it has a solid build. easy to use and serves its purpose. i mean come on its an extension cord. not much needs to be said. perfect as expected love this!!!! loved it so much, i bought more! very convenient and sturdy love it saved the day in the mad rush to work from home. good extension cord with flat plug . good for college dorm room. can you be in love with a cord? ....just me? well, anyway, y\\'all just buy this little baby. lengthy, sturdy, efficient... very useful for plugs which are behind furniture. good quality. totally recommend it has a solid build. easy to use and serves its purpose. i mean come on its an extension cord. not much needs to be said. perfect as expected love this!!!! loved it so much, i bought more! very convenient and sturdy love it saved the day in the mad rush to work from home. good extension cord with flat plug . good for college dorm room. can you be in love with a cord? ....just me? well, anyway, y\\'all just buy this little baby. lengthy, sturdy, efficient... very useful for plugs which are behind furniture. good quality. totally recommend don\\'t know what more you can expect out of an extension cord. does/is what it claims good quality for the price, very sturdy everything i hoped it would be the extension cord works great. great cord. will buy again. well made and heavy duty works great looks great muy buen producto. nicely made extension cord - much better quality and appearance than the generic cords usually used. i\\'ve liked them so much, this is the 4th one i\\'ve purchased. well needed and useful great item, just as expected. it works and it durable i ahve stepped on it a billion times and its still intact. this helps when you have a setup with many consoles love that it has a flexible cord and its white! matches the trim that it runs along to the outlet. great quality product. perfect, durable works just like you would expect an extension cord to lol no complaints here other than it gets dirty pretty easily. ok great sturdy cord. item as described seems like good build quality. i would have given this a 5 star except it doesn\\'t have an on/off switch awesome cord well made and stylish high quality. durable extension 8ft cable is a plus. works as advertises. i got two and wish i had gotten more. great length. love that the cord is a rope. great design works well. i havent bought an extension cord in a while. this was def worth it. seems much safer than the ones that i am used to purchasing. exactly what i needed, worth 10.74 i paid. prices have been going up after i buy something. if you think you need 2 get it. item as described seems like good build quality. i would have given this a 5 star except it doesn\\'t have an on/off switch awesome cord well made and stylish high quality. durable extension 8ft cable is a plus. works as advertises. i got two and wish i had gotten more. great length. love that the cord is a rope. great design works well. i havent bought an extension cord in a while. this was def worth it. seems much safer than the ones that i am used to purchasing. exactly what i needed, worth 10.74 i paid. prices have been going up after i buy something. if you think you need 2 get it. i like it perfect for behind my daughters bunk bed! and its strong and durable, plus i\\'m very happy about the lifetime warranty (even though i guarantee i wont need it) love the covering and the flat plug. great behind furniture. needed a flat end extension cord for under the sofa....perfect fit. i loved these. i wanted to buy the shinola extension cords but they are super expensive. these are a nice affordable option for a more subdued yet stylish look. this extension cord looks great in my room and is slim enough plugin that i can have my nightstand pushed against the wall. i have had two already stop working and both of them only lasted a week from first use. love the flat plug head. great for hard to reach areas. good product, good quality, the cord looks nice. recommended! super high quality unit best extension cord i ever bought excelente works great and looks great these are supper nice, really glad i bought them. as advertised we needed a pretty long and flexible extension cord to go around our couch and power up a lamp and charging station. this cord does a good job doing that. just what we needed ! exactly as advertised. working great for behind a dresser. i really like the braided cord. best extension cord i had never been more excited about an extension cord. the outlets are snug, and cords do not fall out as often is the case with other cheap extension cords. quality feels and looks great, love the braided cord.  4/5 stars because when shaken, it rattles like there is a piece loose inside - it is still fully functional, but this is annoying. very flexible and easy to work with in difficult areas. perfect flat cord to run behind the couch so far so good 5 weeks later this looks nice and the cord is great. actually nicer than i even expected. great quality product. perfect for the contemporary home work as intended heavy duty and great quality i was looking for a power strip with 3 prongs. this one is great. love the design works fine so far. love the soft cord! bought it for work,looks nicer than regular wire. fits flat against the wall and is very long looks nice in the room very happy. very happy with it worked exactly as i needed it does the job and looks great. it is a good quality. perfect i like it\\'s just an extension cord... a beautiful one! no complaints. works perfectly the cable is very sturdy and the covering makes it easy to move around without tangling. a very handy little extension cord beautiful high quality looking cord, work as expected. but i don\\'t like this braided cable, because it\\'s too heavy, so it\\'s easy to fall off the desk. this is not what i would like to have. if you are into extension cord aesthetics, this is beautiful. my second time purchasing one of these. they still work great and look nice. a reliable power cord. it works great good quality good length and an actual extension cord that looks good plugged it in the first time and a fuse blew. then the second time the end part where you plug cords into completely blew up and smelled like fire and blew the fuse again. shorter than it says much nicer and better quality than i expected works great. cord is nice and flexible! solidly made, very flexible cord, doesnt tangle. i tossed my old extension cords when i got this. works great it feels very well made, nice looking as well with the braided cord. i just wich the plug went straight down instead of at 45 to the right(south east if it was a compass), because i need it to go to the left. still works for me, it\\'s just bent a little weird. used behind a sectional to reach the end table and everything works perfectly. plugged in, ran the cord, and forget about it. great, solid product. nice customer follow-ups. would highly recommend product and would buy from this vendor again! it doesn\\'t work. tried multiple plugs that all work fine. received a dud for sure. great quality! attractive cloth cord and the flat plug is the best idea ever. love this great cord for my office, nice thick wiring. great we needed a higher quality extension cord. this was exactly what we needed. very nice extension cord, strong material well built, i wish it had one more plug :p nice product. just a little bit better than the standard utilitarian stuff. good product, works as expected. very nice and works great! fantastic quality and even better price. the cord material is great and very durable. works as expected. quality met my expectations for an extension cord. not sure about durability, since i have had it only a short time. only one word, that is good. very nice quality very nice like the design and length very well made and exactly as described its ok. outlets face towards the wall when plugged in so its hard to maneuver the cable. very flexible though and no problems with breaking. we love the tough fabric as opposed to plastic. works great! great product at a good price. i\\'ve purchased 2 and will order more when needed. exactly as advertised, fast shipping, thanks! nice construction. lays flat and easy to put behind furniture. bought this for my girlfriend and she loved it nice product and the price is great! nice nice cord great price. great power cord i no longer trip over the plug. we love the tough fabric as opposed to plastic. works great! great product at a good price. i\\'ve purchased 2 and will order more when needed. exactly as advertised, fast shipping, thanks! nice construction. lays flat and easy to put behind furniture. bought this for my girlfriend and she loved it nice product and the price is great! nice nice cord great price. great power cord i no longer trip over the plug. perfect for my computer fits mac computer cords perfectly i recommend this product. was as described. quality looks good. i have used it for three weeks now. so far, so good. could be a bit longer great feeling materials, low profile plug. pretty good! ihad it for a month and it stop working. great value! can be hidden out of sight! does just what you expect perfect for my computer fits mac computer cords perfectly i recommend this product. was as described. quality looks good. i have used it for three weeks now. so far, so good. could be a bit longer great feeling materials, low profile plug. pretty good! ihad it for a month and it stop working. great value! can be hidden out of sight! does just what you expect stable, edficient, plab on ordering more looks and works great. would buy again. thank you long its an extension cord. great extension cord for the price. very satisfied. good job nice sturdy cable very sturdy and well built product perfect to hide when hanging tv on wall stable, edficient, plab on ordering more looks and works great. would buy again. thank you long its an extension cord. great extension cord for the price. very satisfied. good job nice sturdy cable very sturdy and well built product perfect to hide when hanging tv on wall need more length great product. great quality and visual appearance just took it out of the box and it doesnt work at all. of course return window already passed. well-made and works great! nice quality the product is in good shape only the length of cord is not same as mentioned in product details. works great .  thank you cord was shorter than demonstrated. very good quality!! good product loved it it blew out (shot sparks) after we moved it from one outlet to another. its totally burned out now. accomplished everything i needed with this cord! cord is pretty strong. overall 8/10  the braided cable is strong yet flexible. the flat plug is convenient and doesn\\'t get in the way of other plugs. using for a patio extension. works great and isn\\'t ugly. cool cord good value - good product convenient worth the price. beautiful and functional. easy to use, sturdy, and i like that the plug is flat against the wall! short very good and quality product this is awesome! highly recommended. this is a great extension cord which i use in my living room for my printer and fax! great buy. i like that the plug is flat to the wall so no more knocking it out if something knocks up against it. nice good quality cord great angled cord, low profile. nice look. exactly what i wanted. bought because it looked nicer than other extension cords, and it is a good quality. great purchase. nice quality and i have had zero problems. great for the price since some extension cords were every expensive! works good great will probably get another. it hasn\\'t blown out yet. like the braided cord. perfect for behind the tv. works fine its very nice and works very well!! fulfills its purpose use for work to charge phones when they die. just what i expected. the surge protection made a difference for me since i use it for my flat tv in fl where we have a lot of lighting. fair it quits working after a few months. dont buy it. i really like this. too new to comment on durability. it is very sturdy, fashionable, and great. i can have my phone and laptop charging as well as my essential oil diffuser going. love this cord! well made and good function love it does what it says i really like the design great product. i like the design. good product this is only for travel within the us, not for overseas with 220 volts! this thing is awesome! works well and isnt to bulky! very happy with this purchase. good quality product, have been using it for 6 months and no problem yet... i like the build. seems to work fine very nicely made, the cord is woven which makes it very pliable. lays against the wall nice. simple, love the angle plug great extension cord good product this is only for travel within the us, not for overseas with 220 volts! this thing is awesome! works well and isnt to bulky! very happy with this purchase. good quality product, have been using it for 6 months and no problem yet... i like the build. seems to work fine very nicely made, the cord is woven which makes it very pliable. lays against the wall nice. simple, love the angle plug great extension cord great quality at a great price.  looks good. hasn\\'t burnt the house does. what more could i want? great design and quality gets the job done and is sturdy basic, but works cord is good quality strong extension cord and nice looking cable. i use it in the office. i like the length and quality of product perfect! excellent this is a good quality, sturdy braided extension cord. pleasantly surprised. great price, and exactly what i needed. fits all my needs. great for bedside. great but measure your space before ordering small and comes in handy. i use it while in college great sadly i had to return it since it stopped working in less than a month. works perfectly for what i need excellent quality! very useful. will purchase again. excellent this is a good quality, sturdy braided extension cord. pleasantly surprised. great price, and exactly what i needed. fits all my needs. great for bedside. great but measure your space before ordering small and comes in handy. i use it while in college great sadly i had to return it since it stopped working in less than a month. works perfectly for what i need excellent quality! very useful. will purchase again. came exactly as described and does the job, thanks! durable perfect for tight spaces as pictured i don\\'t know what to say about this extension cord other than: it works. no problems with it. i couldnt ask for anything better! goes great with a tight room and it does its job. great length and durable! would highly recommend if you are looking for affordable extension cords. nice length. cute extension cord - who know they didn\\'t have to be ugly!? really loved this! the material is very sturdy and able to take with me when i travel. awesome quality and sleek design. worked as expected. useful in myn office for all the devices. i love this. clearly well made. very strong, and just the right amount of plug ins for what i need. i highly recommend it! excellent perfect fit for what we needed. actually is decent looking and seems pretty robust. very cute and useful for my daughters room. works good. i\\'m not a fan of that it\\'s angled in on direction but it works well. worth it the rope cord is very nice. it is thicker than it appears in the photo. the plug is how all plugs should be. good buy works great all ok .. thx whenever i travel i bring this extension cord. its durable, reliable and a great value for the price. awesome! use it everyday. deff worth it quality nicely made extension cord in a compact form. works great i dont buy many extension cords but this has to be the nicest one ive ever owned. totally didn\\'t realize the cord is cotton ????? excellent  great extension cord i love this very much awesome cord!! great quality, only thing i don\\'t \"like\" is the orientation of the wall plug. i get that it helps save space but i got to get used to it. otherwise fantastic product so far! great quality bought this as a second, first one is holding up really nice even after extensive bending perfect length and very high quality for the price it definitely does what it says on the tin. good length and good cover with nice thread somehow needs to get better at actually sealing padded envelopes. ours arrived empty just now. :| durable great extension cord i love this very much awesome cord!! great quality, only thing i don\\'t \"like\" is the orientation of the wall plug. i get that it helps save space but i got to get used to it. otherwise fantastic product so far! great quality bought this as a second, first one is holding up really nice even after extensive bending perfect length and very high quality for the price it definitely does what it says on the tin. good length and good cover with nice thread somehow needs to get better at actually sealing padded envelopes. ours arrived empty just now. :| durable great extension cord. very satisfied with purchase easy to work with.. 5 stars.. awesome great cord. using it in the wall for my tv. love great product for the price. it seems to be very durable and would buy again.  works great, flexible cord but high quality good fulfill all my needs for an outlet. love the long and flexible cord, also the flat plug. great length for what i needed. sturdy and gets the job done office needed more outlets. looks classy not cheap. works just fine. very smooth cable works perfectly it\\'s great! just as described. nice cord length looks nice and i think it will last long. i appreciate the flat plug. really nice cord- love that its wrapped in fabric instead of plastic. does the job. exactly as described and exactly how it looked! excellent good price, and it\\'s exactly what i needed. good what else is there to say?! this extension cord is perfect. even if you don\\'t think you need an extension cord but have a couch or night table right in front of an outlet, get this one. before, i couldn\\'t plug my lamp into the outlet behind the couch because if i did i couldn\\'t push the couch all the way back (and it\\'s a sectional, so i needed to push it so it lined up). with this lay flat extension cord i am able to plug it in and push the couch back all the way. i am not sure if that makes sense, but these type of extension cord are perfect for that! perfect size and length to reach behind my tv and plug in my firestick and chromecast. it is very good quality product, specifically you are looking for living room, or other places that should look nice. comes in very handy because of the flat end. great to use behind furniture against the wall covering an outlet. my friend and roommate naomi lovee this product. really good extension cord! exactly as expected excellent quality from a name you can trust. better than i expected! will definitely buy more. great item- we love it. simple and serves its purpose. delivery was fast, arrived earlier than expected, product as expected i like that it has a flat top. makes it easy to conceal. works great. a++ great quality! comes in handy as diapers on a snowy day good product just what i needed! they do the job very well. it works so well and lasts! very good just fine i use it for my dorm. it works perfect. i love ththe flat face plug. great product. cord is sturdy. i would buy this again. durable and light extension cord. nice simple nice looking cord i like the 3 prong good quality item flat connector fits perfectly. nice quality. it do what it do never bought a designer cord before. sturdy cable, plenty of length, plug fits snugly into wall socket and holds plugs firmly. works great the braided cord is very aesthetically for the pleasing, and the outlet otherwise works perfectly as described. awesome i needed a plug to use in the floor under my sofa. this plug and cord is just what i wanted and it works very well. very durable. i bought four! i didnt like that when i plugged in my charger it was super lose. way better than those at retails. great cord, great look, great outlet size this works just as i wanted fits nice behind the couch and i have plugs available with out moving the couch and i have can have it flush to the wall now we can sit on the couch and connect a laptop with this extension. great product. better than other high rank cords. these work so well. very flexible cord and the flat service for plugging into wall works great. its a steal. i would order one more. so far so good. works fine. product is as described, thick, sturdy material these things are awesome. well worth the money. that chord is thick. worth it. exactly what i was looking for! ok nice extension cord id recommend works great and does the job exactly what you\\'d expect, very nice high quality cord! sturdy, not flimsy. 3 outlets and ground plug for safety. good quality cord extension i\\'ve had this outlet for a while now. it works awesome!. love it did what is was suppose to good amazing quality perfect! higher quality and smaller than an average extension cord! perfect! very good quality, sturdy and works great. the construction of this item is amazing, feels like its worth twice what i paid for. the cord is very sturdy and not plastic. i liked the flexibility! i used this product to plug in string lights on my patio. looks great and was just what i needed. perfect for xmas tree lights very sturdy and thick threading. not super stiff but stiff enough to withstand damage over time. very pleased with this product. works great works perfectly in my daughters dorm room. great product\\' perfect lays on floor and hides behind tv nice. no bulky mess very flexible and and material seems to be resistant liked the flexible, clean looking cord nice cord. good length. happy with the product. great extension cord! great length definitely plan on ordering more excellent. looks very nice for a cord does the job, thumbs up. works as expected - its and extension cord with surge protection. absolutely phenomenal product. love the braided cable and low profile plug. does exactly as intended but i purchased this product specifically because it said it was wall mountable which meant i assumed there would be a screw hole or clear way to mount. not the case at all. the only way to mount it was to purchased velcro and attach it to the wall that way. i would have chosen another product had this item been described accurately. this works great! the cord is long and thick. great buy! sturdy and does the job. great cord....definitely recommend this cord clutch design and does the job! nice cord length decent and affordable good product generally a good product, flat plug save space. good product this is a very good extension cord save the space! 10/10 very nice great product. perfect for extending phone or computer cord with surge protection. good buy nice great basic cord nice quality. great length. best for the cost this product was simply the right tool at the right price. a very good product works perfectly and is well made. awesome cord. fast delivery great! best cord out there. love it! came just as described the extension cord is really good i just wish that there wasnt a small broken piece removed in the actual product box. good product great for when i needed it the most!!!!!! bought two units. one is fine while the other has two (2) missing screws that go on the back of the housing. required is four (2). but only has 2 screws. this product is perfect. doesnt get tangled at all. very satisfied product exceeded my expectations. wish i needed more of them great buy!!! i like the flexibility of the product great extension and durability worth it perfect! nice and sturdy! works perfectly worked until it blew out my power in my apartment. plugged it in then it sparked up. nice plug, nice cord, nice outlets, does not have mounting holes excellent product. works perfectly. it would be a 5/5 if it had more than 3 outlets and was able to click the surge. i like the flexibility of the product great extension and durability worth it perfect! nice and sturdy! works perfectly worked until it blew out my power in my apartment. plugged it in then it sparked up. nice plug, nice cord, nice outlets, does not have mounting holes excellent product. works perfectly. it would be a 5/5 if it had more than 3 outlets and was able to click the surge. beautiful high quality looking cord, but the warning label about carcinogens led us to return it. my partner was worried about our cat consuming carcinogens. as promised! this product likes to try and catch fire. i have to unplug it after i unplug my charger to keep it from going up. i do not currently have the money to buy a new extension cord. unfortunately, this cord is such a light grey, that it appears to be white. the correct is nice and flexible. don\\'t buy this cord. it has a toxic chemical\\'s warning on the box--not shown on the site\\'s description. there are many safer alternatives, i.e., rohs (reduction of hazardous substances) compliant cords. no reason that manufacturers can\\'t use less (of) toxic substances in these products. look for rohs on these--and other--products. we bought this cord over 2 years ago, it lasts. it was initially used for video presentations, projector, 2 pc\\'s plugged in. even though it\\'s white, it doesn\\'t attract too much dust and dirt. even with 3 items plugged in, it never gets too warm. cord quality seems good but you cant fit 3 plugs into it at once. i wanted to plug a usb charger, macbook plug, and. monitor plug in, and only two will fit. the spacing is too tight, which is very stupid. it seems like this is meant to have a 3-2-3 plugs in it.  returning one of the best extension cords ive purchased! its durable and made to last. this has been a great addition and as it is stylish and i have not had any heat problems. there are times i plug an electric fan and a hair dryer at sae time and no shut off issue so far. i also bought this due to its flat layout when plugging on to the wall, and of course it is braided. great quality, i love them so much i bought two of them. love the feature that the outlet is not sticking out horizontal, so it is perfect for outlets that are behind furniture this does what it needs to do. flat plug design is a plus. i did not care about the fancy braided cord style as this is just an extension cord that i am trying to hide not display. a reliable product from a reliable company/brand. right size, right length. i plan to buy more. it is what it says it is. i like that the cord is so long and that it looks better than just a regular extension cord. this power strip seems to be well made and sturdy. it\\'s nice that is has a power filter and surge protection that will shut down power to any connected devices when the protection expires. one of the best things is that it doesn\\'t have any indicator lights on it. i am using this in a bedroom, so the lack of any annoying light that would disturb nighttime sleep is a real plus. received this product without having ordered it. i fear it is a brushing scam and my info has been compromised. brushing scams are well individuals order their own products and ship to random addresses so that they can leave a 5-atar review. probably a good product though, since it\\'s ge? reasons not a 5. cord feels more like cloth. it\\'s super long does not have a on/off button. but other then that it great. blends in well and the usb ports are a bonus! it fulfills it\\'s purpose. the overall quality of this product has been great so far and i would recommend it! ok good quality extension cord... i used mine in the office at wor to charge my phone with out taking up any computer usb ports. i really like how flexible the cord is and the low profile plug. love it have ordered 2 of these now and they work great. love the cord and colors great item, great price. **does not work with most outlet safety covers or generic wire raceways due to the thickness.** exactly as described this cord is great! the quality is fantastic and what i like most is that it doesn\\'t look like the typical, industrial cords you get at big box stores. great value! great quality and arrived in perfect condition; exactly as expected. the cord is super durable - currently have this running across a door way so i do step on it from time to time and its soft under my feet and its lasting pretty well. (its on the floor since my walls are concrete and i didnt feel like dealing with trying to wrap it against the wall). the flush plug is nice too. as others have mentioned, this extension cord isn\\'t actually made by ge, but maybe that\\'s a good thing. it\\'s very well made, and the fit and finish is superb. and like all good extension cords, it does exactly what it\\'s supposed to. for an around-the-house extension cord, i can\\'t really imagine a way to improve on this. i bought this so i could place my deep fryer on the table to use more safely than a counter top.  its way more sturdy than even i expected. i like the small plug for the wall also. it is exactly what i wanted, which was an extension cord of this length, in a white color so it doesn\\'t stand out too much and with a flat plug to help keep the cord close to the wall - this cord fit all of these requirements well. great quality with flat plug and braided cord. glad i got this instead of the cheap generic one at the drugstore. works with my brother printer. the cord is connected to the plug on the right side which is not an issue for me. this is beautiful and very long which is why i got it, but why not 4-5 plugs? i didn\\'t think i would find it frustrating, but it is a little annoying. very efficient design. because of the plugs shape you can fit it behind a bed or dresser. this made one outlet that used to be completely useless into a three outlet extension cord that\\'s easily accessible. made my life 20x easier for charging my phone, laptop, and table lamp. this came much nicer than we thought it would be; very beefy cord and plug end. very good construction; can\\'t imagine how i could come up with a complaint. it does its job not really much to say besides that. it feels great in the hands. it\\'s pricey but it\\'s brand name so i trust it. very strong material, the cord is thick and covered with nice material. great purchase. sturdy and nice. just what i needed. design, cord length and all. very happy. love that this has a flexible cord. using it in awkward places is easy!! very handy and the cord is nice so.it.wouldnt bend much or wreck the cable needed this in a pinch, gets the job done! its very thick, but not bad! the cord length is the perfect size and its so useful. definitely worth the money and one of the best extension cords ive used! a hassle free extension cord good quality, works well. great value for money and easy to install perfect to plug in near bed more plug in just what i needed for my dorm room great product i used this behind my tv as expected the cord is super long and perfect for connecting my monitor and light. i wish it was more flexible though because it was really hard to maneuver it behind my table nice good god great product!! high quality cable and looks durable.'"
            ]
          },
          "metadata": {
            "tags": []
          },
          "execution_count": 4
        }
      ]
    },
    {
      "cell_type": "code",
      "metadata": {
        "colab": {
          "base_uri": "https://localhost:8080/"
        },
        "id": "KCefS0QKmp0J",
        "outputId": "7b3dd3e9-76b0-4d45-9241-5887d51ff471"
      },
      "source": [
        "sentences= sent_tokenize(review_comments)\n",
        "print( len(sentences))\n",
        "sentences[:5]"
      ],
      "execution_count": 5,
      "outputs": [
        {
          "output_type": "stream",
          "text": [
            "2212\n"
          ],
          "name": "stdout"
        },
        {
          "output_type": "execute_result",
          "data": {
            "text/plain": [
              "[' now now now these are some awesome power cords.',\n",
              " 'upon opening the package and feeling the build quality of these you know they are built to last.',\n",
              " '1600+ watts mean even a fridge would do nothing to these.',\n",
              " '13 amps can pass through these and a fridge can use 3-6 amps!',\n",
              " 'the cable is flexible but has stiffness.']"
            ]
          },
          "metadata": {
            "tags": []
          },
          "execution_count": 5
        }
      ]
    },
    {
      "cell_type": "code",
      "metadata": {
        "id": "n3QHrlAaqGi3"
      },
      "source": [
        "import string\n",
        "def remove_punctuations(text):\n",
        "  regex = re.compile('[' + re.escape(string.punctuation) + '\\\\r\\\\t\\\\n]')\n",
        "  nopunctuated_text = regex.sub(\" \", str(text))\n",
        "  return nopunctuated_text"
      ],
      "execution_count": 6,
      "outputs": []
    },
    {
      "cell_type": "code",
      "metadata": {
        "id": "QSAKFk8m9bwz"
      },
      "source": [
        "# nltk.pos_tag(word_tokenize(sample_review))\n",
        "# acceptable_tag_combos= [('JJ', 'NN'), ('JJ'), ('NN', 'IN', 'NN'), ('VBZ', 'JJ'), ('RB', 'RB', 'VBN'), ('RB', 'JJ')]\n",
        "\n",
        "#accepted formats\n",
        "accepted_unigram_combinations=[('JJ')]\n",
        "accpeted_bigram_combinations= [('JJ', 'NN'), ('VBZ', 'JJ'),('RB', 'JJ')]\n",
        "accpeted_trigram_combinations= [('NN', 'IN', 'NN'), ('RB', 'RB', 'VBN')]"
      ],
      "execution_count": 7,
      "outputs": []
    },
    {
      "cell_type": "code",
      "metadata": {
        "colab": {
          "base_uri": "https://localhost:8080/"
        },
        "id": "Vf8MQYTjB0X3",
        "outputId": "78361502-1c43-4b29-a898-f63cd4d3aa1e"
      },
      "source": [
        "#text cleaning\n",
        "cleaned_sentences= [ remove_punctuations(sentence) for sentence in sentences]\n",
        "review_comments_tokens= [word_tokenize(sentence) for sentence in cleaned_sentences]\n",
        "review_comments_tokens= [token for token_list in review_comments_tokens for token in token_list]\n",
        "review_comments_tokens[:5]"
      ],
      "execution_count": 8,
      "outputs": [
        {
          "output_type": "execute_result",
          "data": {
            "text/plain": [
              "['now', 'now', 'now', 'these', 'are']"
            ]
          },
          "metadata": {
            "tags": []
          },
          "execution_count": 8
        }
      ]
    },
    {
      "cell_type": "code",
      "metadata": {
        "id": "f0yxImnNC63o"
      },
      "source": [
        "# bigram creation\n",
        "bigram_finder= nltk.collocations.BigramCollocationFinder.from_words(review_comments_tokens)\n",
        "df_bigram_frequency = pd.DataFrame(bigram_finder.ngram_fd.items(), columns=['keywords','frequency']).sort_values(by='frequency', ascending=False)\n",
        "df_bigram_frequency.reset_index(inplace=True, drop=True)\n",
        "# df_bigram_frequency.head()"
      ],
      "execution_count": 9,
      "outputs": []
    },
    {
      "cell_type": "code",
      "metadata": {
        "id": "ULywmxXiiH7Y",
        "colab": {
          "base_uri": "https://localhost:8080/",
          "height": 352
        },
        "outputId": "f162cc27-a85a-4f38-9bbf-5791eaea2b22"
      },
      "source": [
        "def right_tags_bigrams(bigram):\n",
        "  # first_type = ('JJ', 'JJR', 'JJS', 'NN', 'NNS', 'NNP', 'NNPS')\n",
        "  # second_type = ('NN', 'NNS', 'NNP', 'NNPS')\n",
        "  first_type= ('JJ', 'VBZ', 'RB' )\n",
        "  second_type= ('NN', 'JJ', 'JJ','VB')\n",
        "  tags = nltk.pos_tag(bigram)\n",
        "  if 'i' in bigram or 'much' in bigram or 'is' in bigram:\n",
        "    return False\n",
        "  if tags[0][1] in first_type and tags[1][1] in second_type:\n",
        "    return True\n",
        "  else:\n",
        "    return False\n",
        "df_bigram_frequency['pos_tag']= df_bigram_frequency['keywords'].apply(lambda bigram: right_tags_bigrams(bigram))\n",
        "df_bigram_frequency[df_bigram_frequency['pos_tag']== True][['keywords', 'frequency']][:10]"
      ],
      "execution_count": 11,
      "outputs": [
        {
          "output_type": "execute_result",
          "data": {
            "text/html": [
              "<div>\n",
              "<style scoped>\n",
              "    .dataframe tbody tr th:only-of-type {\n",
              "        vertical-align: middle;\n",
              "    }\n",
              "\n",
              "    .dataframe tbody tr th {\n",
              "        vertical-align: top;\n",
              "    }\n",
              "\n",
              "    .dataframe thead th {\n",
              "        text-align: right;\n",
              "    }\n",
              "</style>\n",
              "<table border=\"1\" class=\"dataframe\">\n",
              "  <thead>\n",
              "    <tr style=\"text-align: right;\">\n",
              "      <th></th>\n",
              "      <th>keywords</th>\n",
              "      <th>frequency</th>\n",
              "    </tr>\n",
              "  </thead>\n",
              "  <tbody>\n",
              "    <tr>\n",
              "      <th>19</th>\n",
              "      <td>(good, quality)</td>\n",
              "      <td>52</td>\n",
              "    </tr>\n",
              "    <tr>\n",
              "      <th>22</th>\n",
              "      <td>(flat, plug)</td>\n",
              "      <td>50</td>\n",
              "    </tr>\n",
              "    <tr>\n",
              "      <th>60</th>\n",
              "      <td>(high, quality)</td>\n",
              "      <td>32</td>\n",
              "    </tr>\n",
              "    <tr>\n",
              "      <th>62</th>\n",
              "      <td>(great, product)</td>\n",
              "      <td>32</td>\n",
              "    </tr>\n",
              "    <tr>\n",
              "      <th>74</th>\n",
              "      <td>(very, nice)</td>\n",
              "      <td>28</td>\n",
              "    </tr>\n",
              "    <tr>\n",
              "      <th>75</th>\n",
              "      <td>(great, extension)</td>\n",
              "      <td>28</td>\n",
              "    </tr>\n",
              "    <tr>\n",
              "      <th>95</th>\n",
              "      <td>(great, quality)</td>\n",
              "      <td>23</td>\n",
              "    </tr>\n",
              "    <tr>\n",
              "      <th>97</th>\n",
              "      <td>(low, profile)</td>\n",
              "      <td>22</td>\n",
              "    </tr>\n",
              "    <tr>\n",
              "      <th>118</th>\n",
              "      <td>(good, product)</td>\n",
              "      <td>20</td>\n",
              "    </tr>\n",
              "    <tr>\n",
              "      <th>138</th>\n",
              "      <td>(looks, great)</td>\n",
              "      <td>18</td>\n",
              "    </tr>\n",
              "  </tbody>\n",
              "</table>\n",
              "</div>"
            ],
            "text/plain": [
              "               keywords  frequency\n",
              "19   (good, quality)     52       \n",
              "22   (flat, plug)        50       \n",
              "60   (high, quality)     32       \n",
              "62   (great, product)    32       \n",
              "74   (very, nice)        28       \n",
              "75   (great, extension)  28       \n",
              "95   (great, quality)    23       \n",
              "97   (low, profile)      22       \n",
              "118  (good, product)     20       \n",
              "138  (looks, great)      18       "
            ]
          },
          "metadata": {
            "tags": []
          },
          "execution_count": 11
        }
      ]
    },
    {
      "cell_type": "code",
      "metadata": {
        "id": "FgX2e_F9hT0c"
      },
      "source": [
        "# trigram creation\n",
        "trigram_finder= nltk.collocations.TrigramCollocationFinder.from_words(review_comments_tokens)\n",
        "df_trigram_frequency = pd.DataFrame(trigram_finder.ngram_fd.items(), columns=['keywords','frequency']).sort_values(by='frequency', ascending=False)\n",
        "df_trigram_frequency.reset_index(inplace=True, drop=True)\n",
        "# df_trigram_frequency.head()"
      ],
      "execution_count": 13,
      "outputs": []
    },
    {
      "cell_type": "code",
      "metadata": {
        "id": "UnRfuPLBhT4p"
      },
      "source": [
        "def right_tags_trigram(trigram):\n",
        "  first_type= ('NN', 'RB','VB', 'JJ')\n",
        "  second_type= ('IN', 'RB', 'DT', 'RB', 'JJ')\n",
        "  third_type= ('NN', 'VBN','NN', 'RB', 'IN')\n",
        "  tags = nltk.pos_tag(trigram)\n",
        "  if 'i' in trigram or 'so' in trigram or 'is' in trigram or 'the' in trigram:\n",
        "    return False\n",
        "  if tags[0][1] in first_type and tags[1][1] in second_type and tags[2][1] in third_type:\n",
        "    return True\n",
        "  else:\n",
        "    return False\n",
        "df_trigram_frequency['pos_tag']= df_trigram_frequency['keywords'].apply(lambda trigram: right_tags_trigram(trigram))\n",
        "# df_trigram_frequency[df_trigram_frequency['pos_tag']== True][:10]"
      ],
      "execution_count": 14,
      "outputs": []
    },
    {
      "cell_type": "code",
      "metadata": {
        "id": "u3IzlTDFc3He"
      },
      "source": [
        "trigrams=df_trigram_frequency[df_trigram_frequency['pos_tag']== True][['keywords', 'frequency']][:10]\n",
        "bigrams=df_bigram_frequency[df_bigram_frequency['pos_tag']== True][['keywords', 'frequency']][:10]\n",
        "keywords= bigrams.append(trigrams).reset_index(drop=True)"
      ],
      "execution_count": 15,
      "outputs": []
    },
    {
      "cell_type": "code",
      "metadata": {
        "colab": {
          "base_uri": "https://localhost:8080/",
          "height": 657
        },
        "id": "zWXpQBCHc3Yu",
        "outputId": "99786a0d-b328-42c2-e509-37242f6ab4ac"
      },
      "source": [
        "keywords"
      ],
      "execution_count": 19,
      "outputs": [
        {
          "output_type": "execute_result",
          "data": {
            "text/html": [
              "<div>\n",
              "<style scoped>\n",
              "    .dataframe tbody tr th:only-of-type {\n",
              "        vertical-align: middle;\n",
              "    }\n",
              "\n",
              "    .dataframe tbody tr th {\n",
              "        vertical-align: top;\n",
              "    }\n",
              "\n",
              "    .dataframe thead th {\n",
              "        text-align: right;\n",
              "    }\n",
              "</style>\n",
              "<table border=\"1\" class=\"dataframe\">\n",
              "  <thead>\n",
              "    <tr style=\"text-align: right;\">\n",
              "      <th></th>\n",
              "      <th>keywords</th>\n",
              "      <th>frequency</th>\n",
              "    </tr>\n",
              "  </thead>\n",
              "  <tbody>\n",
              "    <tr>\n",
              "      <th>0</th>\n",
              "      <td>(good, quality)</td>\n",
              "      <td>52</td>\n",
              "    </tr>\n",
              "    <tr>\n",
              "      <th>1</th>\n",
              "      <td>(flat, plug)</td>\n",
              "      <td>50</td>\n",
              "    </tr>\n",
              "    <tr>\n",
              "      <th>2</th>\n",
              "      <td>(high, quality)</td>\n",
              "      <td>32</td>\n",
              "    </tr>\n",
              "    <tr>\n",
              "      <th>3</th>\n",
              "      <td>(great, product)</td>\n",
              "      <td>32</td>\n",
              "    </tr>\n",
              "    <tr>\n",
              "      <th>4</th>\n",
              "      <td>(very, nice)</td>\n",
              "      <td>28</td>\n",
              "    </tr>\n",
              "    <tr>\n",
              "      <th>5</th>\n",
              "      <td>(great, extension)</td>\n",
              "      <td>28</td>\n",
              "    </tr>\n",
              "    <tr>\n",
              "      <th>6</th>\n",
              "      <td>(great, quality)</td>\n",
              "      <td>23</td>\n",
              "    </tr>\n",
              "    <tr>\n",
              "      <th>7</th>\n",
              "      <td>(low, profile)</td>\n",
              "      <td>22</td>\n",
              "    </tr>\n",
              "    <tr>\n",
              "      <th>8</th>\n",
              "      <td>(good, product)</td>\n",
              "      <td>20</td>\n",
              "    </tr>\n",
              "    <tr>\n",
              "      <th>9</th>\n",
              "      <td>(looks, great)</td>\n",
              "      <td>18</td>\n",
              "    </tr>\n",
              "    <tr>\n",
              "      <th>10</th>\n",
              "      <td>(very, happy, with)</td>\n",
              "      <td>9</td>\n",
              "    </tr>\n",
              "    <tr>\n",
              "      <th>11</th>\n",
              "      <td>(cord, with, surge)</td>\n",
              "      <td>7</td>\n",
              "    </tr>\n",
              "    <tr>\n",
              "      <th>12</th>\n",
              "      <td>(very, good, quality)</td>\n",
              "      <td>6</td>\n",
              "    </tr>\n",
              "    <tr>\n",
              "      <th>13</th>\n",
              "      <td>(very, high, quality)</td>\n",
              "      <td>6</td>\n",
              "    </tr>\n",
              "    <tr>\n",
              "      <th>14</th>\n",
              "      <td>(exactly, as, described)</td>\n",
              "      <td>6</td>\n",
              "    </tr>\n",
              "    <tr>\n",
              "      <th>15</th>\n",
              "      <td>(nice, high, quality)</td>\n",
              "      <td>5</td>\n",
              "    </tr>\n",
              "    <tr>\n",
              "      <th>16</th>\n",
              "      <td>(product, great, extension)</td>\n",
              "      <td>5</td>\n",
              "    </tr>\n",
              "    <tr>\n",
              "      <th>17</th>\n",
              "      <td>(really, nice, extension)</td>\n",
              "      <td>4</td>\n",
              "    </tr>\n",
              "    <tr>\n",
              "      <th>18</th>\n",
              "      <td>(s, an, extension)</td>\n",
              "      <td>4</td>\n",
              "    </tr>\n",
              "    <tr>\n",
              "      <th>19</th>\n",
              "      <td>(great, this, extension)</td>\n",
              "      <td>4</td>\n",
              "    </tr>\n",
              "  </tbody>\n",
              "</table>\n",
              "</div>"
            ],
            "text/plain": [
              "                       keywords  frequency\n",
              "0   (good, quality)              52       \n",
              "1   (flat, plug)                 50       \n",
              "2   (high, quality)              32       \n",
              "3   (great, product)             32       \n",
              "4   (very, nice)                 28       \n",
              "5   (great, extension)           28       \n",
              "6   (great, quality)             23       \n",
              "7   (low, profile)               22       \n",
              "8   (good, product)              20       \n",
              "9   (looks, great)               18       \n",
              "10  (very, happy, with)          9        \n",
              "11  (cord, with, surge)          7        \n",
              "12  (very, good, quality)        6        \n",
              "13  (very, high, quality)        6        \n",
              "14  (exactly, as, described)     6        \n",
              "15  (nice, high, quality)        5        \n",
              "16  (product, great, extension)  5        \n",
              "17  (really, nice, extension)    4        \n",
              "18  (s, an, extension)           4        \n",
              "19  (great, this, extension)     4        "
            ]
          },
          "metadata": {
            "tags": []
          },
          "execution_count": 19
        }
      ]
    },
    {
      "cell_type": "code",
      "metadata": {
        "id": "jimnj_u0c3dz"
      },
      "source": [
        ""
      ],
      "execution_count": null,
      "outputs": []
    },
    {
      "cell_type": "code",
      "metadata": {
        "id": "5NETE5Xac3jH"
      },
      "source": [
        ""
      ],
      "execution_count": null,
      "outputs": []
    },
    {
      "cell_type": "code",
      "metadata": {
        "id": "JtoYgg2pc3md"
      },
      "source": [
        ""
      ],
      "execution_count": null,
      "outputs": []
    },
    {
      "cell_type": "code",
      "metadata": {
        "id": "HwpN_1CPc3t_"
      },
      "source": [
        ""
      ],
      "execution_count": null,
      "outputs": []
    },
    {
      "cell_type": "code",
      "metadata": {
        "id": "B2zua18Yc3xT"
      },
      "source": [
        ""
      ],
      "execution_count": null,
      "outputs": []
    },
    {
      "cell_type": "code",
      "metadata": {
        "id": "3pv1EI3Gc345"
      },
      "source": [
        ""
      ],
      "execution_count": null,
      "outputs": []
    },
    {
      "cell_type": "code",
      "metadata": {
        "id": "fVb9IwBmc38h"
      },
      "source": [
        ""
      ],
      "execution_count": null,
      "outputs": []
    },
    {
      "cell_type": "code",
      "metadata": {
        "id": "G2aRHqRJc4CR"
      },
      "source": [
        ""
      ],
      "execution_count": null,
      "outputs": []
    },
    {
      "cell_type": "code",
      "metadata": {
        "id": "4gS6ozmyc4Hs"
      },
      "source": [
        ""
      ],
      "execution_count": null,
      "outputs": []
    },
    {
      "cell_type": "code",
      "metadata": {
        "id": "NK0zVsafc4NN"
      },
      "source": [
        ""
      ],
      "execution_count": null,
      "outputs": []
    },
    {
      "cell_type": "code",
      "metadata": {
        "id": "l-9Va6utc4Uv"
      },
      "source": [
        ""
      ],
      "execution_count": null,
      "outputs": []
    },
    {
      "cell_type": "code",
      "metadata": {
        "id": "o806YnRVc4cI"
      },
      "source": [
        ""
      ],
      "execution_count": null,
      "outputs": []
    },
    {
      "cell_type": "code",
      "metadata": {
        "id": "ovruxMf6c4jE"
      },
      "source": [
        ""
      ],
      "execution_count": null,
      "outputs": []
    },
    {
      "cell_type": "code",
      "metadata": {
        "id": "26PdCvSqc4qQ"
      },
      "source": [
        ""
      ],
      "execution_count": null,
      "outputs": []
    },
    {
      "cell_type": "code",
      "metadata": {
        "id": "FR1RW1_Tc4xL"
      },
      "source": [
        ""
      ],
      "execution_count": null,
      "outputs": []
    },
    {
      "cell_type": "code",
      "metadata": {
        "id": "81kPF3yDc44c"
      },
      "source": [
        ""
      ],
      "execution_count": null,
      "outputs": []
    },
    {
      "cell_type": "code",
      "metadata": {
        "id": "2dZvpopwhUFn"
      },
      "source": [
        "bigrams = nltk.collocations.BigramAssocMeasures()\n",
        "bigram_likelihood_ratio = pd.DataFrame(list(bigram_finder.score_ngrams(bigrams.likelihood_ratio)), columns=['bigram','likelihood ratio']).sort_values(by='likelihood ratio', ascending=False)\n",
        "bigram_likelihood_ratio[:10]"
      ],
      "execution_count": null,
      "outputs": []
    },
    {
      "cell_type": "code",
      "metadata": {
        "id": "TXplPVRQs9jO"
      },
      "source": [
        "def right_tags(bigram):\n",
        "  # first_type = ('JJ', 'JJR', 'JJS', 'NN', 'NNS', 'NNP', 'NNPS')\n",
        "  # second_type = ('NN', 'NNS', 'NNP', 'NNPS')\n",
        "  first_type= ('JJ', 'VBZ', 'RB')\n",
        "  second_type= ('NN', 'JJ', 'JJ')\n",
        "  tags = nltk.pos_tag(bigram)\n",
        "  if tags[0][1] in first_type and tags[1][1] in second_type:\n",
        "    return True\n",
        "  else:\n",
        "    return False\n",
        "filtered_likelihood_for_bigram = bigram_likelihood_ratio[bigram_likelihood_ratio.bigram.map(lambda x: right_tags(x))]\n",
        "filtered_likelihood_for_bigram[:10]"
      ],
      "execution_count": null,
      "outputs": []
    },
    {
      "cell_type": "code",
      "metadata": {
        "id": "0cQ198oLs9oQ"
      },
      "source": [
        "trigrams = nltk.collocations.TrigramAssocMeasures()\n",
        "trigram_likelihood_ratio = pd.DataFrame(list(trigram_finder.score_ngrams(trigrams.likelihood_ratio)), columns=['trigram','likelihood ratio']).sort_values(by='likelihood ratio', ascending=False)\n",
        "trigram_likelihood_ratio[:10]"
      ],
      "execution_count": null,
      "outputs": []
    },
    {
      "cell_type": "code",
      "metadata": {
        "colab": {
          "base_uri": "https://localhost:8080/",
          "height": 352
        },
        "id": "PozvKAx8hUIP",
        "outputId": "adffce46-37d0-4499-fecc-96f6c251d579"
      },
      "source": [
        "def right_tags_trigram(trigram):\n",
        "  first_type= ('NN', 'RB')\n",
        "  second_type= ('IN', 'RB')\n",
        "  third_type= ('NN', 'VBN')\n",
        "  tags = nltk.pos_tag(trigram)\n",
        "  if tags[0][1] in first_type and tags[1][1] in second_type and tags[2][1] in third_type:\n",
        "    return True\n",
        "  else:\n",
        "    return False\n",
        "filtered_likelihood_for_trigram = trigram_likelihood_ratio[trigram_likelihood_ratio.trigram.map(lambda x: right_tags_trigram(x))]\n",
        "filtered_likelihood_for_trigram[:10]"
      ],
      "execution_count": null,
      "outputs": [
        {
          "output_type": "execute_result",
          "data": {
            "text/html": [
              "<div>\n",
              "<style scoped>\n",
              "    .dataframe tbody tr th:only-of-type {\n",
              "        vertical-align: middle;\n",
              "    }\n",
              "\n",
              "    .dataframe tbody tr th {\n",
              "        vertical-align: top;\n",
              "    }\n",
              "\n",
              "    .dataframe thead th {\n",
              "        text-align: right;\n",
              "    }\n",
              "</style>\n",
              "<table border=\"1\" class=\"dataframe\">\n",
              "  <thead>\n",
              "    <tr style=\"text-align: right;\">\n",
              "      <th></th>\n",
              "      <th>trigram</th>\n",
              "      <th>likelihood ratio</th>\n",
              "    </tr>\n",
              "  </thead>\n",
              "  <tbody>\n",
              "    <tr>\n",
              "      <th>878</th>\n",
              "      <td>(waste, of, money)</td>\n",
              "      <td>794.970356</td>\n",
              "    </tr>\n",
              "    <tr>\n",
              "      <th>924</th>\n",
              "      <td>(pot, of, coffee)</td>\n",
              "      <td>770.743873</td>\n",
              "    </tr>\n",
              "    <tr>\n",
              "      <th>1066</th>\n",
              "      <td>(cup, of, coffee)</td>\n",
              "      <td>697.311304</td>\n",
              "    </tr>\n",
              "    <tr>\n",
              "      <th>1160</th>\n",
              "      <td>(bottom, of, coffee)</td>\n",
              "      <td>651.441234</td>\n",
              "    </tr>\n",
              "    <tr>\n",
              "      <th>1701</th>\n",
              "      <td>(lot, of, coffee)</td>\n",
              "      <td>568.896790</td>\n",
              "    </tr>\n",
              "    <tr>\n",
              "      <th>1827</th>\n",
              "      <td>(kind, of, coffee)</td>\n",
              "      <td>539.243005</td>\n",
              "    </tr>\n",
              "    <tr>\n",
              "      <th>1943</th>\n",
              "      <td>(instead, of, coffee)</td>\n",
              "      <td>509.208066</td>\n",
              "    </tr>\n",
              "    <tr>\n",
              "      <th>2086</th>\n",
              "      <td>(amount, of, coffee)</td>\n",
              "      <td>493.225021</td>\n",
              "    </tr>\n",
              "    <tr>\n",
              "      <th>2272</th>\n",
              "      <td>(ton, of, coffee)</td>\n",
              "      <td>470.190093</td>\n",
              "    </tr>\n",
              "    <tr>\n",
              "      <th>2598</th>\n",
              "      <td>(brand, of, coffee)</td>\n",
              "      <td>433.516903</td>\n",
              "    </tr>\n",
              "  </tbody>\n",
              "</table>\n",
              "</div>"
            ],
            "text/plain": [
              "                    trigram  likelihood ratio\n",
              "878   (waste, of, money)     794.970356      \n",
              "924   (pot, of, coffee)      770.743873      \n",
              "1066  (cup, of, coffee)      697.311304      \n",
              "1160  (bottom, of, coffee)   651.441234      \n",
              "1701  (lot, of, coffee)      568.896790      \n",
              "1827  (kind, of, coffee)     539.243005      \n",
              "1943  (instead, of, coffee)  509.208066      \n",
              "2086  (amount, of, coffee)   493.225021      \n",
              "2272  (ton, of, coffee)      470.190093      \n",
              "2598  (brand, of, coffee)    433.516903      "
            ]
          },
          "metadata": {
            "tags": []
          },
          "execution_count": 76
        }
      ]
    },
    {
      "cell_type": "code",
      "metadata": {
        "id": "gZFbs_wBhUMb"
      },
      "source": [
        ""
      ],
      "execution_count": null,
      "outputs": []
    },
    {
      "cell_type": "code",
      "metadata": {
        "id": "SU_tyOj6hUSm"
      },
      "source": [
        ""
      ],
      "execution_count": null,
      "outputs": []
    },
    {
      "cell_type": "code",
      "metadata": {
        "id": "iLhasOgZhUVt"
      },
      "source": [
        ""
      ],
      "execution_count": null,
      "outputs": []
    },
    {
      "cell_type": "code",
      "metadata": {
        "id": "dOW5sdJ1hUac"
      },
      "source": [
        ""
      ],
      "execution_count": null,
      "outputs": []
    },
    {
      "cell_type": "code",
      "metadata": {
        "id": "_EOr7R1umqTI"
      },
      "source": [
        "def remove_stopwords(sentence):\n",
        "  new_sentence = \" \".join([word for word in sentence if word not in nltk_stopwords])\n",
        "  return new_sentence\n",
        "cleaned_sentences = [remove_stopwords(sentence.split()) for sentence in sentences]"
      ],
      "execution_count": null,
      "outputs": []
    },
    {
      "cell_type": "code",
      "metadata": {
        "id": "QZJm27k1sKJr"
      },
      "source": [
        "\n",
        "cleaned_sentences= [ lemmatize(sentence) for sentence in cleaned_sentences]"
      ],
      "execution_count": null,
      "outputs": []
    },
    {
      "cell_type": "code",
      "metadata": {
        "colab": {
          "base_uri": "https://localhost:8080/"
        },
        "id": "Cw3TQgpEr3lt",
        "outputId": "ea2aa0b5-fa8a-452c-bfb5-5cb1416939e9"
      },
      "source": [
        "cleaned_sentences= [token for token_list in cleaned_sentences for token in token_list]\n",
        "cleaned_sentences[:10]"
      ],
      "execution_count": null,
      "outputs": [
        {
          "output_type": "execute_result",
          "data": {
            "text/plain": [
              "['last',\n",
              " 'coffee',\n",
              " 'maker',\n",
              " 'cheapest',\n",
              " 'one',\n",
              " 'saw',\n",
              " 'store.',\n",
              " 'lasted',\n",
              " 'almost',\n",
              " '5']"
            ]
          },
          "metadata": {
            "tags": []
          },
          "execution_count": 11
        }
      ]
    },
    {
      "cell_type": "code",
      "metadata": {
        "id": "mPR-TWm1lwlo"
      },
      "source": [
        "bigram_finder= nltk.collocations.BigramCollocationFinder.from_words(cleaned_sentences)\n",
        "dictionary_bigram_frequency= bigram_finder.ngram_fd\n",
        "dictionary_bigram_frequency"
      ],
      "execution_count": null,
      "outputs": []
    },
    {
      "cell_type": "code",
      "metadata": {
        "colab": {
          "base_uri": "https://localhost:8080/",
          "height": 201
        },
        "id": "X28E8xlr3p9w",
        "outputId": "da6ef733-09a3-4906-dab2-f2201779cec4"
      },
      "source": [
        "df_bigram_frequency = pd.DataFrame(dictionary_bigram_frequency.items(), columns=['bigram','frequency']).sort_values(by='frequency', ascending=False)\n",
        "df_bigram_frequency.reset_index(inplace=True, drop=True)\n",
        "df_bigram_frequency.head()"
      ],
      "execution_count": null,
      "outputs": [
        {
          "output_type": "execute_result",
          "data": {
            "text/html": [
              "<div>\n",
              "<style scoped>\n",
              "    .dataframe tbody tr th:only-of-type {\n",
              "        vertical-align: middle;\n",
              "    }\n",
              "\n",
              "    .dataframe tbody tr th {\n",
              "        vertical-align: top;\n",
              "    }\n",
              "\n",
              "    .dataframe thead th {\n",
              "        text-align: right;\n",
              "    }\n",
              "</style>\n",
              "<table border=\"1\" class=\"dataframe\">\n",
              "  <thead>\n",
              "    <tr style=\"text-align: right;\">\n",
              "      <th></th>\n",
              "      <th>bigram</th>\n",
              "      <th>frequency</th>\n",
              "    </tr>\n",
              "  </thead>\n",
              "  <tbody>\n",
              "    <tr>\n",
              "      <th>0</th>\n",
              "      <td>(knife, block)</td>\n",
              "      <td>48</td>\n",
              "    </tr>\n",
              "    <tr>\n",
              "      <th>1</th>\n",
              "      <td>(knife, holder)</td>\n",
              "      <td>21</td>\n",
              "    </tr>\n",
              "    <tr>\n",
              "      <th>2</th>\n",
              "      <td>(hold, knife)</td>\n",
              "      <td>18</td>\n",
              "    </tr>\n",
              "    <tr>\n",
              "      <th>3</th>\n",
              "      <td>(look, great)</td>\n",
              "      <td>13</td>\n",
              "    </tr>\n",
              "    <tr>\n",
              "      <th>4</th>\n",
              "      <td>(counter, space)</td>\n",
              "      <td>12</td>\n",
              "    </tr>\n",
              "  </tbody>\n",
              "</table>\n",
              "</div>"
            ],
            "text/plain": [
              "             bigram  frequency\n",
              "0  (knife, block)    48       \n",
              "1  (knife, holder)   21       \n",
              "2  (hold, knife)     18       \n",
              "3  (look, great)     13       \n",
              "4  (counter, space)  12       "
            ]
          },
          "metadata": {
            "tags": []
          },
          "execution_count": 46
        }
      ]
    },
    {
      "cell_type": "code",
      "metadata": {
        "id": "Ze3ZKsgq4gou"
      },
      "source": [
        "sample_review='This product is good quality, well-made and available at a good price! Lovely product. Amazon provided a strong good packaging and a value for money product. High quality and it looks expensive too, very well made, very stylish, very sturdy'\n",
        "sample_review= sample_review.lower()\n",
        "sample_review_comments=''\n",
        "for review in sample_review:\n",
        "  sample_review_comments= sample_review_comments + ''+ review\n",
        "sample_review_sentences= sent_tokenize(sample_review_comments)\n",
        "# cleaned_sample_review = [remove_stopwords(sentence.split()) for sentence in sample_review_sentences]\n",
        "cleaned_sample_review= [ remove_punctuations (sentence)for sentence in cleaned_sample_review]\n",
        "cleaned_sample_review= [ lemmatize(sentence) for sentence in cleaned_sample_review]\n",
        "cleaned_sentences= [token for token_list in cleaned_sentences for token in token_list]"
      ],
      "execution_count": null,
      "outputs": []
    },
    {
      "cell_type": "code",
      "metadata": {
        "colab": {
          "base_uri": "https://localhost:8080/",
          "height": 48
        },
        "id": "pTuEdPGmGh4F",
        "outputId": "7faf33f6-480e-4626-8f48-f8dec7204189"
      },
      "source": [
        "df_bigram_frequency[df_bigram_frequency['accepted_bigrams']==1]"
      ],
      "execution_count": null,
      "outputs": [
        {
          "output_type": "execute_result",
          "data": {
            "text/html": [
              "<div>\n",
              "<style scoped>\n",
              "    .dataframe tbody tr th:only-of-type {\n",
              "        vertical-align: middle;\n",
              "    }\n",
              "\n",
              "    .dataframe tbody tr th {\n",
              "        vertical-align: top;\n",
              "    }\n",
              "\n",
              "    .dataframe thead th {\n",
              "        text-align: right;\n",
              "    }\n",
              "</style>\n",
              "<table border=\"1\" class=\"dataframe\">\n",
              "  <thead>\n",
              "    <tr style=\"text-align: right;\">\n",
              "      <th></th>\n",
              "      <th>bigram</th>\n",
              "      <th>frequency</th>\n",
              "      <th>pos_tag</th>\n",
              "      <th>accepted_bigrams</th>\n",
              "    </tr>\n",
              "  </thead>\n",
              "  <tbody>\n",
              "  </tbody>\n",
              "</table>\n",
              "</div>"
            ],
            "text/plain": [
              "Empty DataFrame\n",
              "Columns: [bigram, frequency, pos_tag, accepted_bigrams]\n",
              "Index: []"
            ]
          },
          "metadata": {
            "tags": []
          },
          "execution_count": 19
        }
      ]
    },
    {
      "cell_type": "code",
      "metadata": {
        "id": "RVerIwLUlhM2"
      },
      "source": [
        "#change to camelcase :Done\n",
        "#apply spell check\n",
        "#clean up extra spaces and periods\n"
      ],
      "execution_count": null,
      "outputs": []
    }
  ]
}